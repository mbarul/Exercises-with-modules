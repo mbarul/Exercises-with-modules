{
 "cells": [
  {
   "cell_type": "markdown",
   "id": "7e18c90f",
   "metadata": {},
   "source": [
    "### Class instance"
   ]
  },
  {
   "cell_type": "code",
   "execution_count": 2,
   "id": "667d6a15",
   "metadata": {},
   "outputs": [
    {
     "data": {
      "text/plain": [
       "mappingproxy({'__module__': '__main__',\n",
       "              'language': 'ENG',\n",
       "              'show': <function __main__.Book.show()>,\n",
       "              '__dict__': <attribute '__dict__' of 'Book' objects>,\n",
       "              '__weakref__': <attribute '__weakref__' of 'Book' objects>,\n",
       "              '__doc__': None})"
      ]
     },
     "execution_count": 2,
     "metadata": {},
     "output_type": "execute_result"
    }
   ],
   "source": [
    "class Book:\n",
    "    language = 'ENG'\n",
    "    \n",
    "    def show():\n",
    "        print(f\"Language{Book.language}\")\n",
    "        \n",
    "Book.__dict__"
   ]
  },
  {
   "cell_type": "code",
   "execution_count": 6,
   "id": "9e878927",
   "metadata": {},
   "outputs": [
    {
     "data": {
      "text/plain": [
       "<__main__.Book at 0x2088596c1f0>"
      ]
     },
     "execution_count": 6,
     "metadata": {},
     "output_type": "execute_result"
    }
   ],
   "source": [
    "Book()"
   ]
  },
  {
   "cell_type": "code",
   "execution_count": 5,
   "id": "857125a3",
   "metadata": {},
   "outputs": [
    {
     "data": {
      "text/plain": [
       "<__main__.Book at 0x2088596cc40>"
      ]
     },
     "execution_count": 5,
     "metadata": {},
     "output_type": "execute_result"
    }
   ],
   "source": [
    "book1 = Book()\n",
    "book1"
   ]
  },
  {
   "cell_type": "code",
   "execution_count": 7,
   "id": "f41bd0c8",
   "metadata": {},
   "outputs": [
    {
     "data": {
      "text/plain": [
       "(__main__.Book, type)"
      ]
     },
     "execution_count": 7,
     "metadata": {},
     "output_type": "execute_result"
    }
   ],
   "source": [
    "type(book1), type(Book)"
   ]
  },
  {
   "cell_type": "code",
   "execution_count": 10,
   "id": "84d5285c",
   "metadata": {},
   "outputs": [
    {
     "data": {
      "text/plain": [
       "True"
      ]
     },
     "execution_count": 10,
     "metadata": {},
     "output_type": "execute_result"
    }
   ],
   "source": [
    "isinstance(book1, Book)"
   ]
  },
  {
   "cell_type": "code",
   "execution_count": 11,
   "id": "04b8b0c7",
   "metadata": {},
   "outputs": [
    {
     "data": {
      "text/plain": [
       "{}"
      ]
     },
     "execution_count": 11,
     "metadata": {},
     "output_type": "execute_result"
    }
   ],
   "source": [
    "book1.__dict__"
   ]
  },
  {
   "cell_type": "code",
   "execution_count": 12,
   "id": "bc592517",
   "metadata": {},
   "outputs": [],
   "source": [
    "book2 = Book()"
   ]
  },
  {
   "cell_type": "code",
   "execution_count": 13,
   "id": "9d1390a0",
   "metadata": {},
   "outputs": [
    {
     "data": {
      "text/plain": [
       "(<__main__.Book at 0x2088596cc40>, <__main__.Book at 0x2088596cf70>)"
      ]
     },
     "execution_count": 13,
     "metadata": {},
     "output_type": "execute_result"
    }
   ],
   "source": [
    "book1, book2"
   ]
  },
  {
   "cell_type": "code",
   "execution_count": 14,
   "id": "f55a5161",
   "metadata": {},
   "outputs": [
    {
     "data": {
      "text/plain": [
       "mappingproxy({'__module__': '__main__',\n",
       "              'language': 'ENG',\n",
       "              'show': <function __main__.Book.show()>,\n",
       "              '__dict__': <attribute '__dict__' of 'Book' objects>,\n",
       "              '__weakref__': <attribute '__weakref__' of 'Book' objects>,\n",
       "              '__doc__': None,\n",
       "              'author': 'Adam Mickiewicz'})"
      ]
     },
     "execution_count": 14,
     "metadata": {},
     "output_type": "execute_result"
    }
   ],
   "source": [
    "Book.author = 'Adam Mickiewicz'\n",
    "Book.__dict__"
   ]
  },
  {
   "cell_type": "code",
   "execution_count": 15,
   "id": "e1b41c8b",
   "metadata": {},
   "outputs": [
    {
     "data": {
      "text/plain": [
       "'Adam Mickiewicz'"
      ]
     },
     "execution_count": 15,
     "metadata": {},
     "output_type": "execute_result"
    }
   ],
   "source": [
    "book1.author"
   ]
  },
  {
   "cell_type": "code",
   "execution_count": 16,
   "id": "36e54a8e",
   "metadata": {},
   "outputs": [],
   "source": [
    "book1.author = 'Stanisław Lem'"
   ]
  },
  {
   "cell_type": "code",
   "execution_count": 17,
   "id": "6a07a22b",
   "metadata": {},
   "outputs": [
    {
     "data": {
      "text/plain": [
       "('Stanisław Lem', 'Adam Mickiewicz')"
      ]
     },
     "execution_count": 17,
     "metadata": {},
     "output_type": "execute_result"
    }
   ],
   "source": [
    "book1.author, book2.author"
   ]
  },
  {
   "cell_type": "code",
   "execution_count": 18,
   "id": "c58a7579",
   "metadata": {},
   "outputs": [
    {
     "data": {
      "text/plain": [
       "({'author': 'Stanisław Lem'}, {})"
      ]
     },
     "execution_count": 18,
     "metadata": {},
     "output_type": "execute_result"
    }
   ],
   "source": [
    "book1.__dict__, book2.__dict__"
   ]
  },
  {
   "cell_type": "code",
   "execution_count": 19,
   "id": "c131adf7",
   "metadata": {},
   "outputs": [],
   "source": [
    "del book1.author"
   ]
  },
  {
   "cell_type": "code",
   "execution_count": 20,
   "id": "60097156",
   "metadata": {},
   "outputs": [
    {
     "data": {
      "text/plain": [
       "({}, {})"
      ]
     },
     "execution_count": 20,
     "metadata": {},
     "output_type": "execute_result"
    }
   ],
   "source": [
    "book1.__dict__, book2.__dict__"
   ]
  },
  {
   "cell_type": "code",
   "execution_count": 21,
   "id": "3430034a",
   "metadata": {},
   "outputs": [
    {
     "data": {
      "text/plain": [
       "mappingproxy({'__module__': '__main__',\n",
       "              'first_name': 'Jan',\n",
       "              'name': 'Kowalski',\n",
       "              '__dict__': <attribute '__dict__' of 'Person' objects>,\n",
       "              '__weakref__': <attribute '__weakref__' of 'Person' objects>,\n",
       "              '__doc__': None})"
      ]
     },
     "execution_count": 21,
     "metadata": {},
     "output_type": "execute_result"
    }
   ],
   "source": [
    "class Person:\n",
    "    first_name= 'Jan'\n",
    "    name = 'Kowalski'\n",
    "    \n",
    "Person.__dict__"
   ]
  },
  {
   "cell_type": "code",
   "execution_count": 23,
   "id": "e1d3bbc1",
   "metadata": {},
   "outputs": [
    {
     "data": {
      "text/plain": [
       "[<__main__.Person at 0x20885a585b0>,\n",
       " <__main__.Person at 0x20885a587c0>,\n",
       " <__main__.Person at 0x20885a581f0>]"
      ]
     },
     "execution_count": 23,
     "metadata": {},
     "output_type": "execute_result"
    }
   ],
   "source": [
    "people = [Person(), Person(),Person()]\n",
    "people"
   ]
  },
  {
   "cell_type": "code",
   "execution_count": 26,
   "id": "1e84325f",
   "metadata": {},
   "outputs": [
    {
     "name": "stdout",
     "output_type": "stream",
     "text": [
      " Jan Kowalski\n",
      " Jan Kowalski\n",
      " Jan Kowalski\n"
     ]
    }
   ],
   "source": [
    "for person in people:\n",
    "    print(f' {person.first_name} {person.name}')"
   ]
  },
  {
   "cell_type": "code",
   "execution_count": 30,
   "id": "8869c659",
   "metadata": {},
   "outputs": [
    {
     "name": "stdout",
     "output_type": "stream",
     "text": [
      " Jan Kowalski, age: 25\n",
      " Jan Kowalski, age: 26\n",
      " Jan Kowalski, age: 27\n"
     ]
    }
   ],
   "source": [
    "ages = [25,26,27]\n",
    "\n",
    "for person, value in zip(people, ages):\n",
    "    #person.age = value\n",
    "    setattr(person, 'age', value)\n",
    "for person in people:\n",
    "    print(f' {person.first_name} {person.name}, age: {person.age}')"
   ]
  },
  {
   "cell_type": "code",
   "execution_count": 38,
   "id": "8656dffc",
   "metadata": {},
   "outputs": [
    {
     "name": "stdout",
     "output_type": "stream",
     "text": [
      "Author: Adam Mickiewicz\n",
      "Language: PL\n"
     ]
    }
   ],
   "source": [
    "class Book:\n",
    "    language='PL'\n",
    "    author='Adam Mickiewicz'\n",
    "    \n",
    "    def show_details():\n",
    "        print(f'Author: {Book.author}\\nLanguage: {Book.language}')\n",
    "              \n",
    "Book.show_details()     "
   ]
  },
  {
   "cell_type": "code",
   "execution_count": 39,
   "id": "ef0132ae",
   "metadata": {},
   "outputs": [],
   "source": [
    "Book.show_language = lambda: print(f' Language: {Book.language}')"
   ]
  },
  {
   "cell_type": "code",
   "execution_count": 40,
   "id": "a80365da",
   "metadata": {},
   "outputs": [
    {
     "name": "stdout",
     "output_type": "stream",
     "text": [
      " Language: PL\n"
     ]
    }
   ],
   "source": [
    "Book.show_language()"
   ]
  },
  {
   "cell_type": "code",
   "execution_count": 41,
   "id": "2a4e8db6",
   "metadata": {},
   "outputs": [
    {
     "data": {
      "text/plain": [
       "{}"
      ]
     },
     "execution_count": 41,
     "metadata": {},
     "output_type": "execute_result"
    }
   ],
   "source": [
    "book1 = Book()\n",
    "book1.__dict__"
   ]
  },
  {
   "cell_type": "code",
   "execution_count": 43,
   "id": "aef76634",
   "metadata": {},
   "outputs": [
    {
     "ename": "TypeError",
     "evalue": "show_details() takes 0 positional arguments but 1 was given",
     "output_type": "error",
     "traceback": [
      "\u001b[1;31m---------------------------------------------------------------------------\u001b[0m",
      "\u001b[1;31mTypeError\u001b[0m                                 Traceback (most recent call last)",
      "\u001b[1;32m<ipython-input-43-40abf9f7ba87>\u001b[0m in \u001b[0;36m<module>\u001b[1;34m\u001b[0m\n\u001b[1;32m----> 1\u001b[1;33m \u001b[0mbook1\u001b[0m\u001b[1;33m.\u001b[0m\u001b[0mshow_details\u001b[0m\u001b[1;33m(\u001b[0m\u001b[1;33m)\u001b[0m\u001b[1;33m\u001b[0m\u001b[1;33m\u001b[0m\u001b[0m\n\u001b[0m",
      "\u001b[1;31mTypeError\u001b[0m: show_details() takes 0 positional arguments but 1 was given"
     ]
    }
   ],
   "source": [
    "book1.show_details()"
   ]
  },
  {
   "cell_type": "code",
   "execution_count": 45,
   "id": "235557e3",
   "metadata": {},
   "outputs": [
    {
     "data": {
      "text/plain": [
       "(function, method)"
      ]
     },
     "execution_count": 45,
     "metadata": {},
     "output_type": "execute_result"
    }
   ],
   "source": [
    "type(Book.show_details), type(book1.show_details)"
   ]
  },
  {
   "cell_type": "code",
   "execution_count": 47,
   "id": "137e62db",
   "metadata": {},
   "outputs": [
    {
     "data": {
      "text/plain": [
       "mappingproxy({'__module__': '__main__',\n",
       "              'language': 'PL',\n",
       "              'author': 'Adam Mickiewicz',\n",
       "              'show_details': <function __main__.Book.show_details(*args)>,\n",
       "              '__dict__': <attribute '__dict__' of 'Book' objects>,\n",
       "              '__weakref__': <attribute '__weakref__' of 'Book' objects>,\n",
       "              '__doc__': None})"
      ]
     },
     "execution_count": 47,
     "metadata": {},
     "output_type": "execute_result"
    }
   ],
   "source": [
    "class Book:\n",
    "    language='PL'\n",
    "    author='Adam Mickiewicz'\n",
    "    \n",
    "    def show_details(*args):\n",
    "        print(args)\n",
    "        for arg in args:\n",
    "            print(f\"{arg} -> {type(arg)}\")\n",
    "\n",
    "Book.__dict__"
   ]
  },
  {
   "cell_type": "code",
   "execution_count": 48,
   "id": "0db9e51c",
   "metadata": {},
   "outputs": [],
   "source": [
    "book1 = Book()"
   ]
  },
  {
   "cell_type": "code",
   "execution_count": 49,
   "id": "47b0a862",
   "metadata": {},
   "outputs": [
    {
     "name": "stdout",
     "output_type": "stream",
     "text": [
      "(<__main__.Book object at 0x0000020885A58700>,)\n",
      "<__main__.Book object at 0x0000020885A58700> -> <class '__main__.Book'>\n"
     ]
    }
   ],
   "source": [
    "book1.show_details()"
   ]
  },
  {
   "cell_type": "code",
   "execution_count": 51,
   "id": "50db147b",
   "metadata": {},
   "outputs": [
    {
     "name": "stdout",
     "output_type": "stream",
     "text": [
      "(<__main__.Book object at 0x0000020885A58700>, 'Tom II', 190.0)\n",
      "<__main__.Book object at 0x0000020885A58700> -> <class '__main__.Book'>\n",
      "Tom II -> <class 'str'>\n",
      "190.0 -> <class 'float'>\n"
     ]
    }
   ],
   "source": [
    "book1.show_details('Tom II',190.00)"
   ]
  },
  {
   "cell_type": "code",
   "execution_count": 52,
   "id": "9dccc686",
   "metadata": {},
   "outputs": [
    {
     "data": {
      "text/plain": [
       "mappingproxy({'__module__': '__main__',\n",
       "              'language': 'PL',\n",
       "              'author': 'Adam Mickiewicz',\n",
       "              'set_title': <function __main__.Book.set_title(instance, value)>,\n",
       "              '__dict__': <attribute '__dict__' of 'Book' objects>,\n",
       "              '__weakref__': <attribute '__weakref__' of 'Book' objects>,\n",
       "              '__doc__': None})"
      ]
     },
     "execution_count": 52,
     "metadata": {},
     "output_type": "execute_result"
    }
   ],
   "source": [
    "class Book:\n",
    "    language = 'PL'\n",
    "    author = 'Adam Mickiewicz'\n",
    "    \n",
    "    def set_title(instance, value):\n",
    "        instance.title= value\n",
    "Book.__dict__"
   ]
  },
  {
   "cell_type": "code",
   "execution_count": 53,
   "id": "9c16b643",
   "metadata": {},
   "outputs": [
    {
     "data": {
      "text/plain": [
       "<__main__.Book at 0x20885a6d790>"
      ]
     },
     "execution_count": 53,
     "metadata": {},
     "output_type": "execute_result"
    }
   ],
   "source": [
    "book1 = Book()\n",
    "book1"
   ]
  },
  {
   "cell_type": "code",
   "execution_count": 54,
   "id": "bd25f1c1",
   "metadata": {},
   "outputs": [],
   "source": [
    "book1.set_title('Pan Taduesz')"
   ]
  },
  {
   "cell_type": "code",
   "execution_count": 55,
   "id": "2503a88b",
   "metadata": {},
   "outputs": [
    {
     "data": {
      "text/plain": [
       "'Pan Taduesz'"
      ]
     },
     "execution_count": 55,
     "metadata": {},
     "output_type": "execute_result"
    }
   ],
   "source": [
    "book1.title"
   ]
  },
  {
   "cell_type": "code",
   "execution_count": 59,
   "id": "625ff5d4",
   "metadata": {},
   "outputs": [],
   "source": [
    "Book.set_title(book1, \"Konrad Wallenrod\")"
   ]
  },
  {
   "cell_type": "code",
   "execution_count": 58,
   "id": "6da1c855",
   "metadata": {},
   "outputs": [
    {
     "data": {
      "text/plain": [
       "{'title': 'konrad Wallenrod'}"
      ]
     },
     "execution_count": 58,
     "metadata": {},
     "output_type": "execute_result"
    }
   ],
   "source": [
    "book1.__dict__\n"
   ]
  },
  {
   "cell_type": "code",
   "execution_count": 3,
   "id": "ac7493a4",
   "metadata": {},
   "outputs": [
    {
     "data": {
      "text/plain": [
       "mappingproxy({'__module__': '__main__',\n",
       "              'brand': 'Apple',\n",
       "              'short_name': 'APP',\n",
       "              '__dict__': <attribute '__dict__' of 'Phone' objects>,\n",
       "              '__weakref__': <attribute '__weakref__' of 'Phone' objects>,\n",
       "              '__doc__': None})"
      ]
     },
     "execution_count": 3,
     "metadata": {},
     "output_type": "execute_result"
    }
   ],
   "source": [
    "class Phone:\n",
    "    brand = 'Apple'\n",
    "    short_name = brand[:3].upper()\n",
    "\n",
    "Phone.__dict__"
   ]
  },
  {
   "cell_type": "code",
   "execution_count": 9,
   "id": "2e3b2b20",
   "metadata": {},
   "outputs": [],
   "source": [
    "class Phone:\n",
    "    brand = 'Apple'\n",
    "    short_name = brand[:3].upper()\n",
    "\n",
    "    def print_brand(self):\n",
    "        print(Phone.__name__)\n",
    "        print(Phone.brand)\n",
    "        print(Phone.short_name)"
   ]
  },
  {
   "cell_type": "code",
   "execution_count": 8,
   "id": "82f5300b",
   "metadata": {},
   "outputs": [
    {
     "name": "stdout",
     "output_type": "stream",
     "text": [
      "Phone\n",
      "Apple\n",
      "APP\n"
     ]
    }
   ],
   "source": [
    "Phone.print_brand()"
   ]
  },
  {
   "cell_type": "code",
   "execution_count": 11,
   "id": "6349a9af",
   "metadata": {},
   "outputs": [
    {
     "name": "stdout",
     "output_type": "stream",
     "text": [
      "Phone\n",
      "Apple\n",
      "APP\n"
     ]
    }
   ],
   "source": [
    "phone1 =Phone()\n",
    "phone1.print_brand()"
   ]
  },
  {
   "cell_type": "code",
   "execution_count": 13,
   "id": "530e81f6",
   "metadata": {},
   "outputs": [
    {
     "name": "stdout",
     "output_type": "stream",
     "text": [
      "Phone\n",
      "Apple\n",
      "APP\n"
     ]
    }
   ],
   "source": [
    "Phone.print_brand(phone1)"
   ]
  },
  {
   "cell_type": "code",
   "execution_count": 22,
   "id": "bd2c6759",
   "metadata": {},
   "outputs": [],
   "source": [
    "class Phone:\n",
    "    def __init__(self,brand):\n",
    "        self.brand = brand\n",
    "\n",
    "    def print_brand(self):\n",
    "        print(f'{self.__class__.__name__} class')\n",
    "        print(f\"Brand: {self.brand}\")"
   ]
  },
  {
   "cell_type": "code",
   "execution_count": 23,
   "id": "efcef727",
   "metadata": {},
   "outputs": [
    {
     "name": "stdout",
     "output_type": "stream",
     "text": [
      "Phone class\n",
      "Brand: Apple\n"
     ]
    }
   ],
   "source": [
    "phone1 = Phone('Apple')\n",
    "phone1.print_brand()"
   ]
  },
  {
   "cell_type": "code",
   "execution_count": 30,
   "id": "6eb9d699",
   "metadata": {},
   "outputs": [
    {
     "data": {
      "text/plain": [
       "mappingproxy({'__module__': '__main__',\n",
       "              'brand': 'Apple',\n",
       "              '__init__': <function __main__.Phone.__init__(self, brand)>,\n",
       "              'print_brand': <function __main__.Phone.print_brand(self)>,\n",
       "              '__dict__': <attribute '__dict__' of 'Phone' objects>,\n",
       "              '__weakref__': <attribute '__weakref__' of 'Phone' objects>,\n",
       "              '__doc__': None})"
      ]
     },
     "execution_count": 30,
     "metadata": {},
     "output_type": "execute_result"
    }
   ],
   "source": [
    "class Phone:\n",
    "    brand= \"Apple\"\n",
    "    def __init__(self,brand):\n",
    "        self.brand = brand\n",
    "\n",
    "    def print_brand(self):\n",
    "        print(f'Wartość atrybutu klasy: { Phone.brand}')\n",
    "        print(f\"Wartość atrybutu instancji: {self.brand}\")\n",
    "Phone.__dict__"
   ]
  },
  {
   "cell_type": "code",
   "execution_count": 31,
   "id": "029e854f",
   "metadata": {},
   "outputs": [
    {
     "name": "stdout",
     "output_type": "stream",
     "text": [
      "Wartość atrybutu klasy: Apple\n",
      "Wartość atrybutu instancji: Samsung\n"
     ]
    }
   ],
   "source": [
    "phone1 = Phone(\"Samsung\")\n",
    "phone1.print_brand()"
   ]
  },
  {
   "cell_type": "code",
   "execution_count": null,
   "id": "f91c2b1f",
   "metadata": {},
   "outputs": [],
   "source": []
  }
 ],
 "metadata": {
  "kernelspec": {
   "display_name": "Python 3",
   "language": "python",
   "name": "python3"
  },
  "language_info": {
   "codemirror_mode": {
    "name": "ipython",
    "version": 3
   },
   "file_extension": ".py",
   "mimetype": "text/x-python",
   "name": "python",
   "nbconvert_exporter": "python",
   "pygments_lexer": "ipython3",
   "version": "3.8.8"
  }
 },
 "nbformat": 4,
 "nbformat_minor": 5
}
