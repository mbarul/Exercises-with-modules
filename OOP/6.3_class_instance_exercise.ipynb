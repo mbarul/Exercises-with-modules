{
 "cells": [
  {
   "cell_type": "code",
   "execution_count": 20,
   "id": "9f9899b4",
   "metadata": {},
   "outputs": [],
   "source": [
    "class HouseProject:\n",
    "    number_of_floors = 2\n",
    "    area = 100\n",
    "    \n",
    "    def describe_project(*args):\n",
    "        print(f\"Area: {HouseProject.area} m2.\")\n",
    "        print(f\"Number of floors: {HouseProject.number_of_floors}.\")\n",
    "        \n",
    "        \n",
    "    def set_color(self, color):\n",
    "        self.color = color\n",
    "        "
   ]
  },
  {
   "cell_type": "code",
   "execution_count": 15,
   "id": "63b72047",
   "metadata": {},
   "outputs": [],
   "source": [
    "dom1 = HouseProject()\n",
    "dom2 = HouseProject()\n"
   ]
  },
  {
   "cell_type": "code",
   "execution_count": 23,
   "id": "eb16aa5b",
   "metadata": {},
   "outputs": [],
   "source": [
    "dom1.set_color('green')\n",
    "dom2.set_color('blue')"
   ]
  },
  {
   "cell_type": "code",
   "execution_count": 24,
   "id": "d9304826",
   "metadata": {},
   "outputs": [
    {
     "data": {
      "text/plain": [
       "({'color': 'green'}, {'color': 'blue'})"
      ]
     },
     "execution_count": 24,
     "metadata": {},
     "output_type": "execute_result"
    }
   ],
   "source": [
    "dom1.__dict__, dom2.__dict__"
   ]
  },
  {
   "cell_type": "code",
   "execution_count": null,
   "id": "833bfc44",
   "metadata": {},
   "outputs": [],
   "source": []
  }
 ],
 "metadata": {
  "kernelspec": {
   "display_name": "Python 3",
   "language": "python",
   "name": "python3"
  },
  "language_info": {
   "codemirror_mode": {
    "name": "ipython",
    "version": 3
   },
   "file_extension": ".py",
   "mimetype": "text/x-python",
   "name": "python",
   "nbconvert_exporter": "python",
   "pygments_lexer": "ipython3",
   "version": "3.8.8"
  }
 },
 "nbformat": 4,
 "nbformat_minor": 5
}
