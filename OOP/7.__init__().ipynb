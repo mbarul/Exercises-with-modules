{
 "cells": [
  {
   "cell_type": "code",
   "execution_count": 4,
   "id": "9c21170f",
   "metadata": {},
   "outputs": [
    {
     "name": "stdout",
     "output_type": "stream",
     "text": [
      "Inicjalizacja nowego obiektu <__main__.Phone object at 0x00000174BB6FBB80>.\n"
     ]
    }
   ],
   "source": [
    "class Phone:\n",
    "    \"\"\"Phone class.\"\"\"\n",
    "\n",
    "    def __init__(self):\n",
    "        print(f'Inicjalizacja nowego obiektu {self}.')\n",
    "        \n",
    "phone1= Phone()\n"
   ]
  },
  {
   "cell_type": "code",
   "execution_count": 5,
   "id": "d45428ea",
   "metadata": {},
   "outputs": [],
   "source": [
    "phone2 = Phone.__new__(Phone)"
   ]
  },
  {
   "cell_type": "code",
   "execution_count": 6,
   "id": "1fa8472f",
   "metadata": {},
   "outputs": [
    {
     "name": "stdout",
     "output_type": "stream",
     "text": [
      "Inicjalizacja nowego obiektu <__main__.Phone object at 0x00000174BB6FB340>.\n"
     ]
    }
   ],
   "source": [
    "phone2.__init__()"
   ]
  },
  {
   "cell_type": "code",
   "execution_count": 7,
   "id": "120ad3e4",
   "metadata": {},
   "outputs": [],
   "source": [
    "class Laptop:\n",
    "    def __init__(self, brand, model, price):\n",
    "        self.brand = brand\n",
    "        self.model= model\n",
    "        self.price = price\n",
    "laptop1 = Laptop(\"Dell\", 'G5123', 2513)\n"
   ]
  },
  {
   "cell_type": "code",
   "execution_count": 9,
   "id": "c5a69d80",
   "metadata": {},
   "outputs": [
    {
     "name": "stdout",
     "output_type": "stream",
     "text": [
      "<__main__.Laptop object at 0x00000174BB6FB880>\n"
     ]
    }
   ],
   "source": []
  },
  {
   "cell_type": "code",
   "execution_count": null,
   "id": "2cc60bfd",
   "metadata": {},
   "outputs": [],
   "source": []
  }
 ],
 "metadata": {
  "kernelspec": {
   "display_name": "Python 3",
   "language": "python",
   "name": "python3"
  },
  "language_info": {
   "codemirror_mode": {
    "name": "ipython",
    "version": 3
   },
   "file_extension": ".py",
   "mimetype": "text/x-python",
   "name": "python",
   "nbconvert_exporter": "python",
   "pygments_lexer": "ipython3",
   "version": "3.8.8"
  }
 },
 "nbformat": 4,
 "nbformat_minor": 5
}
