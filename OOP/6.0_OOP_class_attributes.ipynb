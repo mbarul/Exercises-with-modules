{
 "cells": [
  {
   "cell_type": "code",
   "execution_count": 1,
   "id": "f0badf02",
   "metadata": {},
   "outputs": [],
   "source": [
    "class Phone:\n",
    "    pass"
   ]
  },
  {
   "cell_type": "code",
   "execution_count": 2,
   "id": "5694086a",
   "metadata": {},
   "outputs": [
    {
     "name": "stdout",
     "output_type": "stream",
     "text": [
      "Help on class object in module builtins:\n",
      "\n",
      "class object\n",
      " |  The base class of the class hierarchy.\n",
      " |  \n",
      " |  When called, it accepts no arguments and returns a new featureless\n",
      " |  instance that has no instance attributes and cannot be given any.\n",
      " |  \n",
      " |  Built-in subclasses:\n",
      " |      async_generator\n",
      " |      BaseException\n",
      " |      builtin_function_or_method\n",
      " |      bytearray\n",
      " |      ... and 109 other subclasses\n",
      " |  \n",
      " |  Methods defined here:\n",
      " |  \n",
      " |  __delattr__(self, name, /)\n",
      " |      Implement delattr(self, name).\n",
      " |  \n",
      " |  __dir__(self, /)\n",
      " |      Default dir() implementation.\n",
      " |  \n",
      " |  __eq__(self, value, /)\n",
      " |      Return self==value.\n",
      " |  \n",
      " |  __format__(self, format_spec, /)\n",
      " |      Default object formatter.\n",
      " |  \n",
      " |  __ge__(self, value, /)\n",
      " |      Return self>=value.\n",
      " |  \n",
      " |  __getattribute__(self, name, /)\n",
      " |      Return getattr(self, name).\n",
      " |  \n",
      " |  __gt__(self, value, /)\n",
      " |      Return self>value.\n",
      " |  \n",
      " |  __hash__(self, /)\n",
      " |      Return hash(self).\n",
      " |  \n",
      " |  __init__(self, /, *args, **kwargs)\n",
      " |      Initialize self.  See help(type(self)) for accurate signature.\n",
      " |  \n",
      " |  __le__(self, value, /)\n",
      " |      Return self<=value.\n",
      " |  \n",
      " |  __lt__(self, value, /)\n",
      " |      Return self<value.\n",
      " |  \n",
      " |  __ne__(self, value, /)\n",
      " |      Return self!=value.\n",
      " |  \n",
      " |  __reduce__(self, /)\n",
      " |      Helper for pickle.\n",
      " |  \n",
      " |  __reduce_ex__(self, protocol, /)\n",
      " |      Helper for pickle.\n",
      " |  \n",
      " |  __repr__(self, /)\n",
      " |      Return repr(self).\n",
      " |  \n",
      " |  __setattr__(self, name, value, /)\n",
      " |      Implement setattr(self, name, value).\n",
      " |  \n",
      " |  __sizeof__(self, /)\n",
      " |      Size of object in memory, in bytes.\n",
      " |  \n",
      " |  __str__(self, /)\n",
      " |      Return str(self).\n",
      " |  \n",
      " |  ----------------------------------------------------------------------\n",
      " |  Class methods defined here:\n",
      " |  \n",
      " |  __init_subclass__(...) from builtins.type\n",
      " |      This method is called when a class is subclassed.\n",
      " |      \n",
      " |      The default implementation does nothing. It may be\n",
      " |      overridden to extend subclasses.\n",
      " |  \n",
      " |  __subclasshook__(...) from builtins.type\n",
      " |      Abstract classes can override this to customize issubclass().\n",
      " |      \n",
      " |      This is invoked early on by abc.ABCMeta.__subclasscheck__().\n",
      " |      It should return True, False or NotImplemented.  If it returns\n",
      " |      NotImplemented, the normal algorithm is used.  Otherwise, it\n",
      " |      overrides the normal algorithm (and the outcome is cached).\n",
      " |  \n",
      " |  ----------------------------------------------------------------------\n",
      " |  Static methods defined here:\n",
      " |  \n",
      " |  __new__(*args, **kwargs) from builtins.type\n",
      " |      Create and return a new object.  See help(type) for accurate signature.\n",
      " |  \n",
      " |  ----------------------------------------------------------------------\n",
      " |  Data and other attributes defined here:\n",
      " |  \n",
      " |  __class__ = <class 'type'>\n",
      " |      type(object_or_name, bases, dict)\n",
      " |      type(object) -> the object's type\n",
      " |      type(name, bases, dict) -> a new type\n",
      "\n"
     ]
    }
   ],
   "source": [
    "help(object)"
   ]
  },
  {
   "cell_type": "code",
   "execution_count": 3,
   "id": "02f17618",
   "metadata": {},
   "outputs": [
    {
     "data": {
      "text/plain": [
       "object"
      ]
     },
     "execution_count": 3,
     "metadata": {},
     "output_type": "execute_result"
    }
   ],
   "source": [
    "import builtins\n",
    "\n",
    "builtins.object"
   ]
  },
  {
   "cell_type": "code",
   "execution_count": 6,
   "id": "9e779e46",
   "metadata": {},
   "outputs": [
    {
     "name": "stdout",
     "output_type": "stream",
     "text": [
      "Help on class Phone in module __main__:\n",
      "\n",
      "class Phone(builtins.object)\n",
      " |  The Phone class!\n",
      " |  \n",
      " |  Data descriptors defined here:\n",
      " |  \n",
      " |  __dict__\n",
      " |      dictionary for instance variables (if defined)\n",
      " |  \n",
      " |  __weakref__\n",
      " |      list of weak references to the object (if defined)\n",
      "\n"
     ]
    }
   ],
   "source": [
    "class Phone:\n",
    "    \"\"\"The Phone class!\"\"\"\n",
    "\n",
    "help(Phone)"
   ]
  },
  {
   "cell_type": "code",
   "execution_count": 7,
   "id": "a169e945",
   "metadata": {},
   "outputs": [
    {
     "data": {
      "text/plain": [
       "__main__.Phone"
      ]
     },
     "execution_count": 7,
     "metadata": {},
     "output_type": "execute_result"
    }
   ],
   "source": [
    "Phone"
   ]
  },
  {
   "cell_type": "code",
   "execution_count": 8,
   "id": "d87cf3cd",
   "metadata": {},
   "outputs": [
    {
     "data": {
      "text/plain": [
       "'Phone'"
      ]
     },
     "execution_count": 8,
     "metadata": {},
     "output_type": "execute_result"
    }
   ],
   "source": [
    "Phone.__name__"
   ]
  },
  {
   "cell_type": "code",
   "execution_count": 9,
   "id": "29a5eeaa",
   "metadata": {},
   "outputs": [
    {
     "data": {
      "text/plain": [
       "'__main__'"
      ]
     },
     "execution_count": 9,
     "metadata": {},
     "output_type": "execute_result"
    }
   ],
   "source": [
    "Phone.__module__"
   ]
  },
  {
   "cell_type": "code",
   "execution_count": 10,
   "id": "d9997aa5",
   "metadata": {},
   "outputs": [
    {
     "data": {
      "text/plain": [
       "'The Phone class!'"
      ]
     },
     "execution_count": 10,
     "metadata": {},
     "output_type": "execute_result"
    }
   ],
   "source": [
    "Phone.__doc__"
   ]
  },
  {
   "cell_type": "code",
   "execution_count": 11,
   "id": "706d3a89",
   "metadata": {},
   "outputs": [
    {
     "data": {
      "text/plain": [
       "<__main__.Phone at 0x26caf1b8ee0>"
      ]
     },
     "execution_count": 11,
     "metadata": {},
     "output_type": "execute_result"
    }
   ],
   "source": [
    "Phone()"
   ]
  },
  {
   "cell_type": "code",
   "execution_count": 12,
   "id": "f1073694",
   "metadata": {},
   "outputs": [],
   "source": [
    "phone = Phone()"
   ]
  },
  {
   "cell_type": "code",
   "execution_count": 13,
   "id": "c12693e4",
   "metadata": {},
   "outputs": [
    {
     "data": {
      "text/plain": [
       "<__main__.Phone at 0x26caf1b8160>"
      ]
     },
     "execution_count": 13,
     "metadata": {},
     "output_type": "execute_result"
    }
   ],
   "source": [
    "phone"
   ]
  },
  {
   "cell_type": "code",
   "execution_count": 14,
   "id": "64b9c5d5",
   "metadata": {},
   "outputs": [
    {
     "data": {
      "text/plain": [
       "__main__.Phone"
      ]
     },
     "execution_count": 14,
     "metadata": {},
     "output_type": "execute_result"
    }
   ],
   "source": [
    "type(phone)"
   ]
  },
  {
   "cell_type": "code",
   "execution_count": 15,
   "id": "71ae8f50",
   "metadata": {},
   "outputs": [
    {
     "data": {
      "text/plain": [
       "__main__.Phone"
      ]
     },
     "execution_count": 15,
     "metadata": {},
     "output_type": "execute_result"
    }
   ],
   "source": [
    "phone.__class__"
   ]
  },
  {
   "cell_type": "code",
   "execution_count": 16,
   "id": "5ceebc8a",
   "metadata": {},
   "outputs": [
    {
     "data": {
      "text/plain": [
       "'Phone'"
      ]
     },
     "execution_count": 16,
     "metadata": {},
     "output_type": "execute_result"
    }
   ],
   "source": [
    "phone.__class__.__name__"
   ]
  },
  {
   "cell_type": "code",
   "execution_count": 17,
   "id": "cc7662d2",
   "metadata": {},
   "outputs": [
    {
     "data": {
      "text/plain": [
       "'Phone'"
      ]
     },
     "execution_count": 17,
     "metadata": {},
     "output_type": "execute_result"
    }
   ],
   "source": [
    "type(phone).__name__"
   ]
  },
  {
   "cell_type": "code",
   "execution_count": 18,
   "id": "e33ee8bb",
   "metadata": {},
   "outputs": [],
   "source": [
    "phone1 = Phone()\n",
    "phone2 = Phone()"
   ]
  },
  {
   "cell_type": "code",
   "execution_count": 19,
   "id": "8b0ef05e",
   "metadata": {},
   "outputs": [
    {
     "data": {
      "text/plain": [
       "(<__main__.Phone at 0x26caf1b8dc0>, <__main__.Phone at 0x26caf1b8f70>)"
      ]
     },
     "execution_count": 19,
     "metadata": {},
     "output_type": "execute_result"
    }
   ],
   "source": [
    "phone1, phone2"
   ]
  },
  {
   "cell_type": "code",
   "execution_count": 20,
   "id": "bf584b19",
   "metadata": {},
   "outputs": [
    {
     "name": "stdout",
     "output_type": "stream",
     "text": [
      "Help on built-in function id in module builtins:\n",
      "\n",
      "id(obj, /)\n",
      "    Return the identity of an object.\n",
      "    \n",
      "    This is guaranteed to be unique among simultaneously existing objects.\n",
      "    (CPython uses the object's memory address.)\n",
      "\n"
     ]
    }
   ],
   "source": [
    "help(id)"
   ]
  },
  {
   "cell_type": "code",
   "execution_count": 21,
   "id": "5c8bfe93",
   "metadata": {},
   "outputs": [
    {
     "data": {
      "text/plain": [
       "(2665817542080, 2665817542512)"
      ]
     },
     "execution_count": 21,
     "metadata": {},
     "output_type": "execute_result"
    }
   ],
   "source": [
    "id(phone1), id(phone2)"
   ]
  },
  {
   "cell_type": "code",
   "execution_count": 22,
   "id": "23c470ca",
   "metadata": {},
   "outputs": [
    {
     "data": {
      "text/plain": [
       "False"
      ]
     },
     "execution_count": 22,
     "metadata": {},
     "output_type": "execute_result"
    }
   ],
   "source": [
    "phone1 is phone2"
   ]
  },
  {
   "cell_type": "code",
   "execution_count": 23,
   "id": "f732d398",
   "metadata": {},
   "outputs": [],
   "source": [
    "class HouseProject:\n",
    "    \n",
    "    def __init__(self, type_of_project):\n",
    "        self.type_of_project = type_of_project"
   ]
  },
  {
   "cell_type": "code",
   "execution_count": 27,
   "id": "08cf2ef2",
   "metadata": {},
   "outputs": [
    {
     "data": {
      "text/plain": [
       "<__main__.HouseProject at 0x26caf1b86d0>"
      ]
     },
     "execution_count": 27,
     "metadata": {},
     "output_type": "execute_result"
    }
   ],
   "source": [
    "project = HouseProject('dom jednorodzinny')\n",
    "project\n"
   ]
  },
  {
   "cell_type": "code",
   "execution_count": 26,
   "id": "a79095a9",
   "metadata": {},
   "outputs": [
    {
     "data": {
      "text/plain": [
       "__main__.HouseProject"
      ]
     },
     "execution_count": 26,
     "metadata": {},
     "output_type": "execute_result"
    }
   ],
   "source": [
    "type(project)"
   ]
  },
  {
   "cell_type": "code",
   "execution_count": 28,
   "id": "7e5ff865",
   "metadata": {},
   "outputs": [
    {
     "data": {
      "text/plain": [
       "'dom jednorodzinny'"
      ]
     },
     "execution_count": 28,
     "metadata": {},
     "output_type": "execute_result"
    }
   ],
   "source": [
    "project.type_of_project"
   ]
  },
  {
   "cell_type": "code",
   "execution_count": 29,
   "id": "a98694f5",
   "metadata": {},
   "outputs": [
    {
     "data": {
      "text/plain": [
       "<__main__.HouseProject at 0x26caf17b340>"
      ]
     },
     "execution_count": 29,
     "metadata": {},
     "output_type": "execute_result"
    }
   ],
   "source": [
    "project2= HouseProject.__new__(HouseProject)\n",
    "project2"
   ]
  },
  {
   "cell_type": "code",
   "execution_count": 31,
   "id": "d6d1a0bc",
   "metadata": {},
   "outputs": [],
   "source": [
    "project2.__init__('dom wielorodzinny')"
   ]
  },
  {
   "cell_type": "code",
   "execution_count": 32,
   "id": "a0570221",
   "metadata": {},
   "outputs": [
    {
     "data": {
      "text/plain": [
       "'dom wielorodzinny'"
      ]
     },
     "execution_count": 32,
     "metadata": {},
     "output_type": "execute_result"
    }
   ],
   "source": [
    "project2.type_of_project"
   ]
  },
  {
   "cell_type": "code",
   "execution_count": 33,
   "id": "d9f2d4e1",
   "metadata": {},
   "outputs": [
    {
     "data": {
      "text/plain": [
       "True"
      ]
     },
     "execution_count": 33,
     "metadata": {},
     "output_type": "execute_result"
    }
   ],
   "source": [
    "isinstance(project, HouseProject)"
   ]
  },
  {
   "cell_type": "code",
   "execution_count": 47,
   "id": "e72fb308",
   "metadata": {},
   "outputs": [
    {
     "data": {
      "text/plain": [
       "['BooleanDtype',\n",
       " 'Categorical',\n",
       " 'CategoricalDtype',\n",
       " 'CategoricalIndex',\n",
       " 'DataFrame',\n",
       " 'DateOffset',\n",
       " 'DatetimeIndex',\n",
       " 'DatetimeTZDtype',\n",
       " 'ExcelFile',\n",
       " 'ExcelWriter',\n",
       " 'Flags',\n",
       " 'Float32Dtype',\n",
       " 'Float64Dtype',\n",
       " 'Float64Index',\n",
       " 'Grouper',\n",
       " 'HDFStore',\n",
       " 'Index',\n",
       " 'IndexSlice',\n",
       " 'Int16Dtype',\n",
       " 'Int32Dtype',\n",
       " 'Int64Dtype',\n",
       " 'Int64Index',\n",
       " 'Int8Dtype',\n",
       " 'Interval',\n",
       " 'IntervalDtype',\n",
       " 'IntervalIndex',\n",
       " 'MultiIndex',\n",
       " 'NA',\n",
       " 'NaT',\n",
       " 'NamedAgg',\n",
       " 'Period',\n",
       " 'PeriodDtype',\n",
       " 'PeriodIndex',\n",
       " 'RangeIndex',\n",
       " 'Series',\n",
       " 'SparseDtype',\n",
       " 'StringDtype',\n",
       " 'Timedelta',\n",
       " 'TimedeltaIndex',\n",
       " 'Timestamp',\n",
       " 'UInt16Dtype',\n",
       " 'UInt32Dtype',\n",
       " 'UInt64Dtype',\n",
       " 'UInt64Index',\n",
       " 'UInt8Dtype',\n",
       " '__builtins__',\n",
       " '__cached__',\n",
       " '__doc__',\n",
       " '__docformat__',\n",
       " '__file__',\n",
       " '__getattr__',\n",
       " '__git_version__',\n",
       " '__loader__',\n",
       " '__name__',\n",
       " '__package__',\n",
       " '__path__',\n",
       " '__spec__',\n",
       " '__version__',\n",
       " '_config',\n",
       " '_hashtable',\n",
       " '_is_numpy_dev',\n",
       " '_lib',\n",
       " '_libs',\n",
       " '_np_version_under1p17',\n",
       " '_np_version_under1p18',\n",
       " '_testing',\n",
       " '_tslib',\n",
       " '_typing',\n",
       " '_version',\n",
       " 'api',\n",
       " 'array',\n",
       " 'arrays',\n",
       " 'bdate_range',\n",
       " 'compat',\n",
       " 'concat',\n",
       " 'core',\n",
       " 'crosstab',\n",
       " 'cut',\n",
       " 'date_range',\n",
       " 'describe_option',\n",
       " 'errors',\n",
       " 'eval',\n",
       " 'factorize',\n",
       " 'get_dummies',\n",
       " 'get_option',\n",
       " 'infer_freq',\n",
       " 'interval_range',\n",
       " 'io',\n",
       " 'isna',\n",
       " 'isnull',\n",
       " 'json_normalize',\n",
       " 'lreshape',\n",
       " 'melt',\n",
       " 'merge',\n",
       " 'merge_asof',\n",
       " 'merge_ordered',\n",
       " 'notna',\n",
       " 'notnull',\n",
       " 'offsets',\n",
       " 'option_context',\n",
       " 'options',\n",
       " 'pandas',\n",
       " 'period_range',\n",
       " 'pivot',\n",
       " 'pivot_table',\n",
       " 'plotting',\n",
       " 'qcut',\n",
       " 'read_clipboard',\n",
       " 'read_csv',\n",
       " 'read_excel',\n",
       " 'read_feather',\n",
       " 'read_fwf',\n",
       " 'read_gbq',\n",
       " 'read_hdf',\n",
       " 'read_html',\n",
       " 'read_json',\n",
       " 'read_orc',\n",
       " 'read_parquet',\n",
       " 'read_pickle',\n",
       " 'read_sas',\n",
       " 'read_spss',\n",
       " 'read_sql',\n",
       " 'read_sql_query',\n",
       " 'read_sql_table',\n",
       " 'read_stata',\n",
       " 'read_table',\n",
       " 'reset_option',\n",
       " 'set_eng_float_format',\n",
       " 'set_option',\n",
       " 'show_versions',\n",
       " 'test',\n",
       " 'testing',\n",
       " 'timedelta_range',\n",
       " 'to_datetime',\n",
       " 'to_numeric',\n",
       " 'to_pickle',\n",
       " 'to_timedelta',\n",
       " 'tseries',\n",
       " 'unique',\n",
       " 'util',\n",
       " 'value_counts',\n",
       " 'wide_to_long']"
      ]
     },
     "execution_count": 47,
     "metadata": {},
     "output_type": "execute_result"
    }
   ],
   "source": [
    "import pandas as pd\n",
    "\n",
    "\n",
    "dir(pd)"
   ]
  },
  {
   "cell_type": "code",
   "execution_count": 37,
   "id": "79c78ae0",
   "metadata": {},
   "outputs": [
    {
     "data": {
      "text/plain": [
       "'C:\\\\Users\\\\marek.barul\\\\anaconda3\\\\lib\\\\site-packages\\\\pandas\\\\__init__.py'"
      ]
     },
     "execution_count": 37,
     "metadata": {},
     "output_type": "execute_result"
    }
   ],
   "source": [
    "pd.__file__"
   ]
  },
  {
   "cell_type": "code",
   "execution_count": 39,
   "id": "f7d03685",
   "metadata": {},
   "outputs": [
    {
     "name": "stdout",
     "output_type": "stream",
     "text": [
      "\n",
      "pandas - a powerful data analysis and manipulation library for Python\n",
      "=====================================================================\n",
      "\n",
      "**pandas** is a Python package providing fast, flexible, and expressive data\n",
      "structures designed to make working with \"relational\" or \"labeled\" data both\n",
      "easy and intuitive. It aims to be the fundamental high-level building block for\n",
      "doing practical, **real world** data analysis in Python. Additionally, it has\n",
      "the broader goal of becoming **the most powerful and flexible open source data\n",
      "analysis / manipulation tool available in any language**. It is already well on\n",
      "its way toward this goal.\n",
      "\n",
      "Main Features\n",
      "-------------\n",
      "Here are just a few of the things that pandas does well:\n",
      "\n",
      "  - Easy handling of missing data in floating point as well as non-floating\n",
      "    point data.\n",
      "  - Size mutability: columns can be inserted and deleted from DataFrame and\n",
      "    higher dimensional objects\n",
      "  - Automatic and explicit data alignment: objects can be explicitly aligned\n",
      "    to a set of labels, or the user can simply ignore the labels and let\n",
      "    `Series`, `DataFrame`, etc. automatically align the data for you in\n",
      "    computations.\n",
      "  - Powerful, flexible group by functionality to perform split-apply-combine\n",
      "    operations on data sets, for both aggregating and transforming data.\n",
      "  - Make it easy to convert ragged, differently-indexed data in other Python\n",
      "    and NumPy data structures into DataFrame objects.\n",
      "  - Intelligent label-based slicing, fancy indexing, and subsetting of large\n",
      "    data sets.\n",
      "  - Intuitive merging and joining data sets.\n",
      "  - Flexible reshaping and pivoting of data sets.\n",
      "  - Hierarchical labeling of axes (possible to have multiple labels per tick).\n",
      "  - Robust IO tools for loading data from flat files (CSV and delimited),\n",
      "    Excel files, databases, and saving/loading data from the ultrafast HDF5\n",
      "    format.\n",
      "  - Time series-specific functionality: date range generation and frequency\n",
      "    conversion, moving window statistics, date shifting and lagging.\n",
      "\n"
     ]
    }
   ],
   "source": [
    "print(pd.__doc__)"
   ]
  },
  {
   "cell_type": "code",
   "execution_count": 40,
   "id": "b8a4ec49",
   "metadata": {},
   "outputs": [
    {
     "data": {
      "text/plain": [
       "'pandas'"
      ]
     },
     "execution_count": 40,
     "metadata": {},
     "output_type": "execute_result"
    }
   ],
   "source": [
    "pd.__name__"
   ]
  },
  {
   "cell_type": "code",
   "execution_count": 41,
   "id": "f8ec76d5",
   "metadata": {},
   "outputs": [
    {
     "data": {
      "text/plain": [
       "'1.2.4'"
      ]
     },
     "execution_count": 41,
     "metadata": {},
     "output_type": "execute_result"
    }
   ],
   "source": [
    "pd.__version__"
   ]
  },
  {
   "cell_type": "code",
   "execution_count": 42,
   "id": "e890170a",
   "metadata": {},
   "outputs": [
    {
     "data": {
      "text/plain": [
       "pandas.core.frame.DataFrame"
      ]
     },
     "execution_count": 42,
     "metadata": {},
     "output_type": "execute_result"
    }
   ],
   "source": [
    "pd.DataFrame"
   ]
  },
  {
   "cell_type": "code",
   "execution_count": 43,
   "id": "c1947742",
   "metadata": {},
   "outputs": [
    {
     "data": {
      "text/plain": [
       "'pandas.core.frame'"
      ]
     },
     "execution_count": 43,
     "metadata": {},
     "output_type": "execute_result"
    }
   ],
   "source": [
    "pd.DataFrame.__module__"
   ]
  },
  {
   "cell_type": "code",
   "execution_count": 44,
   "id": "a1447168",
   "metadata": {},
   "outputs": [
    {
     "data": {
      "text/plain": [
       "mappingproxy({'__module__': 'pandas.core.frame',\n",
       "              '__annotations__': {'_constructor_sliced': 'Type[Series]',\n",
       "               '_hidden_attrs': 'FrozenSet[str]',\n",
       "               '_accessors': 'Set[str]',\n",
       "               '_AXIS_TO_AXIS_NUMBER': 'Dict[Axis, int]',\n",
       "               'index': 'Index',\n",
       "               'columns': 'Index'},\n",
       "              '__doc__': '\\n    Two-dimensional, size-mutable, potentially heterogeneous tabular data.\\n\\n    Data structure also contains labeled axes (rows and columns).\\n    Arithmetic operations align on both row and column labels. Can be\\n    thought of as a dict-like container for Series objects. The primary\\n    pandas data structure.\\n\\n    Parameters\\n    ----------\\n    data : ndarray (structured or homogeneous), Iterable, dict, or DataFrame\\n        Dict can contain Series, arrays, constants, dataclass or list-like objects. If\\n        data is a dict, column order follows insertion-order.\\n\\n        .. versionchanged:: 0.25.0\\n           If data is a list of dicts, column order follows insertion-order.\\n\\n    index : Index or array-like\\n        Index to use for resulting frame. Will default to RangeIndex if\\n        no indexing information part of input data and no index provided.\\n    columns : Index or array-like\\n        Column labels to use for resulting frame. Will default to\\n        RangeIndex (0, 1, 2, ..., n) if no column labels are provided.\\n    dtype : dtype, default None\\n        Data type to force. Only a single dtype is allowed. If None, infer.\\n    copy : bool, default False\\n        Copy data from inputs. Only affects DataFrame / 2d ndarray input.\\n\\n    See Also\\n    --------\\n    DataFrame.from_records : Constructor from tuples, also record arrays.\\n    DataFrame.from_dict : From dicts of Series, arrays, or dicts.\\n    read_csv : Read a comma-separated values (csv) file into DataFrame.\\n    read_table : Read general delimited file into DataFrame.\\n    read_clipboard : Read text from clipboard into DataFrame.\\n\\n    Examples\\n    --------\\n    Constructing DataFrame from a dictionary.\\n\\n    >>> d = {\\'col1\\': [1, 2], \\'col2\\': [3, 4]}\\n    >>> df = pd.DataFrame(data=d)\\n    >>> df\\n       col1  col2\\n    0     1     3\\n    1     2     4\\n\\n    Notice that the inferred dtype is int64.\\n\\n    >>> df.dtypes\\n    col1    int64\\n    col2    int64\\n    dtype: object\\n\\n    To enforce a single dtype:\\n\\n    >>> df = pd.DataFrame(data=d, dtype=np.int8)\\n    >>> df.dtypes\\n    col1    int8\\n    col2    int8\\n    dtype: object\\n\\n    Constructing DataFrame from numpy ndarray:\\n\\n    >>> df2 = pd.DataFrame(np.array([[1, 2, 3], [4, 5, 6], [7, 8, 9]]),\\n    ...                    columns=[\\'a\\', \\'b\\', \\'c\\'])\\n    >>> df2\\n       a  b  c\\n    0  1  2  3\\n    1  4  5  6\\n    2  7  8  9\\n\\n    Constructing DataFrame from dataclass:\\n\\n    >>> from dataclasses import make_dataclass\\n    >>> Point = make_dataclass(\"Point\", [(\"x\", int), (\"y\", int)])\\n    >>> pd.DataFrame([Point(0, 0), Point(0, 3), Point(2, 3)])\\n        x  y\\n    0  0  0\\n    1  0  3\\n    2  2  3\\n    ',\n",
       "              '_internal_names_set': {'__array_interface__',\n",
       "               '__array_struct__',\n",
       "               '_cache',\n",
       "               '_cacher',\n",
       "               '_default_fill_value',\n",
       "               '_default_kind',\n",
       "               '_flags',\n",
       "               '_index',\n",
       "               '_is_copy',\n",
       "               '_item_cache',\n",
       "               '_metadata',\n",
       "               '_mgr',\n",
       "               '_name',\n",
       "               '_subtyp',\n",
       "               'columns',\n",
       "               'index'},\n",
       "              '_typ': 'dataframe',\n",
       "              '_HANDLED_TYPES': (pandas.core.series.Series,\n",
       "               pandas.core.indexes.base.Index,\n",
       "               pandas.core.arrays.base.ExtensionArray,\n",
       "               numpy.ndarray),\n",
       "              '_constructor': <property at 0x26cb0dd7a90>,\n",
       "              '_constructor_sliced': pandas.core.series.Series,\n",
       "              '_hidden_attrs': frozenset({'_AXIS_NAMES',\n",
       "                         '_AXIS_NUMBERS',\n",
       "                         'get_values',\n",
       "                         'tshift'}),\n",
       "              '_accessors': {'sparse'},\n",
       "              '_constructor_expanddim': <property at 0x26cb0dd7ae0>,\n",
       "              '__init__': <function pandas.core.frame.DataFrame.__init__(self, data=None, index: 'Optional[Axes]' = None, columns: 'Optional[Axes]' = None, dtype: 'Optional[Dtype]' = None, copy: 'bool' = False)>,\n",
       "              'axes': <property at 0x26cb1000590>,\n",
       "              'shape': <property at 0x26cb104e0e0>,\n",
       "              '_is_homogeneous_type': <property at 0x26cb104e450>,\n",
       "              '_can_fast_transpose': <property at 0x26cb104e810>,\n",
       "              '_repr_fits_vertical_': <function pandas.core.frame.DataFrame._repr_fits_vertical_(self) -> 'bool'>,\n",
       "              '_repr_fits_horizontal_': <function pandas.core.frame.DataFrame._repr_fits_horizontal_(self, ignore_width: 'bool' = False) -> 'bool'>,\n",
       "              '_info_repr': <function pandas.core.frame.DataFrame._info_repr(self) -> 'bool'>,\n",
       "              '__repr__': <function pandas.core.frame.DataFrame.__repr__(self) -> 'str'>,\n",
       "              '_repr_html_': <function pandas.core.frame.DataFrame._repr_html_(self) -> 'Optional[str]'>,\n",
       "              'to_string': <function pandas.core.frame.DataFrame.to_string(self, buf: 'Optional[FilePathOrBuffer[str]]' = None, columns: 'Optional[Sequence[str]]' = None, col_space: 'Optional[int]' = None, header: 'Union[bool, Sequence[str]]' = True, index: 'bool' = True, na_rep: 'str' = 'NaN', formatters: 'Optional[fmt.FormattersType]' = None, float_format: 'Optional[fmt.FloatFormatType]' = None, sparsify: 'Optional[bool]' = None, index_names: 'bool' = True, justify: 'Optional[str]' = None, max_rows: 'Optional[int]' = None, min_rows: 'Optional[int]' = None, max_cols: 'Optional[int]' = None, show_dimensions: 'bool' = False, decimal: 'str' = '.', line_width: 'Optional[int]' = None, max_colwidth: 'Optional[int]' = None, encoding: 'Optional[str]' = None) -> 'Optional[str]'>,\n",
       "              'style': <property at 0x26cb105ac20>,\n",
       "              'items': <function pandas.core.frame.DataFrame.items(self) -> 'Iterable[Tuple[Label, Series]]'>,\n",
       "              'iteritems': <function pandas.core.frame.DataFrame.iteritems(self) -> 'Iterable[Tuple[Label, Series]]'>,\n",
       "              'iterrows': <function pandas.core.frame.DataFrame.iterrows(self) -> 'Iterable[Tuple[Label, Series]]'>,\n",
       "              'itertuples': <function pandas.core.frame.DataFrame.itertuples(self, index: 'bool' = True, name: 'Optional[str]' = 'Pandas')>,\n",
       "              '__len__': <function pandas.core.frame.DataFrame.__len__(self) -> 'int'>,\n",
       "              'dot': <function pandas.core.frame.DataFrame.dot(self, other)>,\n",
       "              '__matmul__': <function pandas.core.frame.DataFrame.__matmul__(self, other)>,\n",
       "              '__rmatmul__': <function pandas.core.frame.DataFrame.__rmatmul__(self, other)>,\n",
       "              'from_dict': <classmethod at 0x26cafdfcd60>,\n",
       "              'to_numpy': <function pandas.core.frame.DataFrame.to_numpy(self, dtype=None, copy: 'bool' = False, na_value=<object object at 0x0000026CAF2EB290>) -> 'np.ndarray'>,\n",
       "              'to_dict': <function pandas.core.frame.DataFrame.to_dict(self, orient='dict', into=<class 'dict'>)>,\n",
       "              'to_gbq': <function pandas.core.frame.DataFrame.to_gbq(self, destination_table, project_id=None, chunksize=None, reauth=False, if_exists='fail', auth_local_webserver=False, table_schema=None, location=None, progress_bar=True, credentials=None) -> 'None'>,\n",
       "              'from_records': <classmethod at 0x26cafdfcdc0>,\n",
       "              'to_records': <function pandas.core.frame.DataFrame.to_records(self, index=True, column_dtypes=None, index_dtypes=None) -> 'np.recarray'>,\n",
       "              '_from_arrays': <classmethod at 0x26cafdfcd90>,\n",
       "              'to_stata': <function pandas.core.frame.DataFrame.to_stata(self, path: 'FilePathOrBuffer', convert_dates: 'Optional[Dict[Label, str]]' = None, write_index: 'bool' = True, byteorder: 'Optional[str]' = None, time_stamp: 'Optional[datetime.datetime]' = None, data_label: 'Optional[str]' = None, variable_labels: 'Optional[Dict[Label, str]]' = None, version: 'Optional[int]' = 114, convert_strl: 'Optional[Sequence[Label]]' = None, compression: 'CompressionOptions' = 'infer', storage_options: 'StorageOptions' = None) -> 'None'>,\n",
       "              'to_feather': <function pandas.core.frame.DataFrame.to_feather(self, path: 'FilePathOrBuffer[AnyStr]', **kwargs) -> 'None'>,\n",
       "              'to_markdown': <function pandas.core.frame.DataFrame.to_markdown(self, buf: 'Optional[Union[IO[str], str]]' = None, mode: 'str' = 'wt', index: 'bool' = True, storage_options: 'StorageOptions' = None, **kwargs) -> 'Optional[str]'>,\n",
       "              'to_parquet': <function pandas.core.frame.DataFrame.to_parquet(self, path: 'Optional[FilePathOrBuffer]' = None, engine: 'str' = 'auto', compression: 'Optional[str]' = 'snappy', index: 'Optional[bool]' = None, partition_cols: 'Optional[List[str]]' = None, storage_options: 'StorageOptions' = None, **kwargs) -> 'Optional[bytes]'>,\n",
       "              'to_html': <function pandas.core.frame.DataFrame.to_html(self, buf=None, columns=None, col_space=None, header=True, index=True, na_rep='NaN', formatters=None, float_format=None, sparsify=None, index_names=True, justify=None, max_rows=None, max_cols=None, show_dimensions=False, decimal='.', bold_rows=True, classes=None, escape=True, notebook=False, border=None, table_id=None, render_links=False, encoding=None)>,\n",
       "              'info': <function pandas.core.frame.DataFrame.info(self, verbose: 'Optional[bool]' = None, buf: 'Optional[IO[str]]' = None, max_cols: 'Optional[int]' = None, memory_usage: 'Optional[Union[bool, str]]' = None, show_counts: 'Optional[bool]' = None, null_counts: 'Optional[bool]' = None) -> 'None'>,\n",
       "              'memory_usage': <function pandas.core.frame.DataFrame.memory_usage(self, index=True, deep=False) -> 'Series'>,\n",
       "              'transpose': <function pandas.core.frame.DataFrame.transpose(self, *args, copy: 'bool' = False) -> 'DataFrame'>,\n",
       "              'T': <property at 0x26cb105aef0>,\n",
       "              '_ixs': <function pandas.core.frame.DataFrame._ixs(self, i: 'int', axis: 'int' = 0)>,\n",
       "              '_get_column_array': <function pandas.core.frame.DataFrame._get_column_array(self, i: 'int') -> 'ArrayLike'>,\n",
       "              '_iter_column_arrays': <function pandas.core.frame.DataFrame._iter_column_arrays(self) -> 'Iterator[ArrayLike]'>,\n",
       "              '__getitem__': <function pandas.core.frame.DataFrame.__getitem__(self, key)>,\n",
       "              '_getitem_bool_array': <function pandas.core.frame.DataFrame._getitem_bool_array(self, key)>,\n",
       "              '_getitem_multilevel': <function pandas.core.frame.DataFrame._getitem_multilevel(self, key)>,\n",
       "              '_get_value': <function pandas.core.frame.DataFrame._get_value(self, index, col, takeable: 'bool' = False)>,\n",
       "              '__setitem__': <function pandas.core.frame.DataFrame.__setitem__(self, key, value)>,\n",
       "              '_setitem_slice': <function pandas.core.frame.DataFrame._setitem_slice(self, key: 'slice', value)>,\n",
       "              '_setitem_array': <function pandas.core.frame.DataFrame._setitem_array(self, key, value)>,\n",
       "              '_setitem_frame': <function pandas.core.frame.DataFrame._setitem_frame(self, key, value)>,\n",
       "              '_iset_item': <function pandas.core.frame.DataFrame._iset_item(self, loc: 'int', value)>,\n",
       "              '_set_item': <function pandas.core.frame.DataFrame._set_item(self, key, value)>,\n",
       "              '_set_value': <function pandas.core.frame.DataFrame._set_value(self, index, col, value, takeable: 'bool' = False)>,\n",
       "              '_ensure_valid_index': <function pandas.core.frame.DataFrame._ensure_valid_index(self, value)>,\n",
       "              '_box_col_values': <function pandas.core.frame.DataFrame._box_col_values(self, values, loc: 'int') -> 'Series'>,\n",
       "              'query': <function pandas.core.frame.DataFrame.query(self, expr, inplace=False, **kwargs)>,\n",
       "              'eval': <function pandas.core.frame.DataFrame.eval(self, expr, inplace=False, **kwargs)>,\n",
       "              'select_dtypes': <function pandas.core.frame.DataFrame.select_dtypes(self, include=None, exclude=None) -> 'DataFrame'>,\n",
       "              'insert': <function pandas.core.frame.DataFrame.insert(self, loc, column, value, allow_duplicates=False) -> 'None'>,\n",
       "              'assign': <function pandas.core.frame.DataFrame.assign(self, **kwargs) -> 'DataFrame'>,\n",
       "              '_sanitize_column': <function pandas.core.frame.DataFrame._sanitize_column(self, key, value, broadcast=True)>,\n",
       "              '_series': <property at 0x26cb105ae00>,\n",
       "              'lookup': <function pandas.core.frame.DataFrame.lookup(self, row_labels, col_labels) -> 'np.ndarray'>,\n",
       "              '_reindex_axes': <function pandas.core.frame.DataFrame._reindex_axes(self, axes, level, limit, tolerance, method, fill_value, copy)>,\n",
       "              '_reindex_index': <function pandas.core.frame.DataFrame._reindex_index(self, new_index, method, copy, level, fill_value=nan, limit=None, tolerance=None)>,\n",
       "              '_reindex_columns': <function pandas.core.frame.DataFrame._reindex_columns(self, new_columns, method, copy, level, fill_value=None, limit=None, tolerance=None)>,\n",
       "              '_reindex_multi': <function pandas.core.frame.DataFrame._reindex_multi(self, axes, copy, fill_value) -> 'DataFrame'>,\n",
       "              'align': <function pandas.core.frame.DataFrame.align(self, other, join='outer', axis=None, level=None, copy=True, fill_value=None, method=None, limit=None, fill_axis=0, broadcast_axis=None) -> 'DataFrame'>,\n",
       "              'set_axis': <function pandas.core.frame.DataFrame.set_axis(self, labels, axis: 'Axis' = 0, inplace: 'bool' = False)>,\n",
       "              'reindex': <function pandas.core.frame.DataFrame.reindex(self, labels=None, index=None, columns=None, axis=None, method=None, copy=True, level=None, fill_value=nan, limit=None, tolerance=None)>,\n",
       "              'drop': <function pandas.core.frame.DataFrame.drop(self, labels=None, axis=0, index=None, columns=None, level=None, inplace=False, errors='raise')>,\n",
       "              'rename': <function pandas.core.frame.DataFrame.rename(self, mapper=None, index=None, columns=None, axis=None, copy=True, inplace=False, level=None, errors='ignore')>,\n",
       "              'fillna': <function pandas.core.frame.DataFrame.fillna(self, value=None, method=None, axis=None, inplace=False, limit=None, downcast=None) -> 'Optional[DataFrame]'>,\n",
       "              'pop': <function pandas.core.frame.DataFrame.pop(self, item: 'Label') -> 'Series'>,\n",
       "              'replace': <function pandas.core.frame.DataFrame.replace(self, to_replace=None, value=None, inplace=False, limit=None, regex=False, method='pad')>,\n",
       "              '_replace_columnwise': <function pandas.core.frame.DataFrame._replace_columnwise(self, mapping: 'Dict[Label, Tuple[Any, Any]]', inplace: 'bool', regex)>,\n",
       "              'shift': <function pandas.core.frame.DataFrame.shift(self, periods=1, freq=None, axis=0, fill_value=<object object at 0x0000026CAF2EB290>) -> 'DataFrame'>,\n",
       "              'set_index': <function pandas.core.frame.DataFrame.set_index(self, keys, drop=True, append=False, inplace=False, verify_integrity=False)>,\n",
       "              'reset_index': <function pandas.core.frame.DataFrame.reset_index(self, level: 'Optional[Union[Hashable, Sequence[Hashable]]]' = None, drop: 'bool' = False, inplace: 'bool' = False, col_level: 'Hashable' = 0, col_fill: 'Label' = '') -> 'Optional[DataFrame]'>,\n",
       "              'isna': <function pandas.core.frame.DataFrame.isna(self) -> 'DataFrame'>,\n",
       "              'isnull': <function pandas.core.frame.DataFrame.isnull(self) -> 'DataFrame'>,\n",
       "              'notna': <function pandas.core.frame.DataFrame.notna(self) -> 'DataFrame'>,\n",
       "              'notnull': <function pandas.core.frame.DataFrame.notnull(self) -> 'DataFrame'>,\n",
       "              'dropna': <function pandas.core.frame.DataFrame.dropna(self, axis=0, how='any', thresh=None, subset=None, inplace=False)>,\n",
       "              'drop_duplicates': <function pandas.core.frame.DataFrame.drop_duplicates(self, subset: 'Optional[Union[Hashable, Sequence[Hashable]]]' = None, keep: 'Union[str, bool]' = 'first', inplace: 'bool' = False, ignore_index: 'bool' = False) -> 'Optional[DataFrame]'>,\n",
       "              'duplicated': <function pandas.core.frame.DataFrame.duplicated(self, subset: 'Optional[Union[Hashable, Sequence[Hashable]]]' = None, keep: 'Union[str, bool]' = 'first') -> 'Series'>,\n",
       "              'sort_values': <function pandas.core.frame.DataFrame.sort_values(self, by, axis=0, ascending=True, inplace=False, kind='quicksort', na_position='last', ignore_index=False, key: 'ValueKeyFunc' = None)>,\n",
       "              'sort_index': <function pandas.core.frame.DataFrame.sort_index(self, axis=0, level=None, ascending: 'Union[Union[bool, int], Sequence[Union[bool, int]]]' = True, inplace: 'bool' = False, kind: 'str' = 'quicksort', na_position: 'str' = 'last', sort_remaining: 'bool' = True, ignore_index: 'bool' = False, key: 'IndexKeyFunc' = None)>,\n",
       "              'value_counts': <function pandas.core.frame.DataFrame.value_counts(self, subset: 'Optional[Sequence[Label]]' = None, normalize: 'bool' = False, sort: 'bool' = True, ascending: 'bool' = False)>,\n",
       "              'nlargest': <function pandas.core.frame.DataFrame.nlargest(self, n, columns, keep='first') -> 'DataFrame'>,\n",
       "              'nsmallest': <function pandas.core.frame.DataFrame.nsmallest(self, n, columns, keep='first') -> 'DataFrame'>,\n",
       "              'swaplevel': <function pandas.core.frame.DataFrame.swaplevel(self, i=-2, j=-1, axis=0) -> 'DataFrame'>,\n",
       "              'reorder_levels': <function pandas.core.frame.DataFrame.reorder_levels(self, order, axis=0) -> 'DataFrame'>,\n",
       "              '_cmp_method': <function pandas.core.frame.DataFrame._cmp_method(self, other, op)>,\n",
       "              '_arith_method': <function pandas.core.frame.DataFrame._arith_method(self, other, op)>,\n",
       "              '_logical_method': <function pandas.core.frame.DataFrame._arith_method(self, other, op)>,\n",
       "              '_dispatch_frame_op': <function pandas.core.frame.DataFrame._dispatch_frame_op(self, right, func, axis: 'Optional[int]' = None)>,\n",
       "              '_combine_frame': <function pandas.core.frame.DataFrame._combine_frame(self, other: 'DataFrame', func, fill_value=None)>,\n",
       "              '_construct_result': <function pandas.core.frame.DataFrame._construct_result(self, result) -> 'DataFrame'>,\n",
       "              '__divmod__': <function pandas.core.frame.DataFrame.__divmod__(self, other) -> 'Tuple[DataFrame, DataFrame]'>,\n",
       "              '__rdivmod__': <function pandas.core.frame.DataFrame.__rdivmod__(self, other) -> 'Tuple[DataFrame, DataFrame]'>,\n",
       "              'compare': <function pandas.core.frame.DataFrame.compare(self, other: 'DataFrame', align_axis: 'Axis' = 1, keep_shape: 'bool' = False, keep_equal: 'bool' = False) -> 'DataFrame'>,\n",
       "              'combine': <function pandas.core.frame.DataFrame.combine(self, other: 'DataFrame', func, fill_value=None, overwrite=True) -> 'DataFrame'>,\n",
       "              'combine_first': <function pandas.core.frame.DataFrame.combine_first(self, other: 'DataFrame') -> 'DataFrame'>,\n",
       "              'update': <function pandas.core.frame.DataFrame.update(self, other, join='left', overwrite=True, filter_func=None, errors='ignore') -> 'None'>,\n",
       "              'groupby': <function pandas.core.frame.DataFrame.groupby(self, by=None, axis=0, level=None, as_index: 'bool' = True, sort: 'bool' = True, group_keys: 'bool' = True, squeeze: 'bool' = <object object at 0x0000026CAF2EB290>, observed: 'bool' = False, dropna: 'bool' = True) -> 'DataFrameGroupBy'>,\n",
       "              'pivot': <function pandas.core.frame.DataFrame.pivot(self, index=None, columns=None, values=None) -> 'DataFrame'>,\n",
       "              'pivot_table': <function pandas.core.frame.DataFrame.pivot_table(self, values=None, index=None, columns=None, aggfunc='mean', fill_value=None, margins=False, dropna=True, margins_name='All', observed=False) -> 'DataFrame'>,\n",
       "              'stack': <function pandas.core.frame.DataFrame.stack(self, level=-1, dropna=True)>,\n",
       "              'explode': <function pandas.core.frame.DataFrame.explode(self, column: 'Union[str, Tuple]', ignore_index: 'bool' = False) -> 'DataFrame'>,\n",
       "              'unstack': <function pandas.core.frame.DataFrame.unstack(self, level=-1, fill_value=None)>,\n",
       "              'melt': <function pandas.core.frame.DataFrame.melt(self, id_vars=None, value_vars=None, var_name=None, value_name='value', col_level=None, ignore_index=True) -> 'DataFrame'>,\n",
       "              'diff': <function pandas.core.frame.DataFrame.diff(self, periods: 'int' = 1, axis: 'Axis' = 0) -> 'DataFrame'>,\n",
       "              '_gotitem': <function pandas.core.frame.DataFrame._gotitem(self, key: 'Union[Label, List[Label]]', ndim: 'int', subset: 'Optional[FrameOrSeriesUnion]' = None) -> 'FrameOrSeriesUnion'>,\n",
       "              '_agg_summary_and_see_also_doc': '\\nThe aggregation operations are always performed over an axis, either the\\nindex (default) or the column axis. This behavior is different from\\n`numpy` aggregation functions (`mean`, `median`, `prod`, `sum`, `std`,\\n`var`), where the default is to compute the aggregation of the flattened\\narray, e.g., ``numpy.mean(arr_2d)`` as opposed to\\n``numpy.mean(arr_2d, axis=0)``.\\n\\n`agg` is an alias for `aggregate`. Use the alias.\\n\\nSee Also\\n--------\\nDataFrame.apply : Perform any type of operations.\\nDataFrame.transform : Perform transformation type operations.\\ncore.groupby.GroupBy : Perform operations over groups.\\ncore.resample.Resampler : Perform operations over resampled bins.\\ncore.window.Rolling : Perform operations over rolling window.\\ncore.window.Expanding : Perform operations over expanding window.\\ncore.window.ExponentialMovingWindow : Perform operation over exponential weighted\\n    window.\\n',\n",
       "              '_agg_examples_doc': '\\nExamples\\n--------\\n>>> df = pd.DataFrame([[1, 2, 3],\\n...                    [4, 5, 6],\\n...                    [7, 8, 9],\\n...                    [np.nan, np.nan, np.nan]],\\n...                   columns=[\\'A\\', \\'B\\', \\'C\\'])\\n\\nAggregate these functions over the rows.\\n\\n>>> df.agg([\\'sum\\', \\'min\\'])\\n        A     B     C\\nsum  12.0  15.0  18.0\\nmin   1.0   2.0   3.0\\n\\nDifferent aggregations per column.\\n\\n>>> df.agg({\\'A\\' : [\\'sum\\', \\'min\\'], \\'B\\' : [\\'min\\', \\'max\\']})\\n        A    B\\nsum  12.0  NaN\\nmin   1.0  2.0\\nmax   NaN  8.0\\n\\nAggregate different functions over the columns and rename the index of the resulting\\nDataFrame.\\n\\n>>> df.agg(x=(\\'A\\', max), y=(\\'B\\', \\'min\\'), z=(\\'C\\', np.mean))\\n     A    B    C\\nx  7.0  NaN  NaN\\ny  NaN  2.0  NaN\\nz  NaN  NaN  6.0\\n\\nAggregate over the columns.\\n\\n>>> df.agg(\"mean\", axis=\"columns\")\\n0    2.0\\n1    5.0\\n2    8.0\\n3    NaN\\ndtype: float64\\n',\n",
       "              'aggregate': <function pandas.core.frame.DataFrame.aggregate(self, func=None, axis=0, *args, **kwargs)>,\n",
       "              '_aggregate': <function pandas.core.frame.DataFrame._aggregate(self, arg, axis=0, *args, **kwargs)>,\n",
       "              'agg': <function pandas.core.frame.DataFrame.aggregate(self, func=None, axis=0, *args, **kwargs)>,\n",
       "              'transform': <function pandas.core.frame.DataFrame.transform(self, func: 'AggFuncType', axis: 'Axis' = 0, *args, **kwargs) -> 'DataFrame'>,\n",
       "              'apply': <function pandas.core.frame.DataFrame.apply(self, func, axis=0, raw=False, result_type=None, args=(), **kwds)>,\n",
       "              'applymap': <function pandas.core.frame.DataFrame.applymap(self, func, na_action: 'Optional[str]' = None) -> 'DataFrame'>,\n",
       "              'append': <function pandas.core.frame.DataFrame.append(self, other, ignore_index=False, verify_integrity=False, sort=False) -> 'DataFrame'>,\n",
       "              'join': <function pandas.core.frame.DataFrame.join(self, other, on=None, how='left', lsuffix='', rsuffix='', sort=False) -> 'DataFrame'>,\n",
       "              '_join_compat': <function pandas.core.frame.DataFrame._join_compat(self, other, on=None, how='left', lsuffix='', rsuffix='', sort=False)>,\n",
       "              'merge': <function pandas.core.frame.DataFrame.merge(self, right, how='inner', on=None, left_on=None, right_on=None, left_index=False, right_index=False, sort=False, suffixes=('_x', '_y'), copy=True, indicator=False, validate=None) -> 'DataFrame'>,\n",
       "              'round': <function pandas.core.frame.DataFrame.round(self, decimals=0, *args, **kwargs) -> 'DataFrame'>,\n",
       "              'corr': <function pandas.core.frame.DataFrame.corr(self, method='pearson', min_periods=1) -> 'DataFrame'>,\n",
       "              'cov': <function pandas.core.frame.DataFrame.cov(self, min_periods: 'Optional[int]' = None, ddof: 'Optional[int]' = 1) -> 'DataFrame'>,\n",
       "              'corrwith': <function pandas.core.frame.DataFrame.corrwith(self, other, axis=0, drop=False, method='pearson') -> 'Series'>,\n",
       "              'count': <function pandas.core.frame.DataFrame.count(self, axis=0, level=None, numeric_only=False)>,\n",
       "              '_count_level': <function pandas.core.frame.DataFrame._count_level(self, level, axis=0, numeric_only=False)>,\n",
       "              '_reduce': <function pandas.core.frame.DataFrame._reduce(self, op, name: 'str', *, axis=0, skipna=True, numeric_only=None, filter_type=None, **kwds)>,\n",
       "              'nunique': <function pandas.core.frame.DataFrame.nunique(self, axis=0, dropna=True) -> 'Series'>,\n",
       "              'idxmin': <function pandas.core.frame.DataFrame.idxmin(self, axis=0, skipna=True) -> 'Series'>,\n",
       "              'idxmax': <function pandas.core.frame.DataFrame.idxmax(self, axis=0, skipna=True) -> 'Series'>,\n",
       "              '_get_agg_axis': <function pandas.core.frame.DataFrame._get_agg_axis(self, axis_num: 'int') -> 'Index'>,\n",
       "              'mode': <function pandas.core.frame.DataFrame.mode(self, axis=0, numeric_only=False, dropna=True) -> 'DataFrame'>,\n",
       "              'quantile': <function pandas.core.frame.DataFrame.quantile(self, q=0.5, axis=0, numeric_only=True, interpolation='linear')>,\n",
       "              'to_timestamp': <function pandas.core.frame.DataFrame.to_timestamp(self, freq=None, how: 'str' = 'start', axis: 'Axis' = 0, copy: 'bool' = True) -> 'DataFrame'>,\n",
       "              'to_period': <function pandas.core.frame.DataFrame.to_period(self, freq=None, axis: 'Axis' = 0, copy: 'bool' = True) -> 'DataFrame'>,\n",
       "              'isin': <function pandas.core.frame.DataFrame.isin(self, values) -> 'DataFrame'>,\n",
       "              '_AXIS_ORDERS': ['index', 'columns'],\n",
       "              '_AXIS_TO_AXIS_NUMBER': {0: 0,\n",
       "               'index': 0,\n",
       "               'rows': 0,\n",
       "               1: 1,\n",
       "               'columns': 1},\n",
       "              '_AXIS_REVERSED': True,\n",
       "              '_AXIS_LEN': 2,\n",
       "              '_info_axis_number': 1,\n",
       "              '_info_axis_name': 'columns',\n",
       "              'index': <pandas._libs.properties.AxisProperty at 0x26cb1065040>,\n",
       "              'columns': <pandas._libs.properties.AxisProperty at 0x26cb1065190>,\n",
       "              '_AXIS_NUMBERS': <property at 0x26caf6635e0>,\n",
       "              '_AXIS_NAMES': <property at 0x26cb105ac70>,\n",
       "              'plot': <pandas.core.accessor.CachedAccessor at 0x26cb1065250>,\n",
       "              'hist': <function pandas.plotting._core.hist_frame(data: 'DataFrame', column: Union[Hashable, NoneType, Sequence[Union[Hashable, NoneType]]] = None, by=None, grid: bool = True, xlabelsize: Union[int, NoneType] = None, xrot: Union[float, NoneType] = None, ylabelsize: Union[int, NoneType] = None, yrot: Union[float, NoneType] = None, ax=None, sharex: bool = False, sharey: bool = False, figsize: Union[Tuple[int, int], NoneType] = None, layout: Union[Tuple[int, int], NoneType] = None, bins: Union[int, Sequence[int]] = 10, backend: Union[str, NoneType] = None, legend: bool = False, **kwargs)>,\n",
       "              'boxplot': <function pandas.plotting._core.boxplot_frame(self, column=None, by=None, ax=None, fontsize=None, rot=0, grid=True, figsize=None, layout=None, return_type=None, backend=None, **kwargs)>,\n",
       "              'sparse': <pandas.core.accessor.CachedAccessor at 0x26cb1065340>,\n",
       "              'any': <function pandas.core.generic.NDFrame._add_numeric_operations.<locals>.any(self, axis=0, bool_only=None, skipna=True, level=None, **kwargs)>,\n",
       "              'all': <function pandas.core.generic.NDFrame._add_numeric_operations.<locals>.all(self, axis=0, bool_only=None, skipna=True, level=None, **kwargs)>,\n",
       "              'mad': <function pandas.core.generic.NDFrame._add_numeric_operations.<locals>.mad(self, axis=None, skipna=None, level=None)>,\n",
       "              'sem': <function pandas.core.generic.NDFrame._add_numeric_operations.<locals>.sem(self, axis=None, skipna=None, level=None, ddof=1, numeric_only=None, **kwargs)>,\n",
       "              'var': <function pandas.core.generic.NDFrame._add_numeric_operations.<locals>.var(self, axis=None, skipna=None, level=None, ddof=1, numeric_only=None, **kwargs)>,\n",
       "              'std': <function pandas.core.generic.NDFrame._add_numeric_operations.<locals>.std(self, axis=None, skipna=None, level=None, ddof=1, numeric_only=None, **kwargs)>,\n",
       "              'cummin': <function pandas.core.generic.NDFrame._add_numeric_operations.<locals>.cummin(self, axis=None, skipna=True, *args, **kwargs)>,\n",
       "              'cummax': <function pandas.core.generic.NDFrame._add_numeric_operations.<locals>.cummax(self, axis=None, skipna=True, *args, **kwargs)>,\n",
       "              'cumsum': <function pandas.core.generic.NDFrame._add_numeric_operations.<locals>.cumsum(self, axis=None, skipna=True, *args, **kwargs)>,\n",
       "              'cumprod': <function pandas.core.generic.NDFrame._add_numeric_operations.<locals>.cumprod(self, axis=None, skipna=True, *args, **kwargs)>,\n",
       "              'sum': <function pandas.core.generic.NDFrame._add_numeric_operations.<locals>.sum(self, axis=None, skipna=None, level=None, numeric_only=None, min_count=0, **kwargs)>,\n",
       "              'prod': <function pandas.core.generic.NDFrame._add_numeric_operations.<locals>.prod(self, axis=None, skipna=None, level=None, numeric_only=None, min_count=0, **kwargs)>,\n",
       "              'product': <function pandas.core.generic.NDFrame._add_numeric_operations.<locals>.prod(self, axis=None, skipna=None, level=None, numeric_only=None, min_count=0, **kwargs)>,\n",
       "              'mean': <function pandas.core.generic.NDFrame._add_numeric_operations.<locals>.mean(self, axis=None, skipna=None, level=None, numeric_only=None, **kwargs)>,\n",
       "              'skew': <function pandas.core.generic.NDFrame._add_numeric_operations.<locals>.skew(self, axis=None, skipna=None, level=None, numeric_only=None, **kwargs)>,\n",
       "              'kurt': <function pandas.core.generic.NDFrame._add_numeric_operations.<locals>.kurt(self, axis=None, skipna=None, level=None, numeric_only=None, **kwargs)>,\n",
       "              'kurtosis': <function pandas.core.generic.NDFrame._add_numeric_operations.<locals>.kurt(self, axis=None, skipna=None, level=None, numeric_only=None, **kwargs)>,\n",
       "              'median': <function pandas.core.generic.NDFrame._add_numeric_operations.<locals>.median(self, axis=None, skipna=None, level=None, numeric_only=None, **kwargs)>,\n",
       "              'max': <function pandas.core.generic.NDFrame._add_numeric_operations.<locals>.max(self, axis=None, skipna=None, level=None, numeric_only=None, **kwargs)>,\n",
       "              'min': <function pandas.core.generic.NDFrame._add_numeric_operations.<locals>.min(self, axis=None, skipna=None, level=None, numeric_only=None, **kwargs)>,\n",
       "              'add': <function pandas.core.ops.flex_arith_method_FRAME.<locals>.f(self, other, axis='columns', level=None, fill_value=None)>,\n",
       "              'radd': <function pandas.core.ops.flex_arith_method_FRAME.<locals>.f(self, other, axis='columns', level=None, fill_value=None)>,\n",
       "              'sub': <function pandas.core.ops.flex_arith_method_FRAME.<locals>.f(self, other, axis='columns', level=None, fill_value=None)>,\n",
       "              'mul': <function pandas.core.ops.flex_arith_method_FRAME.<locals>.f(self, other, axis='columns', level=None, fill_value=None)>,\n",
       "              'truediv': <function pandas.core.ops.flex_arith_method_FRAME.<locals>.f(self, other, axis='columns', level=None, fill_value=None)>,\n",
       "              'floordiv': <function pandas.core.ops.flex_arith_method_FRAME.<locals>.f(self, other, axis='columns', level=None, fill_value=None)>,\n",
       "              'mod': <function pandas.core.ops.flex_arith_method_FRAME.<locals>.f(self, other, axis='columns', level=None, fill_value=None)>,\n",
       "              'pow': <function pandas.core.ops.flex_arith_method_FRAME.<locals>.f(self, other, axis='columns', level=None, fill_value=None)>,\n",
       "              'rmul': <function pandas.core.ops.flex_arith_method_FRAME.<locals>.f(self, other, axis='columns', level=None, fill_value=None)>,\n",
       "              'rsub': <function pandas.core.ops.flex_arith_method_FRAME.<locals>.f(self, other, axis='columns', level=None, fill_value=None)>,\n",
       "              'rtruediv': <function pandas.core.ops.flex_arith_method_FRAME.<locals>.f(self, other, axis='columns', level=None, fill_value=None)>,\n",
       "              'rfloordiv': <function pandas.core.ops.flex_arith_method_FRAME.<locals>.f(self, other, axis='columns', level=None, fill_value=None)>,\n",
       "              'rpow': <function pandas.core.ops.flex_arith_method_FRAME.<locals>.f(self, other, axis='columns', level=None, fill_value=None)>,\n",
       "              'rmod': <function pandas.core.ops.flex_arith_method_FRAME.<locals>.f(self, other, axis='columns', level=None, fill_value=None)>,\n",
       "              'div': <function pandas.core.ops.flex_arith_method_FRAME.<locals>.f(self, other, axis='columns', level=None, fill_value=None)>,\n",
       "              'rdiv': <function pandas.core.ops.flex_arith_method_FRAME.<locals>.f(self, other, axis='columns', level=None, fill_value=None)>,\n",
       "              'eq': <function pandas.core.ops.flex_comp_method_FRAME.<locals>.f(self, other, axis='columns', level=None)>,\n",
       "              'ne': <function pandas.core.ops.flex_comp_method_FRAME.<locals>.f(self, other, axis='columns', level=None)>,\n",
       "              'lt': <function pandas.core.ops.flex_comp_method_FRAME.<locals>.f(self, other, axis='columns', level=None)>,\n",
       "              'gt': <function pandas.core.ops.flex_comp_method_FRAME.<locals>.f(self, other, axis='columns', level=None)>,\n",
       "              'le': <function pandas.core.ops.flex_comp_method_FRAME.<locals>.f(self, other, axis='columns', level=None)>,\n",
       "              'ge': <function pandas.core.ops.flex_comp_method_FRAME.<locals>.f(self, other, axis='columns', level=None)>,\n",
       "              'multiply': <function pandas.core.ops.flex_arith_method_FRAME.<locals>.f(self, other, axis='columns', level=None, fill_value=None)>,\n",
       "              'subtract': <function pandas.core.ops.flex_arith_method_FRAME.<locals>.f(self, other, axis='columns', level=None, fill_value=None)>,\n",
       "              'divide': <function pandas.core.ops.flex_arith_method_FRAME.<locals>.f(self, other, axis='columns', level=None, fill_value=None)>})"
      ]
     },
     "execution_count": 44,
     "metadata": {},
     "output_type": "execute_result"
    }
   ],
   "source": [
    "pd.DataFrame.__dict__"
   ]
  },
  {
   "cell_type": "code",
   "execution_count": 45,
   "id": "a98eb01b",
   "metadata": {},
   "outputs": [],
   "source": [
    "pd.DataFrame?"
   ]
  },
  {
   "cell_type": "code",
   "execution_count": 49,
   "id": "5c8aad55",
   "metadata": {},
   "outputs": [
    {
     "data": {
      "text/html": [
       "<div>\n",
       "<style scoped>\n",
       "    .dataframe tbody tr th:only-of-type {\n",
       "        vertical-align: middle;\n",
       "    }\n",
       "\n",
       "    .dataframe tbody tr th {\n",
       "        vertical-align: top;\n",
       "    }\n",
       "\n",
       "    .dataframe thead th {\n",
       "        text-align: right;\n",
       "    }\n",
       "</style>\n",
       "<table border=\"1\" class=\"dataframe\">\n",
       "  <thead>\n",
       "    <tr style=\"text-align: right;\">\n",
       "      <th></th>\n",
       "      <th>0</th>\n",
       "    </tr>\n",
       "  </thead>\n",
       "  <tbody>\n",
       "    <tr>\n",
       "      <th>0</th>\n",
       "      <td>4</td>\n",
       "    </tr>\n",
       "    <tr>\n",
       "      <th>1</th>\n",
       "      <td>3</td>\n",
       "    </tr>\n",
       "    <tr>\n",
       "      <th>2</th>\n",
       "      <td>6</td>\n",
       "    </tr>\n",
       "  </tbody>\n",
       "</table>\n",
       "</div>"
      ],
      "text/plain": [
       "   0\n",
       "0  4\n",
       "1  3\n",
       "2  6"
      ]
     },
     "execution_count": 49,
     "metadata": {},
     "output_type": "execute_result"
    }
   ],
   "source": [
    "df=pd.DataFrame(data=[4,3,6])\n",
    "df"
   ]
  },
  {
   "cell_type": "code",
   "execution_count": 50,
   "id": "b697320b",
   "metadata": {},
   "outputs": [],
   "source": [
    "class Phone:\n",
    "    pass"
   ]
  },
  {
   "cell_type": "code",
   "execution_count": 51,
   "id": "95fc79fa",
   "metadata": {},
   "outputs": [
    {
     "data": {
      "text/plain": [
       "'Phone'"
      ]
     },
     "execution_count": 51,
     "metadata": {},
     "output_type": "execute_result"
    }
   ],
   "source": [
    "Phone.__name__"
   ]
  },
  {
   "cell_type": "code",
   "execution_count": 52,
   "id": "42049c7c",
   "metadata": {},
   "outputs": [
    {
     "data": {
      "text/plain": [
       "mappingproxy({'__module__': '__main__',\n",
       "              '__dict__': <attribute '__dict__' of 'Phone' objects>,\n",
       "              '__weakref__': <attribute '__weakref__' of 'Phone' objects>,\n",
       "              '__doc__': None})"
      ]
     },
     "execution_count": 52,
     "metadata": {},
     "output_type": "execute_result"
    }
   ],
   "source": [
    "Phone.__dict__"
   ]
  },
  {
   "cell_type": "code",
   "execution_count": 53,
   "id": "89be754c",
   "metadata": {},
   "outputs": [
    {
     "data": {
      "text/plain": [
       "'__main__'"
      ]
     },
     "execution_count": 53,
     "metadata": {},
     "output_type": "execute_result"
    }
   ],
   "source": [
    "Phone.__module__"
   ]
  },
  {
   "cell_type": "code",
   "execution_count": 54,
   "id": "f6d6a75b",
   "metadata": {},
   "outputs": [],
   "source": [
    "Phone.__doc__"
   ]
  },
  {
   "cell_type": "code",
   "execution_count": 55,
   "id": "81af9c48",
   "metadata": {},
   "outputs": [],
   "source": [
    "class Phone:\n",
    "    \"\"\"THIS IS A PHONE CLASS! \"\"\""
   ]
  },
  {
   "cell_type": "code",
   "execution_count": 56,
   "id": "a2d4a640",
   "metadata": {},
   "outputs": [
    {
     "name": "stdout",
     "output_type": "stream",
     "text": [
      "Help on class Phone in module __main__:\n",
      "\n",
      "class Phone(builtins.object)\n",
      " |  THIS IS A PHONE CLASS!\n",
      " |  \n",
      " |  Data descriptors defined here:\n",
      " |  \n",
      " |  __dict__\n",
      " |      dictionary for instance variables (if defined)\n",
      " |  \n",
      " |  __weakref__\n",
      " |      list of weak references to the object (if defined)\n",
      "\n"
     ]
    }
   ],
   "source": [
    "help(Phone)"
   ]
  },
  {
   "cell_type": "code",
   "execution_count": 57,
   "id": "7182caed",
   "metadata": {},
   "outputs": [
    {
     "data": {
      "text/plain": [
       "'THIS IS A PHONE CLASS! '"
      ]
     },
     "execution_count": 57,
     "metadata": {},
     "output_type": "execute_result"
    }
   ],
   "source": [
    "Phone.__doc__"
   ]
  },
  {
   "cell_type": "code",
   "execution_count": 58,
   "id": "69850022",
   "metadata": {},
   "outputs": [
    {
     "data": {
      "text/plain": [
       "(object,)"
      ]
     },
     "execution_count": 58,
     "metadata": {},
     "output_type": "execute_result"
    }
   ],
   "source": [
    "Phone.__bases__"
   ]
  },
  {
   "cell_type": "code",
   "execution_count": 3,
   "id": "fb9b4c60",
   "metadata": {},
   "outputs": [],
   "source": [
    "class Phone:\n",
    "    sector = 'electronics'\n",
    "    os = 'Android'\n",
    "    width = 500\n",
    "    height = 1200"
   ]
  },
  {
   "cell_type": "code",
   "execution_count": 60,
   "id": "700b1c91",
   "metadata": {},
   "outputs": [
    {
     "data": {
      "text/plain": [
       "mappingproxy({'__module__': '__main__',\n",
       "              'sector': 'electronics',\n",
       "              'os': 'Android',\n",
       "              'width': 500,\n",
       "              'height': 1200,\n",
       "              '__dict__': <attribute '__dict__' of 'Phone' objects>,\n",
       "              '__weakref__': <attribute '__weakref__' of 'Phone' objects>,\n",
       "              '__doc__': None})"
      ]
     },
     "execution_count": 60,
     "metadata": {},
     "output_type": "execute_result"
    }
   ],
   "source": [
    "Phone.__dict__"
   ]
  },
  {
   "cell_type": "code",
   "execution_count": 62,
   "id": "e1709618",
   "metadata": {},
   "outputs": [
    {
     "data": {
      "text/plain": [
       "['__dict__',\n",
       " '__doc__',\n",
       " '__module__',\n",
       " '__weakref__',\n",
       " 'height',\n",
       " 'os',\n",
       " 'sector',\n",
       " 'width']"
      ]
     },
     "execution_count": 62,
     "metadata": {},
     "output_type": "execute_result"
    }
   ],
   "source": [
    "sorted(Phone.__dict__.keys())"
   ]
  },
  {
   "cell_type": "code",
   "execution_count": 63,
   "id": "ce1986a8",
   "metadata": {},
   "outputs": [
    {
     "data": {
      "text/plain": [
       "'electronics'"
      ]
     },
     "execution_count": 63,
     "metadata": {},
     "output_type": "execute_result"
    }
   ],
   "source": [
    "Phone.sector"
   ]
  },
  {
   "cell_type": "code",
   "execution_count": 64,
   "id": "f7f91517",
   "metadata": {},
   "outputs": [
    {
     "data": {
      "text/plain": [
       "500"
      ]
     },
     "execution_count": 64,
     "metadata": {},
     "output_type": "execute_result"
    }
   ],
   "source": [
    "Phone.width"
   ]
  },
  {
   "cell_type": "code",
   "execution_count": 65,
   "id": "65310d96",
   "metadata": {},
   "outputs": [
    {
     "data": {
      "text/plain": [
       "'Android'"
      ]
     },
     "execution_count": 65,
     "metadata": {},
     "output_type": "execute_result"
    }
   ],
   "source": [
    "getattr(Phone,'os')"
   ]
  },
  {
   "cell_type": "code",
   "execution_count": 68,
   "id": "6b1bc5c9",
   "metadata": {},
   "outputs": [
    {
     "name": "stdout",
     "output_type": "stream",
     "text": [
      "height -> 1200\n",
      "os -> Android\n",
      "sector -> electronics\n",
      "width -> 500\n"
     ]
    }
   ],
   "source": [
    "for attr in sorted(Phone.__dict__.keys()):\n",
    "    if not attr.startswith('_'):\n",
    "        print(f\"{attr} -> {getattr(Phone,attr)}\")"
   ]
  },
  {
   "cell_type": "code",
   "execution_count": 4,
   "id": "df4b55a0",
   "metadata": {},
   "outputs": [
    {
     "name": "stdout",
     "output_type": "stream",
     "text": [
      "type object 'Phone' has no attribute 'price'\n"
     ]
    }
   ],
   "source": [
    "try:\n",
    "    Phone.price\n",
    "except AttributeError as error:\n",
    "    print(error)"
   ]
  },
  {
   "cell_type": "code",
   "execution_count": 5,
   "id": "23c46e0d",
   "metadata": {},
   "outputs": [
    {
     "data": {
      "text/plain": [
       "'Android'"
      ]
     },
     "execution_count": 5,
     "metadata": {},
     "output_type": "execute_result"
    }
   ],
   "source": [
    "Phone.os"
   ]
  },
  {
   "cell_type": "code",
   "execution_count": 6,
   "id": "0911437f",
   "metadata": {},
   "outputs": [],
   "source": [
    "Phone.os = 'IOS'"
   ]
  },
  {
   "cell_type": "code",
   "execution_count": 7,
   "id": "2e7a3b77",
   "metadata": {},
   "outputs": [
    {
     "data": {
      "text/plain": [
       "'IOS'"
      ]
     },
     "execution_count": 7,
     "metadata": {},
     "output_type": "execute_result"
    }
   ],
   "source": [
    "Phone.os"
   ]
  },
  {
   "cell_type": "code",
   "execution_count": 8,
   "id": "32868f74",
   "metadata": {},
   "outputs": [
    {
     "data": {
      "text/plain": [
       "mappingproxy({'__module__': '__main__',\n",
       "              'sector': 'electronics',\n",
       "              'os': 'IOS',\n",
       "              'width': 500,\n",
       "              'height': 1200,\n",
       "              '__dict__': <attribute '__dict__' of 'Phone' objects>,\n",
       "              '__weakref__': <attribute '__weakref__' of 'Phone' objects>,\n",
       "              '__doc__': None})"
      ]
     },
     "execution_count": 8,
     "metadata": {},
     "output_type": "execute_result"
    }
   ],
   "source": [
    "Phone.__dict__"
   ]
  },
  {
   "cell_type": "code",
   "execution_count": 9,
   "id": "6975b7d6",
   "metadata": {},
   "outputs": [],
   "source": [
    "setattr(Phone, 'os', 'Android')"
   ]
  },
  {
   "cell_type": "code",
   "execution_count": 10,
   "id": "9b42062a",
   "metadata": {},
   "outputs": [
    {
     "data": {
      "text/plain": [
       "'Android'"
      ]
     },
     "execution_count": 10,
     "metadata": {},
     "output_type": "execute_result"
    }
   ],
   "source": [
    "getattr(Phone, 'os')"
   ]
  },
  {
   "cell_type": "code",
   "execution_count": 11,
   "id": "da134a96",
   "metadata": {},
   "outputs": [],
   "source": [
    "Phone.origin_country= 'Poland'"
   ]
  },
  {
   "cell_type": "code",
   "execution_count": 12,
   "id": "1cbcba9d",
   "metadata": {},
   "outputs": [
    {
     "data": {
      "text/plain": [
       "mappingproxy({'__module__': '__main__',\n",
       "              'sector': 'electronics',\n",
       "              'os': 'Android',\n",
       "              'width': 500,\n",
       "              'height': 1200,\n",
       "              '__dict__': <attribute '__dict__' of 'Phone' objects>,\n",
       "              '__weakref__': <attribute '__weakref__' of 'Phone' objects>,\n",
       "              '__doc__': None,\n",
       "              'origin_country': 'Poland'})"
      ]
     },
     "execution_count": 12,
     "metadata": {},
     "output_type": "execute_result"
    }
   ],
   "source": [
    "Phone.__dict__"
   ]
  },
  {
   "cell_type": "code",
   "execution_count": 13,
   "id": "2a14b81f",
   "metadata": {},
   "outputs": [
    {
     "data": {
      "text/plain": [
       "'Poland'"
      ]
     },
     "execution_count": 13,
     "metadata": {},
     "output_type": "execute_result"
    }
   ],
   "source": [
    "Phone.origin_country"
   ]
  },
  {
   "cell_type": "code",
   "execution_count": 14,
   "id": "7972bc2f",
   "metadata": {},
   "outputs": [],
   "source": [
    "setattr(Phone, 'year_of_production', 2020)"
   ]
  },
  {
   "cell_type": "code",
   "execution_count": 15,
   "id": "201a2126",
   "metadata": {},
   "outputs": [
    {
     "data": {
      "text/plain": [
       "mappingproxy({'__module__': '__main__',\n",
       "              'sector': 'electronics',\n",
       "              'os': 'Android',\n",
       "              'width': 500,\n",
       "              'height': 1200,\n",
       "              '__dict__': <attribute '__dict__' of 'Phone' objects>,\n",
       "              '__weakref__': <attribute '__weakref__' of 'Phone' objects>,\n",
       "              '__doc__': None,\n",
       "              'origin_country': 'Poland',\n",
       "              'year_of_production': 2020})"
      ]
     },
     "execution_count": 15,
     "metadata": {},
     "output_type": "execute_result"
    }
   ],
   "source": [
    "Phone.__dict__"
   ]
  },
  {
   "cell_type": "code",
   "execution_count": 16,
   "id": "d1c3f3d8",
   "metadata": {},
   "outputs": [],
   "source": [
    "del Phone.os"
   ]
  },
  {
   "cell_type": "code",
   "execution_count": 17,
   "id": "3cfacfe1",
   "metadata": {},
   "outputs": [
    {
     "data": {
      "text/plain": [
       "mappingproxy({'__module__': '__main__',\n",
       "              'sector': 'electronics',\n",
       "              'width': 500,\n",
       "              'height': 1200,\n",
       "              '__dict__': <attribute '__dict__' of 'Phone' objects>,\n",
       "              '__weakref__': <attribute '__weakref__' of 'Phone' objects>,\n",
       "              '__doc__': None,\n",
       "              'origin_country': 'Poland',\n",
       "              'year_of_production': 2020})"
      ]
     },
     "execution_count": 17,
     "metadata": {},
     "output_type": "execute_result"
    }
   ],
   "source": [
    "Phone.__dict__"
   ]
  },
  {
   "cell_type": "code",
   "execution_count": 18,
   "id": "cc174b97",
   "metadata": {},
   "outputs": [],
   "source": [
    "delattr?"
   ]
  },
  {
   "cell_type": "code",
   "execution_count": 19,
   "id": "4aa4113c",
   "metadata": {},
   "outputs": [],
   "source": [
    "delattr(Phone,'width')"
   ]
  },
  {
   "cell_type": "code",
   "execution_count": 20,
   "id": "95d4b70c",
   "metadata": {},
   "outputs": [
    {
     "data": {
      "text/plain": [
       "mappingproxy({'__module__': '__main__',\n",
       "              'sector': 'electronics',\n",
       "              'height': 1200,\n",
       "              '__dict__': <attribute '__dict__' of 'Phone' objects>,\n",
       "              '__weakref__': <attribute '__weakref__' of 'Phone' objects>,\n",
       "              '__doc__': None,\n",
       "              'origin_country': 'Poland',\n",
       "              'year_of_production': 2020})"
      ]
     },
     "execution_count": 20,
     "metadata": {},
     "output_type": "execute_result"
    }
   ],
   "source": [
    "Phone.__dict__"
   ]
  },
  {
   "cell_type": "code",
   "execution_count": 33,
   "id": "c9bfe7df",
   "metadata": {},
   "outputs": [],
   "source": [
    "class Phone:\n",
    "    sector = 'electronics'\n",
    "    os = 'Android'\n",
    "    width = 500\n",
    "    height = 1200\n",
    "    \n",
    "    def describe_class():\n",
    "        print(f'{Phone.__name__} class')\n",
    "        print(f'Operating system: {Phone.os}')"
   ]
  },
  {
   "cell_type": "code",
   "execution_count": 27,
   "id": "91630dbc",
   "metadata": {},
   "outputs": [
    {
     "data": {
      "text/plain": [
       "mappingproxy({'__module__': '__main__',\n",
       "              'sector': 'electronics',\n",
       "              'os': 'Android',\n",
       "              'width': 500,\n",
       "              'height': 1200,\n",
       "              'describe_class': <function __main__.Phone.describe_class()>,\n",
       "              '__dict__': <attribute '__dict__' of 'Phone' objects>,\n",
       "              '__weakref__': <attribute '__weakref__' of 'Phone' objects>,\n",
       "              '__doc__': None})"
      ]
     },
     "execution_count": 27,
     "metadata": {},
     "output_type": "execute_result"
    }
   ],
   "source": [
    "Phone.__dict__"
   ]
  },
  {
   "cell_type": "code",
   "execution_count": 34,
   "id": "7534742c",
   "metadata": {},
   "outputs": [
    {
     "name": "stdout",
     "output_type": "stream",
     "text": [
      "Phone class\n",
      "Operating system: Android\n"
     ]
    }
   ],
   "source": [
    "Phone.describe_class()"
   ]
  },
  {
   "cell_type": "code",
   "execution_count": 35,
   "id": "58e80ca1",
   "metadata": {},
   "outputs": [
    {
     "name": "stdout",
     "output_type": "stream",
     "text": [
      "Phone class\n",
      "Operating system: Android\n"
     ]
    }
   ],
   "source": [
    "getattr(Phone, 'describe_class')()"
   ]
  },
  {
   "cell_type": "code",
   "execution_count": null,
   "id": "c575ea54",
   "metadata": {},
   "outputs": [],
   "source": []
  }
 ],
 "metadata": {
  "kernelspec": {
   "display_name": "Python 3",
   "language": "python",
   "name": "python3"
  },
  "language_info": {
   "codemirror_mode": {
    "name": "ipython",
    "version": 3
   },
   "file_extension": ".py",
   "mimetype": "text/x-python",
   "name": "python",
   "nbconvert_exporter": "python",
   "pygments_lexer": "ipython3",
   "version": "3.8.8"
  }
 },
 "nbformat": 4,
 "nbformat_minor": 5
}
