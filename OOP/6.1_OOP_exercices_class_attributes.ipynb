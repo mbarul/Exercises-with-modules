{
 "cells": [
  {
   "cell_type": "code",
   "execution_count": 4,
   "id": "542ddaf0",
   "metadata": {},
   "outputs": [],
   "source": [
    "class HouseProject:\n",
    "    number_of_floors = 2\n",
    "    area = 100\n",
    "    \n",
    "    def describe_project():\n",
    "        print(f'Area {HouseProject.area}')\n",
    "        print(f'Number of floors {HouseProject.number_of_floors}')\n",
    "        \n"
   ]
  },
  {
   "cell_type": "code",
   "execution_count": 6,
   "id": "ac8b8bf3",
   "metadata": {},
   "outputs": [
    {
     "name": "stdout",
     "output_type": "stream",
     "text": [
      "Area 100\n",
      "Number of floors 2\n"
     ]
    }
   ],
   "source": [
    "HouseProject()\n",
    "HouseProject.__dict__\n",
    "HouseProject.describe_project()"
   ]
  },
  {
   "cell_type": "code",
   "execution_count": 7,
   "id": "6f3a51ca",
   "metadata": {},
   "outputs": [
    {
     "data": {
      "text/plain": [
       "'10:48:31'"
      ]
     },
     "execution_count": 7,
     "metadata": {},
     "output_type": "execute_result"
    }
   ],
   "source": [
    "from datetime import datetime\n",
    "\n",
    "datetime.now().strftime('%H:%M:%S')"
   ]
  },
  {
   "cell_type": "code",
   "execution_count": 14,
   "id": "1174aa88",
   "metadata": {},
   "outputs": [
    {
     "data": {
      "text/plain": [
       "mappingproxy({'__module__': '__main__',\n",
       "              'execution_time': '10_53_25',\n",
       "              'fname': 'image_10_53_25.png',\n",
       "              'current_time': <function __main__.Foto.current_time()>,\n",
       "              '__dict__': <attribute '__dict__' of 'Foto' objects>,\n",
       "              '__weakref__': <attribute '__weakref__' of 'Foto' objects>,\n",
       "              '__doc__': None})"
      ]
     },
     "execution_count": 14,
     "metadata": {},
     "output_type": "execute_result"
    }
   ],
   "source": [
    "class Foto:\n",
    "    \n",
    "    execution_time = datetime.now().strftime('%H_%M_%S')\n",
    "    fname = 'image_' + execution_time + '.png'\n",
    "    \n",
    "    def current_time():\n",
    "        return datetime.now().strftime('%H_%M_%S')\n",
    "Foto.__dict__"
   ]
  },
  {
   "cell_type": "code",
   "execution_count": 10,
   "id": "136f8150",
   "metadata": {},
   "outputs": [
    {
     "data": {
      "text/plain": [
       "'10_49_55'"
      ]
     },
     "execution_count": 10,
     "metadata": {},
     "output_type": "execute_result"
    }
   ],
   "source": [
    "Foto.execution_time"
   ]
  },
  {
   "cell_type": "code",
   "execution_count": 11,
   "id": "74b649dc",
   "metadata": {},
   "outputs": [
    {
     "data": {
      "text/plain": [
       "'image_10_49_55.png'"
      ]
     },
     "execution_count": 11,
     "metadata": {},
     "output_type": "execute_result"
    }
   ],
   "source": [
    "Foto.fname"
   ]
  },
  {
   "cell_type": "code",
   "execution_count": 17,
   "id": "73c0941a",
   "metadata": {},
   "outputs": [
    {
     "data": {
      "text/plain": [
       "'10_53_25'"
      ]
     },
     "execution_count": 17,
     "metadata": {},
     "output_type": "execute_result"
    }
   ],
   "source": [
    "Foto.execution_time"
   ]
  },
  {
   "cell_type": "code",
   "execution_count": 18,
   "id": "9ad0f176",
   "metadata": {},
   "outputs": [
    {
     "data": {
      "text/plain": [
       "'10_54_55'"
      ]
     },
     "execution_count": 18,
     "metadata": {},
     "output_type": "execute_result"
    }
   ],
   "source": [
    "Foto.current_time()"
   ]
  },
  {
   "cell_type": "markdown",
   "id": "ea7b3766",
   "metadata": {},
   "source": [
    "MRO - method resolution order"
   ]
  },
  {
   "cell_type": "code",
   "execution_count": 19,
   "id": "777f03b9",
   "metadata": {},
   "outputs": [
    {
     "data": {
      "text/plain": [
       "(__main__.Foto, object)"
      ]
     },
     "execution_count": 19,
     "metadata": {},
     "output_type": "execute_result"
    }
   ],
   "source": [
    "Foto.__mro__"
   ]
  },
  {
   "cell_type": "code",
   "execution_count": null,
   "id": "ae990d8e",
   "metadata": {},
   "outputs": [],
   "source": []
  }
 ],
 "metadata": {
  "kernelspec": {
   "display_name": "Python 3",
   "language": "python",
   "name": "python3"
  },
  "language_info": {
   "codemirror_mode": {
    "name": "ipython",
    "version": 3
   },
   "file_extension": ".py",
   "mimetype": "text/x-python",
   "name": "python",
   "nbconvert_exporter": "python",
   "pygments_lexer": "ipython3",
   "version": "3.8.8"
  }
 },
 "nbformat": 4,
 "nbformat_minor": 5
}
