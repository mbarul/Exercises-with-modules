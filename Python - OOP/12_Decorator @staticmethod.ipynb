{
 "cells": [
  {
   "cell_type": "markdown",
   "id": "37cc92e7",
   "metadata": {},
   "source": [
    "Static method"
   ]
  },
  {
   "cell_type": "code",
   "execution_count": 13,
   "id": "a26319ca",
   "metadata": {},
   "outputs": [
    {
     "data": {
      "text/plain": [
       "mappingproxy({'__module__': '__main__',\n",
       "              'instances': [],\n",
       "              '__init__': <function __main__.Phone.__init__(self)>,\n",
       "              'get_current_time': <staticmethod at 0x2346be335b0>,\n",
       "              '__dict__': <attribute '__dict__' of 'Phone' objects>,\n",
       "              '__weakref__': <attribute '__weakref__' of 'Phone' objects>,\n",
       "              '__doc__': None})"
      ]
     },
     "execution_count": 13,
     "metadata": {},
     "output_type": "execute_result"
    }
   ],
   "source": [
    "import time\n",
    "\n",
    "\n",
    "class Phone:\n",
    "\n",
    "    instances = []\n",
    "\n",
    "    def __init__(self):\n",
    "        self.creation_time = Phone.get_current_time()\n",
    "        Phone.instances.append(self)\n",
    "\n",
    "    @staticmethod\n",
    "    def get_current_time():\n",
    "        return time.strftime('%H:%M:%S', time.localtime())\n",
    "\n",
    "Phone.__dict__"
   ]
  },
  {
   "cell_type": "code",
   "execution_count": 14,
   "id": "1da54981",
   "metadata": {},
   "outputs": [],
   "source": [
    "phone1 = Phone()\n",
    "time.sleep(1)\n",
    "phone2 = Phone()\n",
    "time.sleep(2)\n",
    "phone3 = Phone()"
   ]
  },
  {
   "cell_type": "code",
   "execution_count": 15,
   "id": "22b67221",
   "metadata": {},
   "outputs": [
    {
     "data": {
      "text/plain": [
       "[<__main__.Phone at 0x2346be33670>,\n",
       " <__main__.Phone at 0x2346bd4c100>,\n",
       " <__main__.Phone at 0x2346bd34b80>]"
      ]
     },
     "execution_count": 15,
     "metadata": {},
     "output_type": "execute_result"
    }
   ],
   "source": [
    "Phone.instances"
   ]
  },
  {
   "cell_type": "code",
   "execution_count": 16,
   "id": "d31f4204",
   "metadata": {},
   "outputs": [
    {
     "name": "stdout",
     "output_type": "stream",
     "text": [
      "14:18:46 <__main__.Phone object at 0x000002346BE33670>\n",
      "14:18:47 <__main__.Phone object at 0x000002346BD4C100>\n",
      "14:18:49 <__main__.Phone object at 0x000002346BD34B80>\n"
     ]
    }
   ],
   "source": [
    "for instance in Phone.instances:\n",
    "    print(instance.creation_time, instance)"
   ]
  },
  {
   "cell_type": "code",
   "execution_count": null,
   "id": "600157f4",
   "metadata": {},
   "outputs": [],
   "source": []
  },
  {
   "cell_type": "code",
   "execution_count": null,
   "id": "88f8128c",
   "metadata": {},
   "outputs": [],
   "source": []
  }
 ],
 "metadata": {
  "kernelspec": {
   "display_name": "Python 3",
   "language": "python",
   "name": "python3"
  },
  "language_info": {
   "codemirror_mode": {
    "name": "ipython",
    "version": 3
   },
   "file_extension": ".py",
   "mimetype": "text/x-python",
   "name": "python",
   "nbconvert_exporter": "python",
   "pygments_lexer": "ipython3",
   "version": "3.8.8"
  }
 },
 "nbformat": 4,
 "nbformat_minor": 5
}
