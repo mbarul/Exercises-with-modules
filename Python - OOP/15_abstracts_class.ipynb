{
 "cells": [
  {
   "cell_type": "markdown",
   "id": "21655d1f",
   "metadata": {},
   "source": [
    "Abstracts classes"
   ]
  },
  {
   "cell_type": "code",
   "execution_count": 31,
   "id": "19537d95",
   "metadata": {},
   "outputs": [],
   "source": [
    "from abc import ABC, abstractmethod\n",
    "import math"
   ]
  },
  {
   "cell_type": "code",
   "execution_count": 50,
   "id": "0030b0a8",
   "metadata": {},
   "outputs": [],
   "source": [
    "class Figure(ABC):\n",
    "    \n",
    "    @abstractmethod\n",
    "    def area(self):\n",
    "        pass\n",
    "    \n",
    "    @abstractmethod\n",
    "    def perimeter(self):\n",
    "        pass\n",
    "    \n",
    "class Square(Figure):\n",
    "    def __init__(self,a=1):\n",
    "        self.a = a\n",
    "        \n",
    "    def area(self):\n",
    "        return self.a*self.a\n",
    "    \n",
    "    def perimeter(self):\n",
    "        return self.a*4\n",
    "\n",
    "class Circle(Figure):\n",
    "    def __init__(self, radius=1):\n",
    "        self.radius = radius\n",
    "   \n",
    "    \n",
    "    def area(self):\n",
    "        return math.pi * self.radius **2\n",
    "    \n",
    "    def perimeter(self):\n",
    "        return 2 * math.pi * self.radius"
   ]
  },
  {
   "cell_type": "code",
   "execution_count": 51,
   "id": "dc6b6f0e",
   "metadata": {},
   "outputs": [
    {
     "name": "stdout",
     "output_type": "stream",
     "text": [
      "Area: 1.00\n",
      "Perimeter: 4.00\n",
      "\n",
      "Area: 25.00\n",
      "Perimeter: 20.00\n",
      "\n",
      "Area: 100.00\n",
      "Perimeter: 40.00\n",
      "\n",
      "Area: 3.14\n",
      "Perimeter: 6.28\n",
      "\n",
      "Area: 78.54\n",
      "Perimeter: 31.42\n",
      "\n",
      "Area: 314.16\n",
      "Perimeter: 62.83\n",
      "\n"
     ]
    }
   ],
   "source": [
    "figures = [Square(), Square(5), Square(10), Circle(), Circle(5), Circle(10)]\n",
    "\n",
    "for figure in figures:\n",
    "    print(f'Area: {figure.area():.2f}')\n",
    "    print(f'Perimeter: {figure.perimeter():.2f}\\n')"
   ]
  },
  {
   "cell_type": "code",
   "execution_count": null,
   "id": "044b75ad",
   "metadata": {},
   "outputs": [],
   "source": []
  },
  {
   "cell_type": "code",
   "execution_count": 52,
   "id": "7e182e68",
   "metadata": {},
   "outputs": [],
   "source": [
    "from abc import ABC, abstractmethod\n",
    "import math\n",
    "\n",
    "\n",
    "class Figure(ABC):\n",
    "\n",
    "    @abstractmethod\n",
    "    def area(self):\n",
    "        pass\n",
    "\n",
    "    @abstractmethod\n",
    "    def perimeter(self):\n",
    "        pass\n",
    "\n",
    "\n",
    "class Square(Figure):\n",
    "\n",
    "    def __init__(self, a=1):\n",
    "        self.a = a\n",
    "\n",
    "    def area(self):\n",
    "        return self.a * self.a\n",
    "\n",
    "    def perimeter(self):\n",
    "        return self.a * 4\n",
    "\n",
    "\n",
    "class Circle(Figure):\n",
    "\n",
    "    def __init__(self, radius=1):\n",
    "        self.radius = radius\n",
    "\n",
    "    def area(self):\n",
    "        return math.pi * self.radius ** 2\n",
    "\n",
    "    def perimeter(self):\n",
    "        return 2 * math.pi * self.radius"
   ]
  },
  {
   "cell_type": "code",
   "execution_count": 53,
   "id": "a20e69f9",
   "metadata": {},
   "outputs": [
    {
     "name": "stdout",
     "output_type": "stream",
     "text": [
      "Area: 1.00\n",
      "Perimeter: 4.00\n",
      "\n",
      "Area: 25.00\n",
      "Perimeter: 20.00\n",
      "\n",
      "Area: 100.00\n",
      "Perimeter: 40.00\n",
      "\n",
      "Area: 3.14\n",
      "Perimeter: 6.28\n",
      "\n",
      "Area: 78.54\n",
      "Perimeter: 31.42\n",
      "\n",
      "Area: 314.16\n",
      "Perimeter: 62.83\n",
      "\n"
     ]
    }
   ],
   "source": [
    "figures = [Square(), Square(5), Square(10), Circle(), Circle(5), Circle(10)]\n",
    "\n",
    "for figure in figures:\n",
    "    print(f'Area: {figure.area():.2f}')\n",
    "    print(f'Perimeter: {figure.perimeter():.2f}\\n')"
   ]
  },
  {
   "cell_type": "code",
   "execution_count": null,
   "id": "63d3db14",
   "metadata": {},
   "outputs": [],
   "source": []
  }
 ],
 "metadata": {
  "kernelspec": {
   "display_name": "Python 3",
   "language": "python",
   "name": "python3"
  },
  "language_info": {
   "codemirror_mode": {
    "name": "ipython",
    "version": 3
   },
   "file_extension": ".py",
   "mimetype": "text/x-python",
   "name": "python",
   "nbconvert_exporter": "python",
   "pygments_lexer": "ipython3",
   "version": "3.8.8"
  }
 },
 "nbformat": 4,
 "nbformat_minor": 5
}
