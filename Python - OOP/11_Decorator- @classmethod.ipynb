{
 "cells": [
  {
   "cell_type": "markdown",
   "id": "d1b91195",
   "metadata": {},
   "source": [
    "Class method and decorator @classmethod"
   ]
  },
  {
   "cell_type": "code",
   "execution_count": 27,
   "id": "3bb5bf53",
   "metadata": {},
   "outputs": [
    {
     "data": {
      "text/plain": [
       "mappingproxy({'__module__': '__main__',\n",
       "              'show': <classmethod at 0x14d6ed98df0>,\n",
       "              'describe': <function __main__.Phone.describe(self)>,\n",
       "              '__dict__': <attribute '__dict__' of 'Phone' objects>,\n",
       "              '__weakref__': <attribute '__weakref__' of 'Phone' objects>,\n",
       "              '__doc__': None})"
      ]
     },
     "execution_count": 27,
     "metadata": {},
     "output_type": "execute_result"
    }
   ],
   "source": [
    "class Phone:\n",
    "    \n",
    "    @classmethod\n",
    "    def show(cls):\n",
    "        print(f'Running...{cls}')\n",
    "        \n",
    "    def describe(self):\n",
    "        print(f'Describing...{self}')    \n",
    "    \n",
    "Phone.__dict__"
   ]
  },
  {
   "cell_type": "code",
   "execution_count": 28,
   "id": "8f442740",
   "metadata": {},
   "outputs": [
    {
     "name": "stdout",
     "output_type": "stream",
     "text": [
      "Running...<class '__main__.Phone'>\n"
     ]
    }
   ],
   "source": [
    "Phone.show()"
   ]
  },
  {
   "cell_type": "code",
   "execution_count": 29,
   "id": "a6d27955",
   "metadata": {},
   "outputs": [
    {
     "data": {
      "text/plain": [
       "<bound method Phone.show of <class '__main__.Phone'>>"
      ]
     },
     "execution_count": 29,
     "metadata": {},
     "output_type": "execute_result"
    }
   ],
   "source": [
    "Phone.show"
   ]
  },
  {
   "cell_type": "code",
   "execution_count": 30,
   "id": "04a3622f",
   "metadata": {},
   "outputs": [],
   "source": [
    "phone = Phone()\n"
   ]
  },
  {
   "cell_type": "code",
   "execution_count": 31,
   "id": "241aace9",
   "metadata": {},
   "outputs": [
    {
     "name": "stdout",
     "output_type": "stream",
     "text": [
      "Running...<class '__main__.Phone'>\n"
     ]
    }
   ],
   "source": [
    "phone.show()"
   ]
  },
  {
   "cell_type": "code",
   "execution_count": 32,
   "id": "5d03bb1a",
   "metadata": {},
   "outputs": [
    {
     "data": {
      "text/plain": [
       "<bound method Phone.show of <class '__main__.Phone'>>"
      ]
     },
     "execution_count": 32,
     "metadata": {},
     "output_type": "execute_result"
    }
   ],
   "source": [
    "phone.show"
   ]
  },
  {
   "cell_type": "code",
   "execution_count": 33,
   "id": "5bcb3d97",
   "metadata": {},
   "outputs": [
    {
     "name": "stdout",
     "output_type": "stream",
     "text": [
      "Help on class classmethod in module builtins:\n",
      "\n",
      "class classmethod(object)\n",
      " |  classmethod(function) -> method\n",
      " |  \n",
      " |  Convert a function to be a class method.\n",
      " |  \n",
      " |  A class method receives the class as implicit first argument,\n",
      " |  just like an instance method receives the instance.\n",
      " |  To declare a class method, use this idiom:\n",
      " |  \n",
      " |    class C:\n",
      " |        @classmethod\n",
      " |        def f(cls, arg1, arg2, ...):\n",
      " |            ...\n",
      " |  \n",
      " |  It can be called either on the class (e.g. C.f()) or on an instance\n",
      " |  (e.g. C().f()).  The instance is ignored except for its class.\n",
      " |  If a class method is called for a derived class, the derived class\n",
      " |  object is passed as the implied first argument.\n",
      " |  \n",
      " |  Class methods are different than C++ or Java static methods.\n",
      " |  If you want those, see the staticmethod builtin.\n",
      " |  \n",
      " |  Methods defined here:\n",
      " |  \n",
      " |  __get__(self, instance, owner, /)\n",
      " |      Return an attribute of instance, which is of type owner.\n",
      " |  \n",
      " |  __init__(self, /, *args, **kwargs)\n",
      " |      Initialize self.  See help(type(self)) for accurate signature.\n",
      " |  \n",
      " |  ----------------------------------------------------------------------\n",
      " |  Static methods defined here:\n",
      " |  \n",
      " |  __new__(*args, **kwargs) from builtins.type\n",
      " |      Create and return a new object.  See help(type) for accurate signature.\n",
      " |  \n",
      " |  ----------------------------------------------------------------------\n",
      " |  Data descriptors defined here:\n",
      " |  \n",
      " |  __dict__\n",
      " |  \n",
      " |  __func__\n",
      " |  \n",
      " |  __isabstractmethod__\n",
      "\n"
     ]
    }
   ],
   "source": [
    "help(classmethod)"
   ]
  },
  {
   "cell_type": "code",
   "execution_count": 34,
   "id": "91776d0f",
   "metadata": {},
   "outputs": [
    {
     "name": "stdout",
     "output_type": "stream",
     "text": [
      "Running...<class '__main__.Phone'>\n"
     ]
    }
   ],
   "source": [
    "Phone.show()\n"
   ]
  },
  {
   "cell_type": "code",
   "execution_count": 35,
   "id": "1c3008bd",
   "metadata": {},
   "outputs": [
    {
     "name": "stdout",
     "output_type": "stream",
     "text": [
      "Running...<class '__main__.Phone'>\n"
     ]
    }
   ],
   "source": [
    "phone.show()"
   ]
  },
  {
   "cell_type": "markdown",
   "id": "1d1a2770",
   "metadata": {},
   "source": [
    "Exercise"
   ]
  },
  {
   "cell_type": "code",
   "execution_count": 49,
   "id": "cf64e602",
   "metadata": {},
   "outputs": [
    {
     "data": {
      "text/plain": [
       "mappingproxy({'__module__': '__main__',\n",
       "              'instances': [],\n",
       "              '__init__': <function __main__.Laptop.__init__(self, brand)>,\n",
       "              'show': <classmethod at 0x14d6edaa490>,\n",
       "              'show_brand': <function __main__.Laptop.show_brand(self)>,\n",
       "              '__dict__': <attribute '__dict__' of 'Laptop' objects>,\n",
       "              '__weakref__': <attribute '__weakref__' of 'Laptop' objects>,\n",
       "              '__doc__': None})"
      ]
     },
     "execution_count": 49,
     "metadata": {},
     "output_type": "execute_result"
    }
   ],
   "source": [
    "class Laptop:\n",
    "    \n",
    "    instances = []\n",
    "    \n",
    "    def __init__(self, brand):\n",
    "        Laptop.instances.append(self)\n",
    "        self.brand = brand\n",
    "    @classmethod    \n",
    "    def show(cls):\n",
    "        if len(cls.instances) > 0:\n",
    "            print(f\"List of instance of the {cls.__name__} class\")\n",
    "            for instance in cls.instances:\n",
    "                print(f\"\\t{instance}\")\n",
    "        else:\n",
    "            print(f\"There is no instance of the {cls.__name__} class\")\n",
    "    def show_brand(self):\n",
    "        print(f\"Brand: {self.brand}\")\n",
    "Laptop.__dict__"
   ]
  },
  {
   "cell_type": "code",
   "execution_count": 50,
   "id": "1fa6e561",
   "metadata": {},
   "outputs": [
    {
     "name": "stdout",
     "output_type": "stream",
     "text": [
      "There is no instance of the Laptop class\n"
     ]
    }
   ],
   "source": [
    "Laptop.show()"
   ]
  },
  {
   "cell_type": "code",
   "execution_count": 51,
   "id": "3c31c329",
   "metadata": {},
   "outputs": [
    {
     "name": "stdout",
     "output_type": "stream",
     "text": [
      "List of instance of the Laptop class\n",
      "\t<__main__.Laptop object at 0x0000014D6ED98790>\n",
      "\t<__main__.Laptop object at 0x0000014D6ED98CA0>\n"
     ]
    }
   ],
   "source": [
    "laptop1 = Laptop('Dell')\n",
    "laptop2 = Laptop('Samsung')\n",
    "Laptop.show()"
   ]
  },
  {
   "cell_type": "code",
   "execution_count": 52,
   "id": "0399140b",
   "metadata": {},
   "outputs": [
    {
     "name": "stdout",
     "output_type": "stream",
     "text": [
      "Brand: Dell\n",
      "Brand: Samsung\n"
     ]
    }
   ],
   "source": [
    "for instance in Laptop.instances:\n",
    "    instance.show_brand()"
   ]
  },
  {
   "cell_type": "code",
   "execution_count": null,
   "id": "730ec6f0",
   "metadata": {},
   "outputs": [],
   "source": []
  }
 ],
 "metadata": {
  "kernelspec": {
   "display_name": "Python 3",
   "language": "python",
   "name": "python3"
  },
  "language_info": {
   "codemirror_mode": {
    "name": "ipython",
    "version": 3
   },
   "file_extension": ".py",
   "mimetype": "text/x-python",
   "name": "python",
   "nbconvert_exporter": "python",
   "pygments_lexer": "ipython3",
   "version": "3.8.8"
  }
 },
 "nbformat": 4,
 "nbformat_minor": 5
}
