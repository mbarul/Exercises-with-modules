{
 "cells": [
  {
   "cell_type": "code",
   "execution_count": 42,
   "id": "8def5e67",
   "metadata": {},
   "outputs": [],
   "source": [
    "class Model:\n",
    "\n",
    "    def __init__(self, y_true, y_pred):\n",
    "        if not isinstance(y_true, (list,tuple)):\n",
    "            raise TypeError(f\"The y_true must be of type list or tuple, not {type(y_true).__name__}\")\n",
    "            \n",
    "        if not isinstance(y_pred, (list,tuple)):\n",
    "            raise TypeError(f\"The y_pred must be of type list or tuple, not {type(y_pred).__name__}\")\n",
    "        if not len(y_true) == len(y_pred):\n",
    "            raise ValueError(\"The length must be this same\")\n",
    "        self._y_true = y_true\n",
    "        self._y_pred = y_pred\n",
    "        self._accuracy = None\n",
    "\n",
    "    @property\n",
    "    def y_true(self):\n",
    "        return self._y_true\n",
    "\n",
    "    @y_true.setter\n",
    "    def y_true(self, value):\n",
    "        self._y_true = value\n",
    "        self._accuracy = None\n",
    "    \n",
    "    @y_true.deleter\n",
    "    def y_true(self):\n",
    "        print('deleting...')\n",
    "        del self._y_true\n",
    "    \n",
    "    @property\n",
    "    def y_pred(self):\n",
    "        return self._y_pred\n",
    "\n",
    "    @y_pred.setter\n",
    "    def y_pred(self, value):\n",
    "        self._y_pred = value\n",
    "        self._accuracy = None  \n",
    "        \n",
    "    @y_pred.deleter\n",
    "    def y_pred(self):\n",
    "        print('deleting...')\n",
    "        del self._y_true\n",
    "    \n",
    "    @property\n",
    "    def accuracy(self):\n",
    "        if not self._accuracy:\n",
    "            print('Calculating...')\n",
    "            self._accuracy = sum([i == j\n",
    "                for i, j in zip(self.y_true, self.y_pred)]) / len(self.y_true)\n",
    "        print(f'Model accuracy: {self._accuracy:.4f}')\n",
    "\n",
    "model = Model([0,1,0,1,0,1], [0,1,0,0,0,0])"
   ]
  },
  {
   "cell_type": "code",
   "execution_count": 43,
   "id": "cc7d8f82",
   "metadata": {},
   "outputs": [
    {
     "data": {
      "text/plain": [
       "<__main__.Model at 0x228de5aff10>"
      ]
     },
     "execution_count": 43,
     "metadata": {},
     "output_type": "execute_result"
    }
   ],
   "source": [
    "model"
   ]
  },
  {
   "cell_type": "code",
   "execution_count": 44,
   "id": "d93d1c61",
   "metadata": {},
   "outputs": [
    {
     "name": "stdout",
     "output_type": "stream",
     "text": [
      "Calculating...\n",
      "Model accuracy: 0.6667\n"
     ]
    }
   ],
   "source": [
    "model.accuracy"
   ]
  },
  {
   "cell_type": "code",
   "execution_count": 45,
   "id": "d24eaeb8",
   "metadata": {},
   "outputs": [
    {
     "name": "stdout",
     "output_type": "stream",
     "text": [
      "Model accuracy: 0.6667\n"
     ]
    }
   ],
   "source": [
    "model.accuracy"
   ]
  },
  {
   "cell_type": "code",
   "execution_count": 46,
   "id": "774736c2",
   "metadata": {},
   "outputs": [
    {
     "data": {
      "text/plain": [
       "[0, 1, 0, 1, 0, 1]"
      ]
     },
     "execution_count": 46,
     "metadata": {},
     "output_type": "execute_result"
    }
   ],
   "source": [
    "model._y_true"
   ]
  },
  {
   "cell_type": "code",
   "execution_count": 47,
   "id": "a8644248",
   "metadata": {},
   "outputs": [],
   "source": [
    "model._y_true = [1, 0, 0, 1, 0, 0, 1]"
   ]
  },
  {
   "cell_type": "code",
   "execution_count": 48,
   "id": "5d7241e1",
   "metadata": {},
   "outputs": [
    {
     "name": "stdout",
     "output_type": "stream",
     "text": [
      "Model accuracy: 0.6667\n"
     ]
    }
   ],
   "source": [
    "model.accuracy"
   ]
  },
  {
   "cell_type": "code",
   "execution_count": 49,
   "id": "2d75f84f",
   "metadata": {},
   "outputs": [
    {
     "data": {
      "text/plain": [
       "{'_y_true': [1, 0, 0, 1, 0, 0, 1],\n",
       " '_y_pred': [0, 1, 0, 0, 0, 0],\n",
       " '_accuracy': 0.6666666666666666}"
      ]
     },
     "execution_count": 49,
     "metadata": {},
     "output_type": "execute_result"
    }
   ],
   "source": [
    "model.__dict__"
   ]
  },
  {
   "cell_type": "code",
   "execution_count": 50,
   "id": "c9bcc16f",
   "metadata": {},
   "outputs": [
    {
     "name": "stdout",
     "output_type": "stream",
     "text": [
      "Model accuracy: 0.6667\n"
     ]
    }
   ],
   "source": [
    "model.accuracy"
   ]
  },
  {
   "cell_type": "code",
   "execution_count": 51,
   "id": "714531ae",
   "metadata": {},
   "outputs": [
    {
     "name": "stdout",
     "output_type": "stream",
     "text": [
      "deleting...\n"
     ]
    }
   ],
   "source": [
    "del model.y_true"
   ]
  },
  {
   "cell_type": "code",
   "execution_count": 52,
   "id": "0188b5d5",
   "metadata": {},
   "outputs": [
    {
     "data": {
      "text/plain": [
       "{'_y_pred': [0, 1, 0, 0, 0, 0], '_accuracy': 0.6666666666666666}"
      ]
     },
     "execution_count": 52,
     "metadata": {},
     "output_type": "execute_result"
    }
   ],
   "source": [
    "model.__dict__"
   ]
  },
  {
   "cell_type": "code",
   "execution_count": 53,
   "id": "b84cd26e",
   "metadata": {},
   "outputs": [],
   "source": [
    "model._y_true = [1, 0, 0, 1, 0, 0, 1]"
   ]
  },
  {
   "cell_type": "code",
   "execution_count": 41,
   "id": "297bed77",
   "metadata": {},
   "outputs": [
    {
     "data": {
      "text/plain": [
       "{'_y_pred': [0, 1, 0, 0, 0, 0],\n",
       " '_accuracy': None,\n",
       " '_y_true': [1, 0, 0, 1, 0, 0, 1]}"
      ]
     },
     "execution_count": 41,
     "metadata": {},
     "output_type": "execute_result"
    }
   ],
   "source": [
    "model.__dict__"
   ]
  },
  {
   "cell_type": "code",
   "execution_count": null,
   "id": "54d239f1",
   "metadata": {},
   "outputs": [],
   "source": []
  }
 ],
 "metadata": {
  "kernelspec": {
   "display_name": "Python 3",
   "language": "python",
   "name": "python3"
  },
  "language_info": {
   "codemirror_mode": {
    "name": "ipython",
    "version": 3
   },
   "file_extension": ".py",
   "mimetype": "text/x-python",
   "name": "python",
   "nbconvert_exporter": "python",
   "pygments_lexer": "ipython3",
   "version": "3.8.8"
  }
 },
 "nbformat": 4,
 "nbformat_minor": 5
}
