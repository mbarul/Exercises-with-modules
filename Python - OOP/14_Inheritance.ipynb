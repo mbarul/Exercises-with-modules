{
 "cells": [
  {
   "cell_type": "markdown",
   "id": "13c648d1",
   "metadata": {},
   "source": [
    "Inheritance"
   ]
  },
  {
   "cell_type": "code",
   "execution_count": 4,
   "id": "cad3a27b",
   "metadata": {},
   "outputs": [],
   "source": [
    "class Vehicle:\n",
    "    pass\n",
    "\n",
    "class LandVehicle(Vehicle):\n",
    "    pass\n",
    "\n",
    "class Bike(LandVehicle):\n",
    "    pass\n",
    "class Car(LandVehicle):\n",
    "    pass\n",
    "class WaterVehicle(Vehicle):\n",
    "    pass\n",
    "    "
   ]
  },
  {
   "cell_type": "markdown",
   "id": "720a2625",
   "metadata": {},
   "source": [
    "MRO - Method Resolution Order"
   ]
  },
  {
   "cell_type": "markdown",
   "id": "b5f645c6",
   "metadata": {},
   "source": [
    "Nadpisywanie - Method Overriding"
   ]
  },
  {
   "cell_type": "code",
   "execution_count": 31,
   "id": "8f46b613",
   "metadata": {},
   "outputs": [
    {
     "data": {
      "text/plain": [
       "Vehicle(category=land)"
      ]
     },
     "execution_count": 31,
     "metadata": {},
     "output_type": "execute_result"
    }
   ],
   "source": [
    "class Vehicle:\n",
    "    def __init__(self,category=None):\n",
    "        self.category = category if category else 'land'\n",
    "        \n",
    "    def __repr__(self):\n",
    "        return f\"{self.__class__.__name__}(category={self.category})\"\n",
    "        \n",
    "vehicle = Vehicle()\n",
    "vehicle"
   ]
  },
  {
   "cell_type": "code",
   "execution_count": 32,
   "id": "e875e855",
   "metadata": {},
   "outputs": [
    {
     "data": {
      "text/plain": [
       "[__main__.Vehicle, object]"
      ]
     },
     "execution_count": 32,
     "metadata": {},
     "output_type": "execute_result"
    }
   ],
   "source": [
    "Vehicle.mro()"
   ]
  },
  {
   "cell_type": "code",
   "execution_count": 33,
   "id": "8b466fa1",
   "metadata": {},
   "outputs": [],
   "source": [
    "class LandVehicle(Vehicle):\n",
    "    pass"
   ]
  },
  {
   "cell_type": "code",
   "execution_count": 34,
   "id": "6e3d0eb2",
   "metadata": {},
   "outputs": [],
   "source": [
    "class AirVehicle(Vehicle):\n",
    "    pass"
   ]
  },
  {
   "cell_type": "code",
   "execution_count": 35,
   "id": "59f5f785",
   "metadata": {},
   "outputs": [],
   "source": [
    "vehicles=[Vehicle(),LandVehicle(),AirVehicle('air')]"
   ]
  },
  {
   "cell_type": "code",
   "execution_count": 36,
   "id": "2e0a3f01",
   "metadata": {},
   "outputs": [
    {
     "data": {
      "text/plain": [
       "[Vehicle(category=land), LandVehicle(category=land), AirVehicle(category=air)]"
      ]
     },
     "execution_count": 36,
     "metadata": {},
     "output_type": "execute_result"
    }
   ],
   "source": [
    "vehicles"
   ]
  },
  {
   "cell_type": "code",
   "execution_count": 8,
   "id": "327877bc",
   "metadata": {},
   "outputs": [
    {
     "data": {
      "text/plain": [
       "[Vehicle(category=land), LandVehicle(category=land), AirVehicle(category=air)]"
      ]
     },
     "execution_count": 8,
     "metadata": {},
     "output_type": "execute_result"
    }
   ],
   "source": [
    "class Vehicle:\n",
    "    def __init__(self,category=None):\n",
    "        self.category = category if category else 'land'\n",
    "        \n",
    "    def __repr__(self):\n",
    "        return f\"{self.__class__.__name__}(category={self.category})\"\n",
    "    \n",
    "    def display_info(self):\n",
    "        print(f'Vehicle category {self.category}')\n",
    "        \n",
    "    def show_activity(self):\n",
    "        print(f\"{self} -> Moving...\")\n",
    "        \n",
    "class LandVehicle(Vehicle):\n",
    "     def display_info(self):\n",
    "        print(f'LandVehicle category {self.category}')\n",
    "    \n",
    "     def show_activity(self):\n",
    "        print(f\"{self} -> Driving...\")\n",
    "class AirVehicle(Vehicle):\n",
    "     def show_activity(self):\n",
    "        print(f\"{self} -> Flying...\")\n",
    "\n",
    "        \n",
    "vehicles=[Vehicle(),LandVehicle(),AirVehicle('air')]\n",
    "vehicles"
   ]
  },
  {
   "cell_type": "code",
   "execution_count": 9,
   "id": "570bacaf",
   "metadata": {},
   "outputs": [
    {
     "name": "stdout",
     "output_type": "stream",
     "text": [
      "Vehicle category land\n",
      "LandVehicle category land\n",
      "Vehicle category air\n"
     ]
    }
   ],
   "source": [
    "for vehicle in vehicles:\n",
    "    vehicle.display_info()"
   ]
  },
  {
   "cell_type": "code",
   "execution_count": 10,
   "id": "8792c479",
   "metadata": {},
   "outputs": [
    {
     "name": "stdout",
     "output_type": "stream",
     "text": [
      "Vehicle(category=land) -> Moving...\n",
      "LandVehicle(category=land) -> Driving...\n",
      "AirVehicle(category=air) -> Flying...\n"
     ]
    }
   ],
   "source": [
    "for vehicle in vehicles:\n",
    "    vehicle.show_activity()"
   ]
  },
  {
   "cell_type": "code",
   "execution_count": 19,
   "id": "cec93706",
   "metadata": {},
   "outputs": [
    {
     "name": "stdout",
     "output_type": "stream",
     "text": [
      "---USER SESSION ---\n",
      "Starting\n",
      "Drinking\n",
      "Working\n",
      "Ending\n",
      "--- END SESSION ---\n",
      "\n"
     ]
    }
   ],
   "source": [
    "class User:\n",
    "    def start(self):\n",
    "        print('Starting')\n",
    "    \n",
    "    def drink(self):\n",
    "        print('Drinking')\n",
    "        \n",
    "    def work(self):\n",
    "        print('Working')\n",
    "    def end(self):\n",
    "        print('Ending')\n",
    "    def make_session(self):\n",
    "        print(f'---{self.__class__.__name__.upper()} SESSION ---')\n",
    "        User.start(self)\n",
    "        self.drink()\n",
    "        self.work()\n",
    "        self.end()\n",
    "        print(f'--- END SESSION ---\\n')\n",
    "class Player(User):\n",
    "    def work(self):\n",
    "        print('Playing')\n",
    "        \n",
    "user = User()\n",
    "user.make_session()"
   ]
  },
  {
   "cell_type": "code",
   "execution_count": 20,
   "id": "411e7316",
   "metadata": {},
   "outputs": [
    {
     "name": "stdout",
     "output_type": "stream",
     "text": [
      "---PLAYER SESSION ---\n",
      "Starting\n",
      "Drinking\n",
      "Playing\n",
      "Ending\n",
      "--- END SESSION ---\n",
      "\n"
     ]
    }
   ],
   "source": [
    "player = Player()\n",
    "player.make_session()"
   ]
  },
  {
   "cell_type": "markdown",
   "id": "22f29027",
   "metadata": {},
   "source": [
    "Super()"
   ]
  },
  {
   "cell_type": "code",
   "execution_count": 22,
   "id": "546c6d84",
   "metadata": {},
   "outputs": [],
   "source": [
    "class Vehicle:\n",
    "    def __init__(self, brand, year):\n",
    "        self.brand = brand\n",
    "        self.year = year\n",
    "\n",
    "class Car(Vehicle):\n",
    "    def __init__(self,brand, year, horsepower):\n",
    "        self.brand = brand\n",
    "        self.year = year \n",
    "        self.horsepower = horsepower"
   ]
  },
  {
   "cell_type": "code",
   "execution_count": 23,
   "id": "b9505d5d",
   "metadata": {},
   "outputs": [
    {
     "data": {
      "text/plain": [
       "{'brand': 'Tesla', 'year': 2020}"
      ]
     },
     "execution_count": 23,
     "metadata": {},
     "output_type": "execute_result"
    }
   ],
   "source": [
    "v1 = Vehicle('Tesla', 2020)\n",
    "v1.__dict__"
   ]
  },
  {
   "cell_type": "code",
   "execution_count": 25,
   "id": "82c0dbc5",
   "metadata": {},
   "outputs": [
    {
     "data": {
      "text/plain": [
       "{'brand': 'Tesla', 'year': 2020, 'horsepower': 306}"
      ]
     },
     "execution_count": 25,
     "metadata": {},
     "output_type": "execute_result"
    }
   ],
   "source": [
    "c1 = Car('Tesla', 2020,306 )\n",
    "c1.__dict__"
   ]
  },
  {
   "cell_type": "code",
   "execution_count": 28,
   "id": "578126b4",
   "metadata": {},
   "outputs": [
    {
     "data": {
      "text/plain": [
       "{'brand': 'Tesla', 'year': 2020}"
      ]
     },
     "execution_count": 28,
     "metadata": {},
     "output_type": "execute_result"
    }
   ],
   "source": [
    "class Vehicle:\n",
    "    def __init__(self, brand, year):\n",
    "        self.brand = brand\n",
    "        self.year = year\n",
    "\n",
    "class Car(Vehicle):\n",
    "    def __init__(self,brand, year, horsepower):\n",
    "        super().__init__(brand, year)\n",
    "        self.horsepower = horsepower\n",
    "\n",
    "v1 = Vehicle('Tesla', 2020)\n",
    "v1.__dict__"
   ]
  },
  {
   "cell_type": "code",
   "execution_count": 29,
   "id": "a2338ac0",
   "metadata": {},
   "outputs": [
    {
     "data": {
      "text/plain": [
       "{'brand': 'Tesla', 'year': 2020, 'horsepower': 306}"
      ]
     },
     "execution_count": 29,
     "metadata": {},
     "output_type": "execute_result"
    }
   ],
   "source": [
    "c1 = Car('Tesla', 2020,306 )\n",
    "c1.__dict__"
   ]
  },
  {
   "cell_type": "code",
   "execution_count": 33,
   "id": "0cab5d5c",
   "metadata": {},
   "outputs": [],
   "source": [
    "class Vehicle:\n",
    "    def __init__(self, brand, year):\n",
    "        self.brand = brand\n",
    "        self.year = year\n",
    "\n",
    "class Car(Vehicle):\n",
    "    def __init__(self,brand, year, horsepower):\n",
    "        \n",
    "        self.horsepower = horsepower\n"
   ]
  },
  {
   "cell_type": "code",
   "execution_count": 34,
   "id": "5f69c3da",
   "metadata": {},
   "outputs": [
    {
     "data": {
      "text/plain": [
       "{'brand': 'Tesla', 'year': 2020}"
      ]
     },
     "execution_count": 34,
     "metadata": {},
     "output_type": "execute_result"
    }
   ],
   "source": [
    "v1 = Vehicle('Tesla', 2020)\n",
    "v1.__dict__"
   ]
  },
  {
   "cell_type": "code",
   "execution_count": 35,
   "id": "6daeda0a",
   "metadata": {},
   "outputs": [
    {
     "data": {
      "text/plain": [
       "{'horsepower': 306}"
      ]
     },
     "execution_count": 35,
     "metadata": {},
     "output_type": "execute_result"
    }
   ],
   "source": [
    "c1 = Car('Tesla', 2020,306 )\n",
    "c1.__dict__"
   ]
  },
  {
   "cell_type": "code",
   "execution_count": 37,
   "id": "d63a8669",
   "metadata": {},
   "outputs": [],
   "source": [
    "class Vehicle:\n",
    "    def __init__(self, brand, year):\n",
    "        self.brand = brand\n",
    "        self.year = year\n",
    "    \n",
    "    def show_details(self):\n",
    "        print(f'Calling from...{self.__class__.__name__}')\n",
    "class Car(Vehicle):\n",
    "    def __init__(self,brand, year, horsepower):\n",
    "        \n",
    "        self.horsepower = horsepower\n",
    "        \n",
    "    def show_details(self):\n",
    "        super().show_details()\n",
    "        print(f'Extended calling from...{self.__class__.__name__}')\n"
   ]
  },
  {
   "cell_type": "code",
   "execution_count": 38,
   "id": "728cde35",
   "metadata": {},
   "outputs": [
    {
     "data": {
      "text/plain": [
       "{'brand': 'Tesla', 'year': 2020}"
      ]
     },
     "execution_count": 38,
     "metadata": {},
     "output_type": "execute_result"
    }
   ],
   "source": [
    "v1 = Vehicle('Tesla', 2020)\n",
    "v1.__dict__"
   ]
  },
  {
   "cell_type": "code",
   "execution_count": 39,
   "id": "f3e42bb3",
   "metadata": {},
   "outputs": [
    {
     "data": {
      "text/plain": [
       "{'horsepower': 306}"
      ]
     },
     "execution_count": 39,
     "metadata": {},
     "output_type": "execute_result"
    }
   ],
   "source": [
    "c1 = Car('Tesla', 2020,306 )\n",
    "c1.__dict__"
   ]
  },
  {
   "cell_type": "code",
   "execution_count": 40,
   "id": "949a79ec",
   "metadata": {},
   "outputs": [
    {
     "name": "stdout",
     "output_type": "stream",
     "text": [
      "Calling from...Vehicle\n"
     ]
    }
   ],
   "source": [
    "v1.show_details()"
   ]
  },
  {
   "cell_type": "code",
   "execution_count": 41,
   "id": "864e282f",
   "metadata": {},
   "outputs": [
    {
     "name": "stdout",
     "output_type": "stream",
     "text": [
      "Calling from...Car\n",
      "Extended calling from...Car\n"
     ]
    }
   ],
   "source": [
    "c1.show_details()"
   ]
  },
  {
   "cell_type": "code",
   "execution_count": null,
   "id": "78695564",
   "metadata": {},
   "outputs": [],
   "source": [
    "Multilevel Inheritance"
   ]
  },
  {
   "cell_type": "code",
   "execution_count": 69,
   "id": "95c6dd22",
   "metadata": {},
   "outputs": [],
   "source": [
    "class Vehicle:\n",
    "\n",
    "    def __init__(self, brand, year):\n",
    "        self.brand = brand\n",
    "        self.year = year\n",
    "\n",
    "    def show_details(self):\n",
    "        return f'Calling from... {self.__class__.__name__}.'\n",
    "\n",
    "\n",
    "class Car(Vehicle):\n",
    "\n",
    "    def __init__(self, brand, year, horsepower):\n",
    "        super().__init__(brand, year)\n",
    "        self.horsepower = horsepower  \n",
    "\n",
    "    def show_details(self):\n",
    "        result = super().show_details() \n",
    "        return result + f'\\nCalling from derived class... {self.__class__.__name__}.'\n",
    "\n",
    "\n",
    "class RacingCar(Car):\n",
    "    \n",
    "    def show_details(self):\n",
    "        result = super().show_details() \n",
    "        return result + f'\\nCalling from... {self.__class__.__name__}.'"
   ]
  },
  {
   "cell_type": "code",
   "execution_count": 70,
   "id": "7eee31d7",
   "metadata": {},
   "outputs": [
    {
     "data": {
      "text/plain": [
       "'Calling from... Vehicle.'"
      ]
     },
     "execution_count": 70,
     "metadata": {},
     "output_type": "execute_result"
    }
   ],
   "source": [
    "v1 = Vehicle('Tesla', 2020)\n",
    "v1.__dict__\n",
    "v1.show_details()"
   ]
  },
  {
   "cell_type": "code",
   "execution_count": 72,
   "id": "1cbc44bb",
   "metadata": {},
   "outputs": [
    {
     "name": "stdout",
     "output_type": "stream",
     "text": [
      "Calling from... Car.\n",
      "Calling from derived class... Car.\n"
     ]
    }
   ],
   "source": [
    "c1 = Car('Tesla', 2020,306 )\n",
    "c1.__dict__\n",
    "print(c1.show_details())"
   ]
  },
  {
   "cell_type": "code",
   "execution_count": 75,
   "id": "130181e9",
   "metadata": {},
   "outputs": [
    {
     "name": "stdout",
     "output_type": "stream",
     "text": [
      "Calling from... RacingCar.\n",
      "Calling from derived class... RacingCar.\n",
      "Calling from... RacingCar.\n"
     ]
    }
   ],
   "source": [
    "rc1 = RacingCar('Tesla', 2020,306 )\n",
    "print(rc1.show_details())"
   ]
  },
  {
   "cell_type": "markdown",
   "id": "b7988301",
   "metadata": {},
   "source": [
    "Multiple Inheritance"
   ]
  },
  {
   "cell_type": "code",
   "execution_count": 87,
   "id": "855e6771",
   "metadata": {},
   "outputs": [],
   "source": [
    "class Person:\n",
    "    def __init__(self, first_name, last_name, age):\n",
    "        self.first_name= first_name\n",
    "        self.last_name = last_name\n",
    "        self.age = age\n",
    "\n",
    "class Department:\n",
    "    def __init__(self, dept_name):\n",
    "        self.dept_name = dept_name\n",
    "    "
   ]
  },
  {
   "cell_type": "code",
   "execution_count": 93,
   "id": "00fe9090",
   "metadata": {},
   "outputs": [],
   "source": [
    "class Worker(Person,Department):\n",
    "    def __init__(self, first_name, last_name, age, dept_name, hour_per_day=8):\n",
    "        Person.__init__(self, first_name, last_name, age)\n",
    "        Department.__init__(self, dept_name)\n",
    "        self.hour_per_day = hour_per_day"
   ]
  },
  {
   "cell_type": "code",
   "execution_count": 94,
   "id": "019fafe4",
   "metadata": {},
   "outputs": [],
   "source": [
    "worker = Worker('John', 'Smith', 40, 'IT')"
   ]
  },
  {
   "cell_type": "code",
   "execution_count": 95,
   "id": "83a7cb6a",
   "metadata": {},
   "outputs": [
    {
     "data": {
      "text/plain": [
       "{'first_name': 'John',\n",
       " 'last_name': 'Smith',\n",
       " 'age': 40,\n",
       " 'dept_name': 'IT',\n",
       " 'hour_per_day': 8}"
      ]
     },
     "execution_count": 95,
     "metadata": {},
     "output_type": "execute_result"
    }
   ],
   "source": [
    "worker.__dict__"
   ]
  },
  {
   "cell_type": "code",
   "execution_count": null,
   "id": "961d83ca",
   "metadata": {},
   "outputs": [],
   "source": []
  }
 ],
 "metadata": {
  "kernelspec": {
   "display_name": "Python 3",
   "language": "python",
   "name": "python3"
  },
  "language_info": {
   "codemirror_mode": {
    "name": "ipython",
    "version": 3
   },
   "file_extension": ".py",
   "mimetype": "text/x-python",
   "name": "python",
   "nbconvert_exporter": "python",
   "pygments_lexer": "ipython3",
   "version": "3.8.8"
  }
 },
 "nbformat": 4,
 "nbformat_minor": 5
}
