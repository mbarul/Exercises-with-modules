{
 "cells": [
  {
   "cell_type": "code",
   "execution_count": 12,
   "id": "5d561f1a",
   "metadata": {},
   "outputs": [],
   "source": [
    "class Phone:\n",
    "    def __init__(self, price):\n",
    "        self.set_price(price)\n",
    "        \n",
    "    def get_price(self):\n",
    "        return self._price\n",
    "    def set_price(self,value):\n",
    "        if isinstance(value, (int,float)):\n",
    "            if value > 0 :\n",
    "                self._price = value\n",
    "            else: \n",
    "                raise ValueError('The price attribute must be positive')\n",
    "        else:\n",
    "            raise TypeError ('The price attribute must be an int or float value')\n"
   ]
  },
  {
   "cell_type": "code",
   "execution_count": 15,
   "id": "6fa41a23",
   "metadata": {},
   "outputs": [
    {
     "ename": "TypeError",
     "evalue": "The price attribute must be an int or float value",
     "output_type": "error",
     "traceback": [
      "\u001b[1;31m---------------------------------------------------------------------------\u001b[0m",
      "\u001b[1;31mTypeError\u001b[0m                                 Traceback (most recent call last)",
      "\u001b[1;32m<ipython-input-15-e48f0bbb0e8f>\u001b[0m in \u001b[0;36m<module>\u001b[1;34m\u001b[0m\n\u001b[1;32m----> 1\u001b[1;33m \u001b[0mphone\u001b[0m \u001b[1;33m=\u001b[0m \u001b[0mPhone\u001b[0m\u001b[1;33m(\u001b[0m\u001b[1;34m'2000'\u001b[0m\u001b[1;33m)\u001b[0m\u001b[1;33m\u001b[0m\u001b[1;33m\u001b[0m\u001b[0m\n\u001b[0m\u001b[0;32m      2\u001b[0m \u001b[0mphone\u001b[0m\u001b[1;33m.\u001b[0m\u001b[0m__dict__\u001b[0m\u001b[1;33m\u001b[0m\u001b[1;33m\u001b[0m\u001b[0m\n",
      "\u001b[1;32m<ipython-input-12-13e38066830f>\u001b[0m in \u001b[0;36m__init__\u001b[1;34m(self, price)\u001b[0m\n\u001b[0;32m      1\u001b[0m \u001b[1;32mclass\u001b[0m \u001b[0mPhone\u001b[0m\u001b[1;33m:\u001b[0m\u001b[1;33m\u001b[0m\u001b[1;33m\u001b[0m\u001b[0m\n\u001b[0;32m      2\u001b[0m     \u001b[1;32mdef\u001b[0m \u001b[0m__init__\u001b[0m\u001b[1;33m(\u001b[0m\u001b[0mself\u001b[0m\u001b[1;33m,\u001b[0m \u001b[0mprice\u001b[0m\u001b[1;33m)\u001b[0m\u001b[1;33m:\u001b[0m\u001b[1;33m\u001b[0m\u001b[1;33m\u001b[0m\u001b[0m\n\u001b[1;32m----> 3\u001b[1;33m         \u001b[0mself\u001b[0m\u001b[1;33m.\u001b[0m\u001b[0mset_price\u001b[0m\u001b[1;33m(\u001b[0m\u001b[0mprice\u001b[0m\u001b[1;33m)\u001b[0m\u001b[1;33m\u001b[0m\u001b[1;33m\u001b[0m\u001b[0m\n\u001b[0m\u001b[0;32m      4\u001b[0m \u001b[1;33m\u001b[0m\u001b[0m\n\u001b[0;32m      5\u001b[0m     \u001b[1;32mdef\u001b[0m \u001b[0mget_price\u001b[0m\u001b[1;33m(\u001b[0m\u001b[0mself\u001b[0m\u001b[1;33m)\u001b[0m\u001b[1;33m:\u001b[0m\u001b[1;33m\u001b[0m\u001b[1;33m\u001b[0m\u001b[0m\n",
      "\u001b[1;32m<ipython-input-12-13e38066830f>\u001b[0m in \u001b[0;36mset_price\u001b[1;34m(self, value)\u001b[0m\n\u001b[0;32m     12\u001b[0m                 \u001b[1;32mraise\u001b[0m \u001b[0mValueError\u001b[0m\u001b[1;33m(\u001b[0m\u001b[1;34m'The price attribute must be positive'\u001b[0m\u001b[1;33m)\u001b[0m\u001b[1;33m\u001b[0m\u001b[1;33m\u001b[0m\u001b[0m\n\u001b[0;32m     13\u001b[0m         \u001b[1;32melse\u001b[0m\u001b[1;33m:\u001b[0m\u001b[1;33m\u001b[0m\u001b[1;33m\u001b[0m\u001b[0m\n\u001b[1;32m---> 14\u001b[1;33m             \u001b[1;32mraise\u001b[0m \u001b[0mTypeError\u001b[0m \u001b[1;33m(\u001b[0m\u001b[1;34m'The price attribute must be an int or float value'\u001b[0m\u001b[1;33m)\u001b[0m\u001b[1;33m\u001b[0m\u001b[1;33m\u001b[0m\u001b[0m\n\u001b[0m",
      "\u001b[1;31mTypeError\u001b[0m: The price attribute must be an int or float value"
     ]
    }
   ],
   "source": [
    "phone = Phone('2000')\n",
    "phone.__dict__"
   ]
  },
  {
   "cell_type": "code",
   "execution_count": 14,
   "id": "9a0b69c0",
   "metadata": {},
   "outputs": [
    {
     "ename": "ValueError",
     "evalue": "The price attribute must be positive",
     "output_type": "error",
     "traceback": [
      "\u001b[1;31m---------------------------------------------------------------------------\u001b[0m",
      "\u001b[1;31mValueError\u001b[0m                                Traceback (most recent call last)",
      "\u001b[1;32m<ipython-input-14-f96964fd0338>\u001b[0m in \u001b[0;36m<module>\u001b[1;34m\u001b[0m\n\u001b[1;32m----> 1\u001b[1;33m \u001b[0mphone\u001b[0m\u001b[1;33m.\u001b[0m\u001b[0mset_price\u001b[0m\u001b[1;33m(\u001b[0m\u001b[1;33m-\u001b[0m\u001b[1;36m299\u001b[0m\u001b[1;33m)\u001b[0m\u001b[1;33m\u001b[0m\u001b[1;33m\u001b[0m\u001b[0m\n\u001b[0m",
      "\u001b[1;32m<ipython-input-12-13e38066830f>\u001b[0m in \u001b[0;36mset_price\u001b[1;34m(self, value)\u001b[0m\n\u001b[0;32m     10\u001b[0m                 \u001b[0mself\u001b[0m\u001b[1;33m.\u001b[0m\u001b[0m_price\u001b[0m \u001b[1;33m=\u001b[0m \u001b[0mvalue\u001b[0m\u001b[1;33m\u001b[0m\u001b[1;33m\u001b[0m\u001b[0m\n\u001b[0;32m     11\u001b[0m             \u001b[1;32melse\u001b[0m\u001b[1;33m:\u001b[0m\u001b[1;33m\u001b[0m\u001b[1;33m\u001b[0m\u001b[0m\n\u001b[1;32m---> 12\u001b[1;33m                 \u001b[1;32mraise\u001b[0m \u001b[0mValueError\u001b[0m\u001b[1;33m(\u001b[0m\u001b[1;34m'The price attribute must be positive'\u001b[0m\u001b[1;33m)\u001b[0m\u001b[1;33m\u001b[0m\u001b[1;33m\u001b[0m\u001b[0m\n\u001b[0m\u001b[0;32m     13\u001b[0m         \u001b[1;32melse\u001b[0m\u001b[1;33m:\u001b[0m\u001b[1;33m\u001b[0m\u001b[1;33m\u001b[0m\u001b[0m\n\u001b[0;32m     14\u001b[0m             \u001b[1;32mraise\u001b[0m \u001b[0mTypeError\u001b[0m \u001b[1;33m(\u001b[0m\u001b[1;34m'The price attribute must be an int or float value'\u001b[0m\u001b[1;33m)\u001b[0m\u001b[1;33m\u001b[0m\u001b[1;33m\u001b[0m\u001b[0m\n",
      "\u001b[1;31mValueError\u001b[0m: The price attribute must be positive"
     ]
    }
   ],
   "source": [
    "phone.set_price(-299)"
   ]
  },
  {
   "cell_type": "code",
   "execution_count": 8,
   "id": "60d9185b",
   "metadata": {},
   "outputs": [
    {
     "data": {
      "text/plain": [
       "mappingproxy({'__module__': '__main__',\n",
       "              '__doc__': 'Phone class docs.',\n",
       "              '__init__': <function __main__.Phone.__init__(self, price)>,\n",
       "              'get_price': <function __main__.Phone.get_price(self)>,\n",
       "              'set_price': <function __main__.Phone.set_price(self, value)>,\n",
       "              'del_price': <function __main__.Phone.del_price(self)>,\n",
       "              'price': <property at 0x22e4a500e00>,\n",
       "              '__dict__': <attribute '__dict__' of 'Phone' objects>,\n",
       "              '__weakref__': <attribute '__weakref__' of 'Phone' objects>})"
      ]
     },
     "execution_count": 8,
     "metadata": {},
     "output_type": "execute_result"
    }
   ],
   "source": [
    "class Phone:\n",
    "    \"\"\"Phone class docs.\"\"\"\n",
    "    def __init__(self, price):\n",
    "        self._price = price\n",
    "        \n",
    "    def get_price(self):\n",
    "        print('getting...')\n",
    "        return self._price\n",
    "\n",
    "    def set_price(self, value):\n",
    "        print('setting...')\n",
    "        if isinstance(value, (int, float)):\n",
    "            if value > 0:\n",
    "                self._price = value\n",
    "            else:\n",
    "                raise ValueError('The price attribute must be positive.')\n",
    "        else:\n",
    "            raise TypeError('The price attribute must be an int or float value.')        \n",
    "    \n",
    "    def del_price(self):\n",
    "        print('deleting...')\n",
    "        del self._price\n",
    "    price = property(fget=get_price, fset=set_price, fdel= del_price, doc='Phone price')\n",
    "\n",
    "Phone.__dict__\n",
    "\n",
    "   "
   ]
  },
  {
   "cell_type": "code",
   "execution_count": 3,
   "id": "5ba24752",
   "metadata": {},
   "outputs": [],
   "source": [
    "phone = Phone(1200)"
   ]
  },
  {
   "cell_type": "code",
   "execution_count": 4,
   "id": "4c737c73",
   "metadata": {},
   "outputs": [
    {
     "name": "stdout",
     "output_type": "stream",
     "text": [
      "getting...\n"
     ]
    },
    {
     "data": {
      "text/plain": [
       "1200"
      ]
     },
     "execution_count": 4,
     "metadata": {},
     "output_type": "execute_result"
    }
   ],
   "source": [
    "phone.price"
   ]
  },
  {
   "cell_type": "code",
   "execution_count": 5,
   "id": "d608609f",
   "metadata": {},
   "outputs": [
    {
     "name": "stdout",
     "output_type": "stream",
     "text": [
      "setting...\n"
     ]
    }
   ],
   "source": [
    "phone.price = 4000\n"
   ]
  },
  {
   "cell_type": "code",
   "execution_count": 6,
   "id": "716b4c56",
   "metadata": {},
   "outputs": [
    {
     "name": "stdout",
     "output_type": "stream",
     "text": [
      "deleting...\n"
     ]
    }
   ],
   "source": [
    "del phone.price\n"
   ]
  },
  {
   "cell_type": "code",
   "execution_count": 7,
   "id": "117c2f8b",
   "metadata": {},
   "outputs": [
    {
     "data": {
      "text/plain": [
       "{}"
      ]
     },
     "execution_count": 7,
     "metadata": {},
     "output_type": "execute_result"
    }
   ],
   "source": [
    "phone.__dict__"
   ]
  },
  {
   "cell_type": "code",
   "execution_count": 1,
   "id": "82a316e4",
   "metadata": {},
   "outputs": [
    {
     "name": "stdout",
     "output_type": "stream",
     "text": [
      "Python 3.8\n"
     ]
    }
   ],
   "source": []
  },
  {
   "cell_type": "code",
   "execution_count": 2,
   "id": "5020695b",
   "metadata": {},
   "outputs": [],
   "source": [
    "def pretty_print(func):\n",
    "    def wrapper():\n",
    "        print(\"=\"*30)\n",
    "        func()\n",
    "        print(\"=\"*30)\n",
    "    return wrapper"
   ]
  },
  {
   "cell_type": "code",
   "execution_count": 5,
   "id": "d2554ad1",
   "metadata": {},
   "outputs": [
    {
     "name": "stdout",
     "output_type": "stream",
     "text": [
      "==============================\n",
      "Python 3.8\n",
      "==============================\n"
     ]
    }
   ],
   "source": [
    "pretty_print(hello)()"
   ]
  },
  {
   "cell_type": "code",
   "execution_count": 7,
   "id": "eff1a2fd",
   "metadata": {},
   "outputs": [
    {
     "name": "stdout",
     "output_type": "stream",
     "text": [
      "==============================\n",
      "Python 3.8\n",
      "==============================\n"
     ]
    }
   ],
   "source": [
    "@pretty_print\n",
    "def hello():\n",
    "    print(\"Python 3.8\")\n",
    "hello()"
   ]
  },
  {
   "cell_type": "code",
   "execution_count": 8,
   "id": "840d4f7b",
   "metadata": {},
   "outputs": [
    {
     "data": {
      "text/plain": [
       "1634906638.7552605"
      ]
     },
     "execution_count": 8,
     "metadata": {},
     "output_type": "execute_result"
    }
   ],
   "source": [
    "import time \n",
    "\n",
    "time.time()"
   ]
  },
  {
   "cell_type": "code",
   "execution_count": 9,
   "id": "5abb269e",
   "metadata": {},
   "outputs": [],
   "source": [
    "time.sleep(2)"
   ]
  },
  {
   "cell_type": "code",
   "execution_count": 3,
   "id": "c4fb56ab",
   "metadata": {},
   "outputs": [
    {
     "name": "stdout",
     "output_type": "stream",
     "text": [
      "Executing wrapper...\n",
      "Execution time: 2.0129\n"
     ]
    }
   ],
   "source": [
    "import time\n",
    "\n",
    "def timer(func):\n",
    "    def wrapper(sec):\n",
    "        start = time.time()\n",
    "        func(sec)\n",
    "        stop = time.time()\n",
    "        print(f\"Execution time: {stop - start:.4f}\")\n",
    "    return wrapper\n",
    "@timer\n",
    "def fake_sleep(sec):\n",
    "    print(f\"Executing {fake_sleep.__name__}...\")\n",
    "    time.sleep(sec)\n",
    "\n",
    "fake_sleep(2)"
   ]
  },
  {
   "cell_type": "code",
   "execution_count": 15,
   "id": "10148964",
   "metadata": {},
   "outputs": [
    {
     "name": "stdout",
     "output_type": "stream",
     "text": [
      "Executing fake_sleep...\n"
     ]
    }
   ],
   "source": [
    "fake_sleep(2)"
   ]
  },
  {
   "cell_type": "code",
   "execution_count": 16,
   "id": "5597d0ad",
   "metadata": {},
   "outputs": [
    {
     "name": "stdout",
     "output_type": "stream",
     "text": [
      "Executing fake_sleep...\n",
      "Execution time: 3.0084\n"
     ]
    }
   ],
   "source": [
    "timer(fake_sleep)(3)"
   ]
  },
  {
   "cell_type": "code",
   "execution_count": 5,
   "id": "f3a8681d",
   "metadata": {},
   "outputs": [
    {
     "data": {
      "text/plain": [
       "mappingproxy({'__module__': '__main__',\n",
       "              '__doc__': 'Phone class docs.',\n",
       "              '__init__': <function __main__.Phone.__init__(self, price)>,\n",
       "              'price': <property at 0x23155e01cc0>,\n",
       "              '__dict__': <attribute '__dict__' of 'Phone' objects>,\n",
       "              '__weakref__': <attribute '__weakref__' of 'Phone' objects>})"
      ]
     },
     "execution_count": 5,
     "metadata": {},
     "output_type": "execute_result"
    }
   ],
   "source": [
    "class Phone:\n",
    "    \"\"\"Phone class docs.\"\"\"\n",
    "    def __init__(self, price):\n",
    "        self._price = price\n",
    "    @property    \n",
    "    def price(self):\n",
    "        print('getting...')\n",
    "        return self._price\n",
    "\n",
    "\n",
    "\n",
    "Phone.__dict__\n"
   ]
  },
  {
   "cell_type": "code",
   "execution_count": 6,
   "id": "77618514",
   "metadata": {},
   "outputs": [
    {
     "data": {
      "text/plain": [
       "{'_price': 2000}"
      ]
     },
     "execution_count": 6,
     "metadata": {},
     "output_type": "execute_result"
    }
   ],
   "source": [
    "phone = Phone(2000)\n",
    "phone.__dict__"
   ]
  },
  {
   "cell_type": "code",
   "execution_count": 7,
   "id": "31d8b5dc",
   "metadata": {},
   "outputs": [
    {
     "name": "stdout",
     "output_type": "stream",
     "text": [
      "getting...\n"
     ]
    },
    {
     "data": {
      "text/plain": [
       "2000"
      ]
     },
     "execution_count": 7,
     "metadata": {},
     "output_type": "execute_result"
    }
   ],
   "source": [
    "phone.price"
   ]
  },
  {
   "cell_type": "markdown",
   "id": "ba78c2c1",
   "metadata": {},
   "source": [
    "#### Decorator - property -> exercise"
   ]
  },
  {
   "cell_type": "code",
   "execution_count": 11,
   "id": "5e9da2ec",
   "metadata": {},
   "outputs": [],
   "source": [
    "class Game:\n",
    "    def __init__(self,level=0):\n",
    "        self.level =level\n",
    "        \n",
    "    @property\n",
    "    def level(self):\n",
    "        return self._level\n",
    "    \n",
    "    @level.setter\n",
    "    def level(self, value):\n",
    "        if value <0:\n",
    "            self._level = 0\n",
    "        elif value > 100:\n",
    "            self._level = 100\n",
    "        else: self._level = value"
   ]
  },
  {
   "cell_type": "code",
   "execution_count": 12,
   "id": "540b87e3",
   "metadata": {},
   "outputs": [],
   "source": [
    "games = [Game(), Game(10), Game(-5), Game(200)]"
   ]
  },
  {
   "cell_type": "code",
   "execution_count": 13,
   "id": "f85db657",
   "metadata": {},
   "outputs": [
    {
     "data": {
      "text/plain": [
       "[<__main__.Game at 0x23155e117c0>,\n",
       " <__main__.Game at 0x23155e11490>,\n",
       " <__main__.Game at 0x23155e115b0>,\n",
       " <__main__.Game at 0x23155e114c0>]"
      ]
     },
     "execution_count": 13,
     "metadata": {},
     "output_type": "execute_result"
    }
   ],
   "source": [
    "games"
   ]
  },
  {
   "cell_type": "code",
   "execution_count": 18,
   "id": "929a0bd6",
   "metadata": {},
   "outputs": [
    {
     "data": {
      "text/plain": [
       "[0, 10, 0, 100]"
      ]
     },
     "execution_count": 18,
     "metadata": {},
     "output_type": "execute_result"
    }
   ],
   "source": [
    "[game.level for game in games]"
   ]
  },
  {
   "cell_type": "code",
   "execution_count": 19,
   "id": "68dfc182",
   "metadata": {},
   "outputs": [
    {
     "name": "stdout",
     "output_type": "stream",
     "text": [
      "0\n",
      "10\n",
      "0\n",
      "100\n"
     ]
    }
   ],
   "source": [
    "for game in games:\n",
    "    print(game.level)"
   ]
  },
  {
   "cell_type": "code",
   "execution_count": null,
   "id": "4c45cf1f",
   "metadata": {},
   "outputs": [],
   "source": []
  }
 ],
 "metadata": {
  "kernelspec": {
   "display_name": "Python 3",
   "language": "python",
   "name": "python3"
  },
  "language_info": {
   "codemirror_mode": {
    "name": "ipython",
    "version": 3
   },
   "file_extension": ".py",
   "mimetype": "text/x-python",
   "name": "python",
   "nbconvert_exporter": "python",
   "pygments_lexer": "ipython3",
   "version": "3.8.8"
  }
 },
 "nbformat": 4,
 "nbformat_minor": 5
}
