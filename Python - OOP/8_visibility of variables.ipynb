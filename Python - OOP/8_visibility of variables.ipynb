{
 "cells": [
  {
   "cell_type": "markdown",
   "id": "d30a1fd2",
   "metadata": {},
   "source": [
    "#### Visibility of variables"
   ]
  },
  {
   "cell_type": "markdown",
   "id": "d4cbfecf",
   "metadata": {},
   "source": [
    "Widoczność zmiennych\n",
    "Rodzaje zmiennych/atrybutów ze względu na widoczność:\n",
    "\n",
    "publiczne – dostęp mają wszyscy, np. var1, var2\n",
    "chronione – dostęp mają klasy dziedziczące, o tym opowiemy później, np. _var1, _var2\n",
    "prywatne – dostęp ma tylko ta klasa, np. __var1, __var2"
   ]
  },
  {
   "cell_type": "code",
   "execution_count": 25,
   "id": "c192c09d",
   "metadata": {},
   "outputs": [
    {
     "data": {
      "text/plain": [
       "mappingproxy({'__module__': '__main__',\n",
       "              'brand': 'Apple',\n",
       "              '_usdpln': 4.0,\n",
       "              '_Laptop__trade_margin': 0.3,\n",
       "              '__init__': <function __main__.Laptop.__init__(self, net_price)>,\n",
       "              '_convert_price': <function __main__.Laptop._convert_price(price)>,\n",
       "              'display_price_pln': <function __main__.Laptop.display_price_pln(self)>,\n",
       "              '__dict__': <attribute '__dict__' of 'Laptop' objects>,\n",
       "              '__weakref__': <attribute '__weakref__' of 'Laptop' objects>,\n",
       "              '__doc__': None})"
      ]
     },
     "execution_count": 25,
     "metadata": {},
     "output_type": "execute_result"
    }
   ],
   "source": [
    "class Laptop:\n",
    "\n",
    "    brand = 'Apple'\n",
    "    _usdpln = 4.0\n",
    "    __trade_margin = 0.3\n",
    "\n",
    "    def __init__(self, net_price):\n",
    "        self.net_price = net_price\n",
    "\n",
    "    def _convert_price(price):\n",
    "        return price * Laptop._usdpln * (1 + Laptop._Laptop__trade_margin)\n",
    "\n",
    "    def display_price_pln(self):\n",
    "        print(Laptop._convert_price(self.net_price))\n",
    "\n",
    "Laptop.__dict__"
   ]
  },
  {
   "cell_type": "code",
   "execution_count": 20,
   "id": "ea40422d",
   "metadata": {},
   "outputs": [],
   "source": [
    "laptop = Laptop(3000)"
   ]
  },
  {
   "cell_type": "code",
   "execution_count": 21,
   "id": "144b90ce",
   "metadata": {},
   "outputs": [
    {
     "name": "stdout",
     "output_type": "stream",
     "text": [
      "15600.0\n"
     ]
    }
   ],
   "source": [
    "laptop.display_price_pln()"
   ]
  },
  {
   "cell_type": "code",
   "execution_count": 26,
   "id": "246bfdd9",
   "metadata": {},
   "outputs": [
    {
     "ename": "AttributeError",
     "evalue": "type object 'Laptop' has no attribute '_Laptop__convert_price'",
     "output_type": "error",
     "traceback": [
      "\u001b[1;31m---------------------------------------------------------------------------\u001b[0m",
      "\u001b[1;31mAttributeError\u001b[0m                            Traceback (most recent call last)",
      "\u001b[1;32m<ipython-input-26-ce62d69dec0b>\u001b[0m in \u001b[0;36m<module>\u001b[1;34m\u001b[0m\n\u001b[1;32m----> 1\u001b[1;33m \u001b[0mLaptop\u001b[0m\u001b[1;33m.\u001b[0m\u001b[0m_Laptop__convert_price\u001b[0m\u001b[1;33m(\u001b[0m\u001b[1;36m400\u001b[0m\u001b[1;33m)\u001b[0m\u001b[1;33m\u001b[0m\u001b[1;33m\u001b[0m\u001b[0m\n\u001b[0m",
      "\u001b[1;31mAttributeError\u001b[0m: type object 'Laptop' has no attribute '_Laptop__convert_price'"
     ]
    }
   ],
   "source": []
  },
  {
   "cell_type": "code",
   "execution_count": 35,
   "id": "c1e33851",
   "metadata": {},
   "outputs": [
    {
     "data": {
      "text/plain": [
       "('Apple', 44032, 3000)"
      ]
     },
     "execution_count": 35,
     "metadata": {},
     "output_type": "execute_result"
    }
   ],
   "source": [
    "class Laptop:\n",
    "    def __init__(self,brand, code, wholesale_price):\n",
    "        self.brand = brand\n",
    "        self._code = code\n",
    "        self.__wholesale_price = wholesale_price\n",
    "        \n",
    "        \n",
    "laptop = Laptop('Apple', 44032, 3000)\n",
    "laptop.brand,laptop._code, laptop._Laptop__wholesale_price\n"
   ]
  },
  {
   "cell_type": "code",
   "execution_count": 37,
   "id": "ab0ccad9",
   "metadata": {},
   "outputs": [
    {
     "data": {
      "text/plain": [
       "{'brand': 'Apple', '_code': 44032, '_Laptop__wholesale_price': 3000}"
      ]
     },
     "execution_count": 37,
     "metadata": {},
     "output_type": "execute_result"
    }
   ],
   "source": [
    "laptop.__dict__"
   ]
  },
  {
   "cell_type": "code",
   "execution_count": null,
   "id": "36a20ab0",
   "metadata": {},
   "outputs": [],
   "source": []
  }
 ],
 "metadata": {
  "kernelspec": {
   "display_name": "Python 3",
   "language": "python",
   "name": "python3"
  },
  "language_info": {
   "codemirror_mode": {
    "name": "ipython",
    "version": 3
   },
   "file_extension": ".py",
   "mimetype": "text/x-python",
   "name": "python",
   "nbconvert_exporter": "python",
   "pygments_lexer": "ipython3",
   "version": "3.8.8"
  }
 },
 "nbformat": 4,
 "nbformat_minor": 5
}
