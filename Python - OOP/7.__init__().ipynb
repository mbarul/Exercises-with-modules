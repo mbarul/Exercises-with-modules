{
 "cells": [
  {
   "cell_type": "code",
   "execution_count": 4,
   "id": "9c21170f",
   "metadata": {},
   "outputs": [
    {
     "name": "stdout",
     "output_type": "stream",
     "text": [
      "Inicjalizacja nowego obiektu <__main__.Phone object at 0x00000174BB6FBB80>.\n"
     ]
    }
   ],
   "source": [
    "class Phone:\n",
    "    \"\"\"Phone class.\"\"\"\n",
    "\n",
    "    def __init__(self):\n",
    "        print(f'Inicjalizacja nowego obiektu {self}.')\n",
    "        \n",
    "phone1= Phone()\n"
   ]
  },
  {
   "cell_type": "code",
   "execution_count": 5,
   "id": "d45428ea",
   "metadata": {},
   "outputs": [],
   "source": [
    "phone2 = Phone.__new__(Phone)"
   ]
  },
  {
   "cell_type": "code",
   "execution_count": 6,
   "id": "1fa8472f",
   "metadata": {},
   "outputs": [
    {
     "name": "stdout",
     "output_type": "stream",
     "text": [
      "Inicjalizacja nowego obiektu <__main__.Phone object at 0x00000174BB6FB340>.\n"
     ]
    }
   ],
   "source": [
    "phone2.__init__()"
   ]
  },
  {
   "cell_type": "code",
   "execution_count": 18,
   "id": "120ad3e4",
   "metadata": {},
   "outputs": [],
   "source": [
    "class Laptop:\n",
    "    def __init__(self, brand, model, price):\n",
    "        self.brand = brand\n",
    "        self.model= model\n",
    "        self.price = price\n",
    "    def display_attrs(self):\n",
    "        for attr in self.__dict__.keys():\n",
    "            print(attr)\n",
    "    def display_values(self):\n",
    "        for attr,values in self.__dict__.items():\n",
    "            print(f'{attr} -> {values}')"
   ]
  },
  {
   "cell_type": "code",
   "execution_count": 20,
   "id": "c5a69d80",
   "metadata": {},
   "outputs": [],
   "source": [
    "laptop1 = Laptop(\"Dell\", 'G5123', 2513)"
   ]
  },
  {
   "cell_type": "code",
   "execution_count": 23,
   "id": "2cc60bfd",
   "metadata": {},
   "outputs": [
    {
     "name": "stdout",
     "output_type": "stream",
     "text": [
      "brand\n",
      "model\n",
      "price\n"
     ]
    }
   ],
   "source": [
    "laptop1.display_attrs()"
   ]
  },
  {
   "cell_type": "code",
   "execution_count": 22,
   "id": "40487aab",
   "metadata": {},
   "outputs": [
    {
     "data": {
      "text/plain": [
       "dict_items([('brand', 'Dell'), ('model', 'G5123'), ('price', 2513)])"
      ]
     },
     "execution_count": 22,
     "metadata": {},
     "output_type": "execute_result"
    }
   ],
   "source": [
    "laptop1.__dict__.items()"
   ]
  },
  {
   "cell_type": "code",
   "execution_count": 21,
   "id": "1859f9d5",
   "metadata": {},
   "outputs": [
    {
     "name": "stdout",
     "output_type": "stream",
     "text": [
      "brand -> Dell\n",
      "model -> G5123\n",
      "price -> 2513\n"
     ]
    }
   ],
   "source": [
    "laptop1.display_values()"
   ]
  },
  {
   "cell_type": "code",
   "execution_count": 24,
   "id": "ec7f7829",
   "metadata": {},
   "outputs": [],
   "source": [
    "class Vector:\n",
    "    def __init__(self,*args):\n",
    "        self.compoments = args\n",
    "        \n",
    "v1 = Vector(5,3,2)"
   ]
  },
  {
   "cell_type": "code",
   "execution_count": 26,
   "id": "387a5461",
   "metadata": {},
   "outputs": [
    {
     "data": {
      "text/plain": [
       "(5, 3, 2)"
      ]
     },
     "execution_count": 26,
     "metadata": {},
     "output_type": "execute_result"
    }
   ],
   "source": [
    "v1.compoments"
   ]
  },
  {
   "cell_type": "code",
   "execution_count": 43,
   "id": "cdd45471",
   "metadata": {},
   "outputs": [],
   "source": [
    "class TechStack:\n",
    "    def __init__(self,**kwargs):\n",
    "        for attr_name, attr_value in kwargs.items():\n",
    "           setattr(self, attr_name, attr_value)\n",
    "    def display_info(self):\n",
    "        print(f'Total number of techs: {len(self.__dict__)}')"
   ]
  },
  {
   "cell_type": "code",
   "execution_count": 45,
   "id": "6c4b4339",
   "metadata": {},
   "outputs": [
    {
     "name": "stdout",
     "output_type": "stream",
     "text": [
      "Total number of techs: 2\n"
     ]
    }
   ],
   "source": [
    "stack = TechStack(python='mid', java='junior')\n",
    "stack.__dict__\n",
    "stack.display_info()"
   ]
  },
  {
   "cell_type": "markdown",
   "id": "0622aa7b",
   "metadata": {},
   "source": [
    "#### Validation "
   ]
  },
  {
   "cell_type": "code",
   "execution_count": 65,
   "id": "01229bba",
   "metadata": {},
   "outputs": [],
   "source": [
    "class Phone:\n",
    "    def __init__(self,brand,model,price):\n",
    "        self.brand = brand\n",
    "        self.model = model\n",
    "        \n",
    "        if isinstance(price, (int,float)):\n",
    "            self.price = price\n",
    "        else:    \n",
    "            raise TypeError('The price argument must be of type int or float')\n",
    "    \n",
    "    def show_details(self):\n",
    "        for attr, values in self.__dict__.items():\n",
    "            if attr == 'price':\n",
    "                print(f'{attr}: {values} PLN')\n",
    "            else:\n",
    "                print(f'{attr}: {values} ')"
   ]
  },
  {
   "cell_type": "code",
   "execution_count": 66,
   "id": "8093250e",
   "metadata": {},
   "outputs": [],
   "source": [
    "phone1 = Phone('apple', 'iPhone', 2199)\n",
    "phone2 = Phone('Samsung', 'G5', 29)"
   ]
  },
  {
   "cell_type": "code",
   "execution_count": 63,
   "id": "8f31d801",
   "metadata": {},
   "outputs": [
    {
     "name": "stdout",
     "output_type": "stream",
     "text": [
      "brand: apple \n",
      "model: iPhone \n",
      "price: 2199 PLN\n"
     ]
    }
   ],
   "source": [
    "phone1.show_details()"
   ]
  },
  {
   "cell_type": "code",
   "execution_count": 67,
   "id": "238669d8",
   "metadata": {},
   "outputs": [
    {
     "name": "stdout",
     "output_type": "stream",
     "text": [
      "brand: Samsung \n",
      "model: G5 \n",
      "price: 29 PLN\n"
     ]
    }
   ],
   "source": [
    "phone2.show_details()"
   ]
  },
  {
   "cell_type": "code",
   "execution_count": 84,
   "id": "94682d39",
   "metadata": {},
   "outputs": [],
   "source": [
    "class Phone:\n",
    "    def __init__(self,brand,model,price):\n",
    "        self.brand = brand\n",
    "        self.model = model\n",
    "        \n",
    "        if isinstance(price, (int,float)):\n",
    "            self.price = price\n",
    "        else:    \n",
    "            raise TypeError('The price argument must be of type int or float')\n",
    "    \n",
    "    def show_details(self):\n",
    "        for attr, values in self.__dict__.items():\n",
    "            if attr == 'price':\n",
    "                print(f'{attr}: {values} PLN')\n",
    "            else:\n",
    "                print(f'{attr}: {values} ')\n",
    "        \n",
    "    def pln_to_usd(self):\n",
    "        self.price = self.price /4"
   ]
  },
  {
   "cell_type": "code",
   "execution_count": 85,
   "id": "deb93c4b",
   "metadata": {},
   "outputs": [
    {
     "name": "stdout",
     "output_type": "stream",
     "text": [
      "brand: apple \n",
      "model: iPhone \n",
      "price: 2199 PLN\n"
     ]
    },
    {
     "data": {
      "text/plain": [
       "2199"
      ]
     },
     "execution_count": 85,
     "metadata": {},
     "output_type": "execute_result"
    }
   ],
   "source": [
    "phone1 = Phone('apple', 'iPhone', 2199)\n",
    "phone1.show_details()\n",
    "phone1.price"
   ]
  },
  {
   "cell_type": "code",
   "execution_count": 86,
   "id": "6a5f031b",
   "metadata": {},
   "outputs": [],
   "source": [
    "phone1.pln_to_usd()"
   ]
  },
  {
   "cell_type": "code",
   "execution_count": 87,
   "id": "aed150b6",
   "metadata": {},
   "outputs": [
    {
     "data": {
      "text/plain": [
       "549.75"
      ]
     },
     "execution_count": 87,
     "metadata": {},
     "output_type": "execute_result"
    }
   ],
   "source": [
    "phone1.price"
   ]
  },
  {
   "cell_type": "code",
   "execution_count": null,
   "id": "62341f7d",
   "metadata": {},
   "outputs": [],
   "source": []
  }
 ],
 "metadata": {
  "kernelspec": {
   "display_name": "Python 3",
   "language": "python",
   "name": "python3"
  },
  "language_info": {
   "codemirror_mode": {
    "name": "ipython",
    "version": 3
   },
   "file_extension": ".py",
   "mimetype": "text/x-python",
   "name": "python",
   "nbconvert_exporter": "python",
   "pygments_lexer": "ipython3",
   "version": "3.8.8"
  }
 },
 "nbformat": 4,
 "nbformat_minor": 5
}
