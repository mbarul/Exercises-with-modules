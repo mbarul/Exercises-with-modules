{
 "cells": [
  {
   "cell_type": "code",
   "execution_count": 3,
   "id": "99979994",
   "metadata": {},
   "outputs": [
    {
     "name": "stdout",
     "output_type": "stream",
     "text": [
      "0\n",
      "()\n",
      "1\n",
      "(3,)\n",
      "2\n",
      "(3, 'a')\n"
     ]
    }
   ],
   "source": [
    "def sample(*args):\n",
    "    print(len(args))\n",
    "    print(args)\n",
    "sample()\n",
    "sample(3)\n",
    "sample(3,'a')"
   ]
  },
  {
   "cell_type": "code",
   "execution_count": 7,
   "id": "5e14fdfd",
   "metadata": {},
   "outputs": [
    {
     "data": {
      "text/plain": [
       "'Python 3.8'"
      ]
     },
     "execution_count": 7,
     "metadata": {},
     "output_type": "execute_result"
    }
   ],
   "source": [
    "def stick(*args):\n",
    "    result = ''\n",
    "    for arg in args:\n",
    "        result += str(arg)\n",
    "    return result\n",
    "\n",
    "stick(4,5)\n",
    "stick('Python', ' ', '3.8')"
   ]
  },
  {
   "cell_type": "code",
   "execution_count": 8,
   "id": "477f5bf6",
   "metadata": {},
   "outputs": [
    {
     "ename": "TypeError",
     "evalue": "stick() got an unexpected keyword argument 'var'",
     "output_type": "error",
     "traceback": [
      "\u001b[1;31m---------------------------------------------------------------------------\u001b[0m",
      "\u001b[1;31mTypeError\u001b[0m                                 Traceback (most recent call last)",
      "\u001b[1;32m<ipython-input-8-8c65a90553f1>\u001b[0m in \u001b[0;36m<module>\u001b[1;34m\u001b[0m\n\u001b[1;32m----> 1\u001b[1;33m \u001b[0mstick\u001b[0m\u001b[1;33m(\u001b[0m\u001b[0mvar\u001b[0m\u001b[1;33m=\u001b[0m\u001b[1;34m'Python'\u001b[0m\u001b[1;33m)\u001b[0m\u001b[1;33m\u001b[0m\u001b[1;33m\u001b[0m\u001b[0m\n\u001b[0m",
      "\u001b[1;31mTypeError\u001b[0m: stick() got an unexpected keyword argument 'var'"
     ]
    }
   ],
   "source": [
    "stick(var='Python')"
   ]
  },
  {
   "cell_type": "code",
   "execution_count": 10,
   "id": "9f1ab2b8",
   "metadata": {},
   "outputs": [
    {
     "name": "stdout",
     "output_type": "stream",
     "text": [
      "0\n",
      "{}\n",
      "2\n",
      "{'var': 'Python', 'var2': '3.8'}\n"
     ]
    }
   ],
   "source": [
    "def sample(**kwargs):\n",
    "    print(len(kwargs))\n",
    "    print(kwargs)\n",
    "sample()\n",
    "sample(var='Python', var2='3.8')"
   ]
  },
  {
   "cell_type": "code",
   "execution_count": 14,
   "id": "75373134",
   "metadata": {},
   "outputs": [
    {
     "name": "stdout",
     "output_type": "stream",
     "text": [
      "('name', 'John')\n",
      "('age', 29)\n"
     ]
    }
   ],
   "source": [
    "def func(**kwargs):\n",
    "    for item in kwargs.items():\n",
    "        print(item)\n",
    "func()\n",
    "func(name='John', age=29)"
   ]
  },
  {
   "cell_type": "code",
   "execution_count": 19,
   "id": "496d1aa4",
   "metadata": {},
   "outputs": [
    {
     "name": "stdout",
     "output_type": "stream",
     "text": [
      "Hello\n",
      "Hello\n",
      "Hello John\n"
     ]
    }
   ],
   "source": [
    "def hello(**kwargs):\n",
    "    if 'name' in kwargs:\n",
    "        print(f\"Hello {kwargs['name']}\")\n",
    "    else:\n",
    "        print('Hello')\n",
    "hello()\n",
    "hello(var1='John')\n",
    "hello(name='John')"
   ]
  },
  {
   "cell_type": "code",
   "execution_count": 22,
   "id": "2cfae1fb",
   "metadata": {},
   "outputs": [
    {
     "data": {
      "text/plain": [
       "77"
      ]
     },
     "execution_count": 22,
     "metadata": {},
     "output_type": "execute_result"
    }
   ],
   "source": [
    "def sum_int(**kwargs):\n",
    "    if kwargs:\n",
    "        result = 0\n",
    "        for kwarg in kwargs.values():\n",
    "            if isinstance(kwarg, int):\n",
    "                result += kwarg\n",
    "        return result\n",
    "    return None\n",
    "\n",
    "sum_int()\n",
    "sum_int(name='John')\n",
    "sum_int(name='John', game1=43,game2=34,ratio=0.5)\n",
    "                "
   ]
  },
  {
   "cell_type": "code",
   "execution_count": 23,
   "id": "b0471be6",
   "metadata": {},
   "outputs": [
    {
     "name": "stdout",
     "output_type": "stream",
     "text": [
      "()\n",
      "{}\n"
     ]
    }
   ],
   "source": [
    "def sample(*args, **kwargs):\n",
    "    print(args)\n",
    "    print(kwargs)\n",
    "sample()"
   ]
  },
  {
   "cell_type": "code",
   "execution_count": 24,
   "id": "ece65d7f",
   "metadata": {},
   "outputs": [
    {
     "name": "stdout",
     "output_type": "stream",
     "text": [
      "(3, 4, 6)\n",
      "{}\n"
     ]
    }
   ],
   "source": [
    "sample(3,4,6)"
   ]
  },
  {
   "cell_type": "code",
   "execution_count": 25,
   "id": "75e68ffc",
   "metadata": {},
   "outputs": [
    {
     "name": "stdout",
     "output_type": "stream",
     "text": [
      "(3, 4, 6)\n",
      "{'var': 1, 'var2': 'Stop'}\n"
     ]
    }
   ],
   "source": [
    "sample(3,4,6, var=1,var2='Stop')"
   ]
  },
  {
   "cell_type": "code",
   "execution_count": 27,
   "id": "7f6d954b",
   "metadata": {},
   "outputs": [
    {
     "name": "stdout",
     "output_type": "stream",
     "text": [
      "()\n",
      "{'apple': 1, 'banana': 2}\n"
     ]
    }
   ],
   "source": [
    "stock= {'apple':1,'banana':2}\n",
    "sample(**stock)"
   ]
  },
  {
   "cell_type": "code",
   "execution_count": null,
   "id": "3ab1cc02",
   "metadata": {},
   "outputs": [],
   "source": []
  }
 ],
 "metadata": {
  "kernelspec": {
   "display_name": "Python 3",
   "language": "python",
   "name": "python3"
  },
  "language_info": {
   "codemirror_mode": {
    "name": "ipython",
    "version": 3
   },
   "file_extension": ".py",
   "mimetype": "text/x-python",
   "name": "python",
   "nbconvert_exporter": "python",
   "pygments_lexer": "ipython3",
   "version": "3.8.8"
  }
 },
 "nbformat": 4,
 "nbformat_minor": 5
}
