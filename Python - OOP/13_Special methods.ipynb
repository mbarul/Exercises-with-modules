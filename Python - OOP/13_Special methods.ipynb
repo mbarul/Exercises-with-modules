{
 "cells": [
  {
   "cell_type": "markdown",
   "id": "f7a6164a",
   "metadata": {},
   "source": [
    "Special methods:\n",
    "* __new__\n",
    "* __init__\n",
    "* __del__\n",
    "* __str__\n",
    "* __repr__\n",
    "* __len__\n",
    "* __bool__"
   ]
  },
  {
   "cell_type": "code",
   "execution_count": 1,
   "id": "ae7ee198",
   "metadata": {},
   "outputs": [],
   "source": [
    "class Company:\n",
    "    \"\"\"Company docs\"\"\"\n",
    "    def __init__(self, name):\n",
    "        self.name = name\n",
    "        "
   ]
  },
  {
   "cell_type": "code",
   "execution_count": 2,
   "id": "ebead5f8",
   "metadata": {},
   "outputs": [],
   "source": [
    "company = Company('Microsoft')"
   ]
  },
  {
   "cell_type": "code",
   "execution_count": 3,
   "id": "d0f20bb2",
   "metadata": {},
   "outputs": [
    {
     "data": {
      "text/plain": [
       "{'name': 'Microsoft'}"
      ]
     },
     "execution_count": 3,
     "metadata": {},
     "output_type": "execute_result"
    }
   ],
   "source": [
    "company.__dict__"
   ]
  },
  {
   "cell_type": "markdown",
   "id": "f7726727",
   "metadata": {},
   "source": [
    "### __new__"
   ]
  },
  {
   "cell_type": "code",
   "execution_count": 4,
   "id": "129ef919",
   "metadata": {},
   "outputs": [],
   "source": [
    "company2 = Company.__new__(Company)"
   ]
  },
  {
   "cell_type": "code",
   "execution_count": 5,
   "id": "76a3d998",
   "metadata": {},
   "outputs": [
    {
     "data": {
      "text/plain": [
       "<__main__.Company at 0x20bcf24bb50>"
      ]
     },
     "execution_count": 5,
     "metadata": {},
     "output_type": "execute_result"
    }
   ],
   "source": [
    "company2"
   ]
  },
  {
   "cell_type": "markdown",
   "id": "d01b956a",
   "metadata": {},
   "source": [
    "### __init__"
   ]
  },
  {
   "cell_type": "code",
   "execution_count": 6,
   "id": "d8162d6b",
   "metadata": {},
   "outputs": [],
   "source": [
    "company2.__init__('Microsoft')"
   ]
  },
  {
   "cell_type": "code",
   "execution_count": 8,
   "id": "c427de8f",
   "metadata": {},
   "outputs": [
    {
     "data": {
      "text/plain": [
       "{'name': 'Microsoft'}"
      ]
     },
     "execution_count": 8,
     "metadata": {},
     "output_type": "execute_result"
    }
   ],
   "source": [
    "company2.__dict__"
   ]
  },
  {
   "cell_type": "markdown",
   "id": "da1af469",
   "metadata": {},
   "source": [
    "### repr"
   ]
  },
  {
   "cell_type": "code",
   "execution_count": 26,
   "id": "b308a564",
   "metadata": {},
   "outputs": [
    {
     "data": {
      "text/plain": [
       "mappingproxy({'__module__': '__main__',\n",
       "              '__init__': <function __main__.Phone.__init__(self, brand)>,\n",
       "              '__repr__': <function __main__.Phone.__repr__(self)>,\n",
       "              '__str__': <function __main__.Phone.__str__(self)>,\n",
       "              '__dict__': <attribute '__dict__' of 'Phone' objects>,\n",
       "              '__weakref__': <attribute '__weakref__' of 'Phone' objects>,\n",
       "              '__doc__': None})"
      ]
     },
     "execution_count": 26,
     "metadata": {},
     "output_type": "execute_result"
    }
   ],
   "source": [
    "class Phone:\n",
    "    def __init__(self, brand):\n",
    "        self.brand = brand\n",
    "    \n",
    "    def __repr__(self):\n",
    "        return f\"Phone(brand='{self.brand}')\"\n",
    "    \n",
    "    def __str__(self):\n",
    "        return f\"{self.brand} brand mobile phone\"\n",
    "        \n",
    "Phone.__dict__"
   ]
  },
  {
   "cell_type": "code",
   "execution_count": 27,
   "id": "e0938142",
   "metadata": {},
   "outputs": [
    {
     "data": {
      "text/plain": [
       "__main__.Phone"
      ]
     },
     "execution_count": 27,
     "metadata": {},
     "output_type": "execute_result"
    }
   ],
   "source": [
    "Phone"
   ]
  },
  {
   "cell_type": "code",
   "execution_count": 28,
   "id": "31a5e2fc",
   "metadata": {},
   "outputs": [
    {
     "data": {
      "text/plain": [
       "\"<class '__main__.Phone'>\""
      ]
     },
     "execution_count": 28,
     "metadata": {},
     "output_type": "execute_result"
    }
   ],
   "source": [
    "repr(Phone)"
   ]
  },
  {
   "cell_type": "code",
   "execution_count": 29,
   "id": "f0d82da5",
   "metadata": {},
   "outputs": [],
   "source": [
    "phone = Phone('Apple')"
   ]
  },
  {
   "cell_type": "code",
   "execution_count": 30,
   "id": "00aa5c0b",
   "metadata": {},
   "outputs": [
    {
     "data": {
      "text/plain": [
       "\"Phone(brand='Apple')\""
      ]
     },
     "execution_count": 30,
     "metadata": {},
     "output_type": "execute_result"
    }
   ],
   "source": [
    "repr(phone)"
   ]
  },
  {
   "cell_type": "markdown",
   "id": "1495a079",
   "metadata": {},
   "source": [
    "### __Str__"
   ]
  },
  {
   "cell_type": "code",
   "execution_count": 31,
   "id": "00c0cae6",
   "metadata": {},
   "outputs": [
    {
     "data": {
      "text/plain": [
       "Phone(brand='Apple')"
      ]
     },
     "execution_count": 31,
     "metadata": {},
     "output_type": "execute_result"
    }
   ],
   "source": [
    "phone"
   ]
  },
  {
   "cell_type": "code",
   "execution_count": 32,
   "id": "70283c57",
   "metadata": {},
   "outputs": [
    {
     "data": {
      "text/plain": [
       "'Apple brand mobile phone'"
      ]
     },
     "execution_count": 32,
     "metadata": {},
     "output_type": "execute_result"
    }
   ],
   "source": [
    "str(phone)"
   ]
  },
  {
   "cell_type": "code",
   "execution_count": 33,
   "id": "7620aa4b",
   "metadata": {},
   "outputs": [
    {
     "name": "stdout",
     "output_type": "stream",
     "text": [
      "Apple brand mobile phone\n"
     ]
    }
   ],
   "source": [
    "print(phone)"
   ]
  },
  {
   "cell_type": "markdown",
   "id": "64f4ba05",
   "metadata": {},
   "source": [
    "### __len__"
   ]
  },
  {
   "cell_type": "code",
   "execution_count": 39,
   "id": "74d083ea",
   "metadata": {},
   "outputs": [],
   "source": [
    "class Point:\n",
    "    def __init__(self, *args):\n",
    "        for value in args:\n",
    "            if not isinstance(value, (int,float)):\n",
    "                raise ValueError('Coordunates must be of type int or float.')\n",
    "        self._args = args\n",
    "    \n",
    "    def __repr__(self):\n",
    "        return f\"Point {self._args}\"\n",
    "    \n",
    "    @property\n",
    "    def coords(self):\n",
    "        return self._args"
   ]
  },
  {
   "cell_type": "code",
   "execution_count": 40,
   "id": "b4c251ab",
   "metadata": {},
   "outputs": [],
   "source": [
    "p = Point (6,5)"
   ]
  },
  {
   "cell_type": "code",
   "execution_count": 41,
   "id": "e4ba40ad",
   "metadata": {},
   "outputs": [
    {
     "data": {
      "text/plain": [
       "Point (6, 5)"
      ]
     },
     "execution_count": 41,
     "metadata": {},
     "output_type": "execute_result"
    }
   ],
   "source": [
    "p"
   ]
  },
  {
   "cell_type": "code",
   "execution_count": 42,
   "id": "da46bed4",
   "metadata": {},
   "outputs": [
    {
     "data": {
      "text/plain": [
       "{'_args': (6, 5)}"
      ]
     },
     "execution_count": 42,
     "metadata": {},
     "output_type": "execute_result"
    }
   ],
   "source": [
    "p.__dict__"
   ]
  },
  {
   "cell_type": "code",
   "execution_count": 55,
   "id": "9d2c9221",
   "metadata": {},
   "outputs": [],
   "source": [
    "class Point:\n",
    "    def __init__(self, *args):\n",
    "        for value in args:\n",
    "            if not isinstance(value, (int,float)):\n",
    "                raise ValueError('Coordunates must be of type int or float.')\n",
    "        self._args = args\n",
    "    \n",
    "    def __repr__(self):\n",
    "        return f\"Point {self._args}\"\n",
    "    \n",
    "    def __len__(self):\n",
    "        return len(self._args)\n",
    "    \n",
    "    def __bool__(self):\n",
    "        return sum(self._args) != 0\n",
    "    @property\n",
    "    def coords(self):\n",
    "        return self._args"
   ]
  },
  {
   "cell_type": "code",
   "execution_count": 56,
   "id": "60aba354",
   "metadata": {},
   "outputs": [],
   "source": [
    "q = Point(3,2,5,6,7)"
   ]
  },
  {
   "cell_type": "code",
   "execution_count": 57,
   "id": "21117b71",
   "metadata": {},
   "outputs": [
    {
     "data": {
      "text/plain": [
       "Point (3, 2, 5, 6, 7)"
      ]
     },
     "execution_count": 57,
     "metadata": {},
     "output_type": "execute_result"
    }
   ],
   "source": [
    "q"
   ]
  },
  {
   "cell_type": "code",
   "execution_count": 58,
   "id": "984f9a05",
   "metadata": {},
   "outputs": [
    {
     "data": {
      "text/plain": [
       "5"
      ]
     },
     "execution_count": 58,
     "metadata": {},
     "output_type": "execute_result"
    }
   ],
   "source": [
    "len(q)"
   ]
  },
  {
   "cell_type": "code",
   "execution_count": 59,
   "id": "89912b90",
   "metadata": {},
   "outputs": [
    {
     "data": {
      "text/plain": [
       "5"
      ]
     },
     "execution_count": 59,
     "metadata": {},
     "output_type": "execute_result"
    }
   ],
   "source": [
    "q.__len__()"
   ]
  },
  {
   "cell_type": "code",
   "execution_count": 60,
   "id": "8f6e0813",
   "metadata": {},
   "outputs": [
    {
     "data": {
      "text/plain": [
       "True"
      ]
     },
     "execution_count": 60,
     "metadata": {},
     "output_type": "execute_result"
    }
   ],
   "source": [
    "q.__len__() == len(q)"
   ]
  },
  {
   "cell_type": "markdown",
   "id": "35947548",
   "metadata": {},
   "source": [
    "### __Bool__()"
   ]
  },
  {
   "cell_type": "code",
   "execution_count": 71,
   "id": "ac26405b",
   "metadata": {},
   "outputs": [],
   "source": [
    "p = Point(0,0,2)"
   ]
  },
  {
   "cell_type": "code",
   "execution_count": 72,
   "id": "08692e85",
   "metadata": {},
   "outputs": [],
   "source": [
    "q= Point(4,5)"
   ]
  },
  {
   "cell_type": "code",
   "execution_count": 73,
   "id": "82f7f9ae",
   "metadata": {},
   "outputs": [
    {
     "data": {
      "text/plain": [
       "(Point (0, 0, 2), Point (4, 5))"
      ]
     },
     "execution_count": 73,
     "metadata": {},
     "output_type": "execute_result"
    }
   ],
   "source": [
    "p,q"
   ]
  },
  {
   "cell_type": "code",
   "execution_count": 74,
   "id": "6c456c49",
   "metadata": {},
   "outputs": [
    {
     "data": {
      "text/plain": [
       "(True, True)"
      ]
     },
     "execution_count": 74,
     "metadata": {},
     "output_type": "execute_result"
    }
   ],
   "source": [
    "bool(p), bool(q)"
   ]
  },
  {
   "cell_type": "code",
   "execution_count": 75,
   "id": "a613892e",
   "metadata": {},
   "outputs": [
    {
     "data": {
      "text/plain": [
       "(True, True)"
      ]
     },
     "execution_count": 75,
     "metadata": {},
     "output_type": "execute_result"
    }
   ],
   "source": [
    "bool(p), bool(q)"
   ]
  },
  {
   "cell_type": "markdown",
   "id": "01bb0c93",
   "metadata": {},
   "source": [
    "#### binary operators"
   ]
  },
  {
   "cell_type": "code",
   "execution_count": 21,
   "id": "eed3cfde",
   "metadata": {},
   "outputs": [],
   "source": [
    "class Point:\n",
    "\n",
    "    def __init__(self, *coords):\n",
    "        for value in coords:\n",
    "            if not isinstance(value, (int, float)):\n",
    "                raise ValueError('Coordinates must be of type int or float.')\n",
    "        self._coords = coords\n",
    "\n",
    "    def __repr__(self):\n",
    "        return f\"Point(coords={self._coords})\"\n",
    "\n",
    "    def __add__(self, other):\n",
    "        coords = tuple(x + y for x, y in zip(self.coords, other.coords))\n",
    "        return Point(*coords)\n",
    "    \n",
    "    def __sub__(self,other):\n",
    "        if not isinstance(other, Point):\n",
    "            return NotImplemented\n",
    "        coords = tuple(x - y for x, y in zip(self.coords, other.coords))\n",
    "        return Point(*coords)\n",
    "    \n",
    "    def __mul__(self,other):\n",
    "        if not isinstance(other, Point):\n",
    "            return NotImplemented\n",
    "        coords = tuple(x * y for x, y in zip(self.coords, other.coords))\n",
    "        return Point(*coords)\n",
    "    \n",
    "    @property\n",
    "    def coords(self):\n",
    "        return self._coords"
   ]
  },
  {
   "cell_type": "code",
   "execution_count": 22,
   "id": "1dfa40a7",
   "metadata": {},
   "outputs": [],
   "source": [
    "p1 = Point(4,2)\n",
    "p2 = Point(5,2)"
   ]
  },
  {
   "cell_type": "code",
   "execution_count": 24,
   "id": "15529340",
   "metadata": {},
   "outputs": [
    {
     "data": {
      "text/plain": [
       "Point(coords=(20, 4))"
      ]
     },
     "execution_count": 24,
     "metadata": {},
     "output_type": "execute_result"
    }
   ],
   "source": [
    "p1 * p2 "
   ]
  },
  {
   "cell_type": "code",
   "execution_count": 20,
   "id": "fa150f3d",
   "metadata": {},
   "outputs": [],
   "source": [
    "class Integer:\n",
    "    def __init__(self, value= 0):\n",
    "        self.value = int(value)\n",
    "    \n",
    "    def __str__(self):\n",
    "        return str(self.value)\n",
    "    \n",
    "    def __repr__(self):\n",
    "        return f\"Integer {self.value}\"\n",
    "    def __add__(self,other):\n",
    "        if not isinstance(other, Integer):\n",
    "            return NotImplemented\n",
    "        return Integer(self.value + other.value)\n",
    "    def __sub__(self,other):\n",
    "        if not isinstance(other, Integer):\n",
    "            return NotImplemented\n",
    "        return Integer(self.value - other.value)"
   ]
  },
  {
   "cell_type": "code",
   "execution_count": 22,
   "id": "27bfb471",
   "metadata": {},
   "outputs": [],
   "source": [
    "inter = Integer(5)\n",
    "inter2 = Integer(54)"
   ]
  },
  {
   "cell_type": "code",
   "execution_count": 23,
   "id": "9a17f3a1",
   "metadata": {},
   "outputs": [
    {
     "data": {
      "text/plain": [
       "Integer 5"
      ]
     },
     "execution_count": 23,
     "metadata": {},
     "output_type": "execute_result"
    }
   ],
   "source": [
    "inter"
   ]
  },
  {
   "cell_type": "code",
   "execution_count": 24,
   "id": "910314c7",
   "metadata": {},
   "outputs": [
    {
     "name": "stdout",
     "output_type": "stream",
     "text": [
      "5\n"
     ]
    }
   ],
   "source": [
    "print(inter)"
   ]
  },
  {
   "cell_type": "code",
   "execution_count": 26,
   "id": "944c0c9a",
   "metadata": {},
   "outputs": [
    {
     "data": {
      "text/plain": [
       "Integer 49"
      ]
     },
     "execution_count": 26,
     "metadata": {},
     "output_type": "execute_result"
    }
   ],
   "source": [
    "inter2 - inter"
   ]
  },
  {
   "cell_type": "code",
   "execution_count": null,
   "id": "2a5f4e4a",
   "metadata": {},
   "outputs": [],
   "source": []
  }
 ],
 "metadata": {
  "kernelspec": {
   "display_name": "Python 3",
   "language": "python",
   "name": "python3"
  },
  "language_info": {
   "codemirror_mode": {
    "name": "ipython",
    "version": 3
   },
   "file_extension": ".py",
   "mimetype": "text/x-python",
   "name": "python",
   "nbconvert_exporter": "python",
   "pygments_lexer": "ipython3",
   "version": "3.8.8"
  }
 },
 "nbformat": 4,
 "nbformat_minor": 5
}
