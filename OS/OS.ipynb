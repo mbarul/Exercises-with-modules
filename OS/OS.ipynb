{
 "cells": [
  {
   "cell_type": "markdown",
   "id": "fd6a0fc5",
   "metadata": {},
   "source": [
    "## OS"
   ]
  },
  {
   "cell_type": "markdown",
   "id": "2d3926f9",
   "metadata": {},
   "source": [
    "### 1"
   ]
  },
  {
   "cell_type": "code",
   "execution_count": 8,
   "id": "aa94c674",
   "metadata": {},
   "outputs": [
    {
     "name": "stdout",
     "output_type": "stream",
     "text": [
      "C:\\Users\\marek.barul\\Desktop\\Python pliki\\kurs\\Untitled Folder\n"
     ]
    }
   ],
   "source": [
    "import os\n",
    "print(os.getcwd())"
   ]
  },
  {
   "cell_type": "markdown",
   "id": "240797e1",
   "metadata": {},
   "source": [
    "### 2"
   ]
  },
  {
   "cell_type": "code",
   "execution_count": 10,
   "id": "a7082536",
   "metadata": {},
   "outputs": [
    {
     "name": "stdout",
     "output_type": "stream",
     "text": [
      "['.ipynb_checkpoints', 'OS.ipynb']\n"
     ]
    }
   ],
   "source": [
    "import os\n",
    "print(os.listdir())"
   ]
  },
  {
   "cell_type": "markdown",
   "id": "1fd72c67",
   "metadata": {},
   "source": [
    "### 3"
   ]
  },
  {
   "cell_type": "code",
   "execution_count": 22,
   "id": "0fc30f2b",
   "metadata": {},
   "outputs": [
    {
     "name": "stdout",
     "output_type": "stream",
     "text": [
      "['e-commerce_Q1.csv', 'e-commerce_Q2.csv', 'e-commerce_Q3.csv', 'e-commerce_Q4.csv']\n"
     ]
    }
   ],
   "source": [
    "import os \n",
    "files=os.listdir()\n",
    "\n",
    "#initlailizing check letter\n",
    "check = 'e'\n",
    "\n",
    "#list comprehension + condition\n",
    "names = sorted([i for i in files if i[0].lower() == check.lower() ]\n",
    "print(names)\n",
    "\n",
    "\n"
   ]
  },
  {
   "cell_type": "markdown",
   "id": "c3776bbc",
   "metadata": {},
   "source": [
    "### 4"
   ]
  },
  {
   "cell_type": "code",
   "execution_count": 33,
   "id": "81aec968",
   "metadata": {},
   "outputs": [
    {
     "name": "stdout",
     "output_type": "stream",
     "text": [
      "['evaluate.py', 'exercise.py', 'result.py', 'run_unittest.py']\n"
     ]
    }
   ],
   "source": [
    "import os\n",
    "\n",
    "files= os.listdir()\n",
    "#checking the extension\n",
    "check = '.py'\n",
    "\n",
    "#list comprehension + condition\n",
    "names =sorted([i for i in files if i[-3:].lower()== check.lower()])\n",
    "print(names)\n"
   ]
  },
  {
   "cell_type": "markdown",
   "id": "34a5b579",
   "metadata": {},
   "source": [
    "### 5"
   ]
  },
  {
   "cell_type": "code",
   "execution_count": 39,
   "id": "76f20126",
   "metadata": {},
   "outputs": [
    {
     "name": "stdout",
     "output_type": "stream",
     "text": [
      "C:\\Users\\marek.barul\\Desktop\\Python pliki\\kurs\\Untitled Folder\\images\\images\\images\n"
     ]
    }
   ],
   "source": [
    "#os.mkdir('images')\n",
    "os.chdir('images')\n",
    "print(os.getcwd())"
   ]
  },
  {
   "cell_type": "markdown",
   "id": "6b1bb2c5",
   "metadata": {},
   "source": [
    "### 6"
   ]
  },
  {
   "cell_type": "code",
   "execution_count": null,
   "id": "d6cbae55",
   "metadata": {},
   "outputs": [],
   "source": []
  }
 ],
 "metadata": {
  "kernelspec": {
   "display_name": "Python 3",
   "language": "python",
   "name": "python3"
  },
  "language_info": {
   "codemirror_mode": {
    "name": "ipython",
    "version": 3
   },
   "file_extension": ".py",
   "mimetype": "text/x-python",
   "name": "python",
   "nbconvert_exporter": "python",
   "pygments_lexer": "ipython3",
   "version": "3.8.8"
  }
 },
 "nbformat": 4,
 "nbformat_minor": 5
}
