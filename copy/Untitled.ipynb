{
 "cells": [
  {
   "cell_type": "code",
   "execution_count": null,
   "id": "5f6f4718",
   "metadata": {},
   "outputs": [],
   "source": []
  },
  {
   "cell_type": "code",
   "execution_count": 9,
   "id": "8d7c6772",
   "metadata": {},
   "outputs": [
    {
     "name": "stdout",
     "output_type": "stream",
     "text": [
      "STOCKS: [['CDR', 'CRJ'], ['PLW'], ['TEN']]\n",
      "STOCKS COPIED: [['CDR', 'CRJ'], ['PLW'], ['TEN']]\n"
     ]
    }
   ],
   "source": [
    "import copy\n",
    "\n",
    "stocks= [['CDR','11B'],['PLW'],['TEN']]\n",
    "stocks_copied = copy.copy(stocks)\n",
    "stocks_copied[0][1]='CRJ'\n",
    "print(f'STOCKS: {stocks}')\n",
    "print(f'STOCKS COPIED: {stocks_copied}')"
   ]
  },
  {
   "cell_type": "code",
   "execution_count": 10,
   "id": "0768fecf",
   "metadata": {},
   "outputs": [
    {
     "name": "stdout",
     "output_type": "stream",
     "text": [
      "STOCKS: [['CDR', '11B'], ['PLW'], ['TEN']]\n",
      "STOCKS COPIED: [['CDR', 'CRJ'], ['PLW'], ['TEN']]\n"
     ]
    }
   ],
   "source": [
    "import copy\n",
    "stocks= [['CDR','11B'],['PLW'],['TEN']]\n",
    "stocks_copied = copy.deepcopy(stocks)\n",
    "stocks_copied[0][1]='CRJ'\n",
    "print(f'STOCKS: {stocks}')\n",
    "print(f'STOCKS COPIED: {stocks_copied}')"
   ]
  },
  {
   "cell_type": "code",
   "execution_count": null,
   "id": "3cff355f",
   "metadata": {},
   "outputs": [],
   "source": []
  }
 ],
 "metadata": {
  "kernelspec": {
   "display_name": "Python 3",
   "language": "python",
   "name": "python3"
  },
  "language_info": {
   "codemirror_mode": {
    "name": "ipython",
    "version": 3
   },
   "file_extension": ".py",
   "mimetype": "text/x-python",
   "name": "python",
   "nbconvert_exporter": "python",
   "pygments_lexer": "ipython3",
   "version": "3.8.8"
  }
 },
 "nbformat": 4,
 "nbformat_minor": 5
}
