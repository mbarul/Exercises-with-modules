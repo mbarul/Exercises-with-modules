{
 "cells": [
  {
   "cell_type": "markdown",
   "id": "94539b19",
   "metadata": {},
   "source": [
    "### 1"
   ]
  },
  {
   "cell_type": "code",
   "execution_count": 18,
   "id": "1fef1111",
   "metadata": {},
   "outputs": [
    {
     "name": "stdout",
     "output_type": "stream",
     "text": [
      "{0: 'a', 1: 'b', 2: 'c', 3: 'd', 4: 'e', 5: 'f', 6: 'g', 7: 'h', 8: 'i', 9: 'j', 10: 'k', 11: 'l', 12: 'm', 13: 'n', 14: 'o', 15: 'p', 16: 'q', 17: 'r', 18: 's', 19: 't', 20: 'u', 21: 'v', 22: 'w', 23: 'x', 24: 'y', 25: 'z'}\n",
      "{'a': 0, 'b': 1, 'c': 2, 'd': 3, 'e': 4, 'f': 5, 'g': 6, 'h': 7, 'i': 8, 'j': 9, 'k': 10, 'l': 11, 'm': 12, 'n': 13, 'o': 14, 'p': 15, 'q': 16, 'r': 17, 's': 18, 't': 19, 'u': 20, 'v': 21, 'w': 22, 'x': 23, 'y': 24, 'z': 25}\n",
      "surjudpplqj lq sbwkrq\n"
     ]
    }
   ],
   "source": [
    "import string\n",
    "\n",
    "docs = 'programming in python'\n",
    "code_map=dict(enumerate(string.ascii_lowercase))\n",
    "print(code_map)\n",
    "\n",
    "code_map_inv = {val: key for key, val in code_map.items()}\n",
    "print(code_map_inv)\n",
    "\n",
    "result= \"\"\n",
    "for char in docs:\n",
    "    if char == ' ':\n",
    "        result += ' '\n",
    "        continue\n",
    "    idx = (code_map_inv[char] +3 ) % 26\n",
    "    result += code_map[idx]\n",
    "    \n",
    "print(result)"
   ]
  },
  {
   "cell_type": "markdown",
   "id": "9584753e",
   "metadata": {},
   "source": [
    "### 2"
   ]
  },
  {
   "cell_type": "code",
   "execution_count": 25,
   "id": "0eb6a10a",
   "metadata": {},
   "outputs": [
    {
     "name": "stdout",
     "output_type": "stream",
     "text": [
      "Hello John,\n",
      "Thank you for visiting our website.\n",
      "Team, XYZ\n",
      "-----------------------------------\n",
      "Hello Paul,\n",
      "Thank you for visiting our website.\n",
      "Team, XYZ\n",
      "-----------------------------------\n",
      "Hello Lisa,\n",
      "Thank you for visiting our website.\n",
      "Team, XYZ\n",
      "-----------------------------------\n",
      "Hello Michael,\n",
      "Thank you for visiting our website.\n",
      "Team, XYZ\n",
      "-----------------------------------\n"
     ]
    }
   ],
   "source": [
    "from string import Template\n",
    "\n",
    "names= ['John', 'Paul', 'Lisa', 'Michael']\n",
    "\n",
    "email = \"\"\"Hello $name,\n",
    "Thank you for visiting our website.\n",
    "Team, XYZ\"\"\"\n",
    "\n",
    "template= Template(email)\n",
    "\n",
    "for name in names:\n",
    "    print(template.substitute(name=name))\n",
    "    print('-' * 35)"
   ]
  },
  {
   "cell_type": "code",
   "execution_count": null,
   "id": "47bbf3de",
   "metadata": {},
   "outputs": [],
   "source": []
  }
 ],
 "metadata": {
  "kernelspec": {
   "display_name": "Python 3",
   "language": "python",
   "name": "python3"
  },
  "language_info": {
   "codemirror_mode": {
    "name": "ipython",
    "version": 3
   },
   "file_extension": ".py",
   "mimetype": "text/x-python",
   "name": "python",
   "nbconvert_exporter": "python",
   "pygments_lexer": "ipython3",
   "version": "3.8.8"
  }
 },
 "nbformat": 4,
 "nbformat_minor": 5
}
