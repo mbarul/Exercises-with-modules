{
 "cells": [
  {
   "cell_type": "markdown",
   "id": "d48de8cb",
   "metadata": {},
   "source": [
    "## DATETIME"
   ]
  },
  {
   "cell_type": "markdown",
   "id": "9b55a2ab",
   "metadata": {},
   "source": [
    "### 1"
   ]
  },
  {
   "cell_type": "code",
   "execution_count": 7,
   "id": "47746107",
   "metadata": {},
   "outputs": [],
   "source": [
    "#help(datetime.date)"
   ]
  },
  {
   "cell_type": "code",
   "execution_count": 1,
   "id": "3a7a051b",
   "metadata": {},
   "outputs": [
    {
     "name": "stdout",
     "output_type": "stream",
     "text": [
      "2021-01-01 2021-07-31 1990-05-07\n"
     ]
    }
   ],
   "source": [
    "import datetime\n",
    "\n",
    "d1= datetime.date(2021,1,1)\n",
    "d2=datetime.date(2021,7,31)\n",
    "d3=datetime.date(1990,5,7)\n",
    "print(d1,d2,d3)"
   ]
  },
  {
   "cell_type": "markdown",
   "id": "67244302",
   "metadata": {},
   "source": [
    "### 2"
   ]
  },
  {
   "cell_type": "code",
   "execution_count": 8,
   "id": "2920f074",
   "metadata": {},
   "outputs": [],
   "source": [
    "#help(datetime.time)"
   ]
  },
  {
   "cell_type": "code",
   "execution_count": 6,
   "id": "b403f185",
   "metadata": {},
   "outputs": [
    {
     "name": "stdout",
     "output_type": "stream",
     "text": [
      "12:00:00 06:30:00 09:15:00\n"
     ]
    }
   ],
   "source": [
    "t1 = datetime.time(12,0,0)\n",
    "t2 = datetime.time(6,30,0)\n",
    "t3= datetime.time(9,15,0)\n",
    "\n",
    "print(t1,t2,t3)"
   ]
  },
  {
   "cell_type": "markdown",
   "id": "fa9573bd",
   "metadata": {},
   "source": [
    "### 3"
   ]
  },
  {
   "cell_type": "code",
   "execution_count": 23,
   "id": "5ed5e319",
   "metadata": {},
   "outputs": [],
   "source": [
    "#help(datetime.datetime)"
   ]
  },
  {
   "cell_type": "code",
   "execution_count": 10,
   "id": "0837f536",
   "metadata": {},
   "outputs": [
    {
     "name": "stdout",
     "output_type": "stream",
     "text": [
      "2020-07-20 11:30:00 1990-03-10 12:00:00 2021-01-01 00:00:00\n"
     ]
    }
   ],
   "source": [
    "dt1= datetime.datetime(2020,7,20, 11,30,0)\n",
    "dt2= datetime.datetime(1990,3,10, 12,0,0)\n",
    "dt3= datetime.datetime(2021,1,1, 0,0,0)\n",
    "\n",
    "print(dt1,dt2,dt3)"
   ]
  },
  {
   "cell_type": "markdown",
   "id": "4ff4f5da",
   "metadata": {},
   "source": [
    "### 4"
   ]
  },
  {
   "cell_type": "code",
   "execution_count": 17,
   "id": "303785c2",
   "metadata": {},
   "outputs": [
    {
     "name": "stdout",
     "output_type": "stream",
     "text": [
      "Number of days: 163\n"
     ]
    }
   ],
   "source": [
    "d1 = datetime.date(2020,7,21)\n",
    "d2=datetime.date(2020,12,31)\n",
    "diff = (d2-d1).days\n",
    "print(f\"Number of days: {diff}\" )"
   ]
  },
  {
   "cell_type": "markdown",
   "id": "64898325",
   "metadata": {},
   "source": [
    "### 5"
   ]
  },
  {
   "cell_type": "code",
   "execution_count": 22,
   "id": "81ae0063",
   "metadata": {},
   "outputs": [
    {
     "name": "stdout",
     "output_type": "stream",
     "text": [
      "214 days, 22:55:00\n"
     ]
    }
   ],
   "source": [
    "dt1 = datetime.datetime(2020, 7, 20, 11, 30, 0)\n",
    "dt2 = datetime.datetime(2021, 2, 20, 10, 25, 0)\n",
    "print(dt2 - dt1)"
   ]
  },
  {
   "cell_type": "markdown",
   "id": "9b8dcd63",
   "metadata": {},
   "source": [
    "### 6"
   ]
  },
  {
   "cell_type": "code",
   "execution_count": 24,
   "id": "f46a43a9",
   "metadata": {},
   "outputs": [
    {
     "name": "stdout",
     "output_type": "stream",
     "text": [
      "Help on method_descriptor:\n",
      "\n",
      "strftime(...)\n",
      "    format -> strftime() style string.\n",
      "\n"
     ]
    }
   ],
   "source": [
    "help(datetime.datetime.strftime)"
   ]
  },
  {
   "cell_type": "code",
   "execution_count": 37,
   "id": "0190683c",
   "metadata": {},
   "outputs": [
    {
     "name": "stdout",
     "output_type": "stream",
     "text": [
      "2021-04-20\n",
      "04-2021\n",
      "April-2021\n",
      "20-April,2021\n",
      "2021-04-20 11:30:00\n",
      "04/20/21 11:30:00\n",
      "20(Tue) April 21\n"
     ]
    }
   ],
   "source": [
    "date = datetime.datetime(2021,4,20,11,30,0)\n",
    "print(date.strftime('%Y-%m-%d'))\n",
    "print(date.strftime('%m-%Y'))\n",
    "print(date.strftime('%B-%Y'))\n",
    "print(date.strftime('%d-%B,%Y'))\n",
    "print(date.strftime('%Y-%m-%d %H:%M:%S'))\n",
    "print(date.strftime('%m/%d/%y %H:%M:%S'))\n",
    "print(date.strftime('%d(%a) %B %y' ))"
   ]
  },
  {
   "cell_type": "markdown",
   "id": "1d91c73b",
   "metadata": {},
   "source": [
    "### 7"
   ]
  },
  {
   "cell_type": "code",
   "execution_count": 45,
   "id": "23ceb75f",
   "metadata": {},
   "outputs": [
    {
     "name": "stdout",
     "output_type": "stream",
     "text": [
      "1995-03-03 00:00:00\n",
      "1995-09-03 00:00:00\n",
      "2021-07-21 00:00:00\n",
      "<class 'str'>\n",
      "<class 'datetime.datetime'>\n"
     ]
    }
   ],
   "source": [
    "from datetime import datetime\n",
    "\n",
    "date_str_1 = '3 March 1995'\n",
    "date_str_2 = '3/9/1995'\n",
    "date_str_3 = '21-07-2021'\n",
    "\n",
    "print(datetime.strptime(date_str_1, '%d %B %Y' ))\n",
    "print(datetime.strptime(date_str_2, '%d/%m/%Y' ))\n",
    "print(datetime.strptime(date_str_3, '%d-%m-%Y' ))\n",
    "print(type(date_str_1))\n",
    "print(type(datetime.strptime(date_str_3, '%d-%m-%Y' )))"
   ]
  },
  {
   "cell_type": "markdown",
   "id": "6f5840f9",
   "metadata": {},
   "source": [
    "### 8 "
   ]
  },
  {
   "cell_type": "code",
   "execution_count": 1,
   "id": "f1c86cec",
   "metadata": {},
   "outputs": [
    {
     "name": "stdout",
     "output_type": "stream",
     "text": [
      "Number of days until the end of the year: 84\n"
     ]
    }
   ],
   "source": [
    "import datetime\n",
    "\n",
    "d1 = datetime.datetime.now()\n",
    "d2 = datetime.datetime(d1.year + 1,1,1)\n",
    "diff = (d2 - d1).days\n",
    "print(f\"Number of days until the end of the year: {diff}\")"
   ]
  },
  {
   "cell_type": "markdown",
   "id": "4feb1a9e",
   "metadata": {},
   "source": [
    "### 9"
   ]
  },
  {
   "cell_type": "code",
   "execution_count": 2,
   "id": "471dd771",
   "metadata": {},
   "outputs": [
    {
     "name": "stdout",
     "output_type": "stream",
     "text": [
      "Until the end of the year: 84 days, 11:24:11.874247\n"
     ]
    }
   ],
   "source": [
    "import datetime\n",
    "\n",
    "d1 = datetime.datetime.now()\n",
    "d2 = datetime.datetime(d1.year + 1,1,1)\n",
    "diff = (d2 - d1)\n",
    "print(f\"Until the end of the year: {diff}\")"
   ]
  },
  {
   "cell_type": "markdown",
   "id": "ca235a58",
   "metadata": {},
   "source": [
    "### 10"
   ]
  },
  {
   "cell_type": "code",
   "execution_count": 15,
   "id": "d0f78e52",
   "metadata": {},
   "outputs": [
    {
     "name": "stdout",
     "output_type": "stream",
     "text": [
      "2020-01-01 00:00:00\n",
      "2020-01-08 00:00:00\n",
      "2020-01-31 00:00:00\n",
      "2020-01-02 06:00:00\n",
      "2020-01-01 00:15:00\n"
     ]
    }
   ],
   "source": [
    "import datetime\n",
    "\n",
    "dt = datetime.datetime(2020,1,1,0,0,)\n",
    "dt2 = dt + datetime.timedelta(days=7)\n",
    "dt3 = dt + datetime.timedelta(days=30)\n",
    "dt4 = dt + datetime.timedelta(hours=30)\n",
    "dt5 = dt + datetime.timedelta(minutes=15)\n",
    "print(dt)\n",
    "print(dt2)\n",
    "print(dt3)\n",
    "print(dt4)\n",
    "print(dt5)"
   ]
  },
  {
   "cell_type": "markdown",
   "id": "fbfa3a99",
   "metadata": {},
   "source": [
    "### 11"
   ]
  },
  {
   "cell_type": "code",
   "execution_count": 27,
   "id": "22c79178",
   "metadata": {},
   "outputs": [
    {
     "name": "stdout",
     "output_type": "stream",
     "text": [
      "0 2020-01-01 08:00:00\n",
      "1 2020-01-01 16:00:00\n",
      "2 2020-01-02 00:00:00\n",
      "3 2020-01-02 08:00:00\n",
      "4 2020-01-02 16:00:00\n",
      "5 2020-01-03 00:00:00\n",
      "6 2020-01-03 08:00:00\n",
      "7 2020-01-03 16:00:00\n",
      "8 2020-01-04 00:00:00\n",
      "9 2020-01-04 08:00:00\n",
      "10 2020-01-04 16:00:00\n",
      "2020-01-01 00:00:00\n",
      "2020-01-01 08:00:00\n",
      "2020-01-01 16:00:00\n",
      "2020-01-02 00:00:00\n",
      "2020-01-02 08:00:00\n",
      "2020-01-02 16:00:00\n",
      "2020-01-03 00:00:00\n",
      "2020-01-03 08:00:00\n",
      "2020-01-03 16:00:00\n",
      "2020-01-04 00:00:00\n",
      "2020-01-04 08:00:00\n",
      "2020-01-04 16:00:00\n"
     ]
    }
   ],
   "source": [
    "import datetime\n",
    "#1\n",
    "dt = datetime.datetime(2020,1,1,0,0,0)\n",
    "for i in range(11):\n",
    "    dt += datetime.timedelta(hours=8)\n",
    "    \n",
    "    print(i,dt)\n",
    "#2    \n",
    "d = datetime.datetime(2020, 1, 1)\n",
    "delta = datetime.timedelta(hours=8)\n",
    "\n",
    "dates = [d + i * delta for i in range(12)]\n",
    "\n",
    "for date in dates:\n",
    "    print(date)"
   ]
  },
  {
   "cell_type": "markdown",
   "id": "8c92b29f",
   "metadata": {},
   "source": [
    "### 12"
   ]
  },
  {
   "cell_type": "code",
   "execution_count": 31,
   "id": "0b7ac210",
   "metadata": {},
   "outputs": [
    {
     "name": "stdout",
     "output_type": "stream",
     "text": [
      "Future value: 1020.26 USD\n"
     ]
    }
   ],
   "source": [
    "import datetime\n",
    "rate=0.04\n",
    "pv = 1000\n",
    "daily_rate = rate/365.0\n",
    "d1=datetime.date(2021,7,1)\n",
    "d2=datetime.date(2021,12,31)\n",
    "duration = d2 - d1\n",
    "fv = pv *(1+daily_rate)** duration.days\n",
    "\n",
    "print(f'Future value: {fv:.2f} USD')"
   ]
  },
  {
   "cell_type": "code",
   "execution_count": null,
   "id": "a33c2186",
   "metadata": {},
   "outputs": [],
   "source": []
  }
 ],
 "metadata": {
  "kernelspec": {
   "display_name": "Python 3",
   "language": "python",
   "name": "python3"
  },
  "language_info": {
   "codemirror_mode": {
    "name": "ipython",
    "version": 3
   },
   "file_extension": ".py",
   "mimetype": "text/x-python",
   "name": "python",
   "nbconvert_exporter": "python",
   "pygments_lexer": "ipython3",
   "version": "3.8.8"
  }
 },
 "nbformat": 4,
 "nbformat_minor": 5
}
