{
 "cells": [
  {
   "cell_type": "markdown",
   "id": "fd6a0fc5",
   "metadata": {},
   "source": [
    "## OS"
   ]
  },
  {
   "cell_type": "markdown",
   "id": "2d3926f9",
   "metadata": {},
   "source": [
    "### 1"
   ]
  },
  {
   "cell_type": "code",
   "execution_count": 8,
   "id": "aa94c674",
   "metadata": {},
   "outputs": [
    {
     "name": "stdout",
     "output_type": "stream",
     "text": [
      "C:\\Users\\marek.barul\\Desktop\\Python pliki\\kurs\\Untitled Folder\n"
     ]
    }
   ],
   "source": [
    "import os\n",
    "print(os.getcwd())"
   ]
  },
  {
   "cell_type": "markdown",
   "id": "240797e1",
   "metadata": {},
   "source": [
    "### 2"
   ]
  },
  {
   "cell_type": "code",
   "execution_count": 10,
   "id": "a7082536",
   "metadata": {},
   "outputs": [
    {
     "name": "stdout",
     "output_type": "stream",
     "text": [
      "['.ipynb_checkpoints', 'OS.ipynb']\n"
     ]
    }
   ],
   "source": [
    "import os\n",
    "print(os.listdir())"
   ]
  },
  {
   "cell_type": "markdown",
   "id": "1fd72c67",
   "metadata": {},
   "source": [
    "### 3"
   ]
  },
  {
   "cell_type": "code",
   "execution_count": 22,
   "id": "0fc30f2b",
   "metadata": {},
   "outputs": [
    {
     "name": "stdout",
     "output_type": "stream",
     "text": [
      "['e-commerce_Q1.csv', 'e-commerce_Q2.csv', 'e-commerce_Q3.csv', 'e-commerce_Q4.csv']\n"
     ]
    }
   ],
   "source": [
    "import os \n",
    "files=os.listdir()\n",
    "\n",
    "#initlailizing check letter\n",
    "check = 'e'\n",
    "\n",
    "#list comprehension + condition\n",
    "names = sorted([i for i in files if i[0].lower() == check.lower() ]\n",
    "print(names)\n",
    "\n",
    "\n"
   ]
  },
  {
   "cell_type": "markdown",
   "id": "c3776bbc",
   "metadata": {},
   "source": [
    "### 4"
   ]
  },
  {
   "cell_type": "code",
   "execution_count": 33,
   "id": "81aec968",
   "metadata": {},
   "outputs": [
    {
     "name": "stdout",
     "output_type": "stream",
     "text": [
      "['evaluate.py', 'exercise.py', 'result.py', 'run_unittest.py']\n"
     ]
    }
   ],
   "source": [
    "import os\n",
    "\n",
    "files= os.listdir()\n",
    "#checking the extension\n",
    "check = '.py'\n",
    "\n",
    "#list comprehension + condition\n",
    "names =sorted([i for i in files if i[-3:].lower()== check.lower()])\n",
    "print(names)\n"
   ]
  },
  {
   "cell_type": "markdown",
   "id": "34a5b579",
   "metadata": {},
   "source": [
    "### 5"
   ]
  },
  {
   "cell_type": "code",
   "execution_count": 39,
   "id": "76f20126",
   "metadata": {},
   "outputs": [
    {
     "name": "stdout",
     "output_type": "stream",
     "text": [
      "C:\\Users\\marek.barul\\Desktop\\Python pliki\\kurs\\Untitled Folder\\images\\images\\images\n"
     ]
    }
   ],
   "source": [
    "#os.mkdir('images')\n",
    "os.chdir('images')\n",
    "print(os.getcwd())"
   ]
  },
  {
   "cell_type": "markdown",
   "id": "6b1bb2c5",
   "metadata": {},
   "source": [
    "### 6"
   ]
  },
  {
   "cell_type": "code",
   "execution_count": 8,
   "id": "d6cbae55",
   "metadata": {},
   "outputs": [
    {
     "name": "stdout",
     "output_type": "stream",
     "text": [
      "['01_sales', '02_sales', '03_sales', '04_sales', '05_sales', '06_sales', '07_sales', '08_sales', '09_sales', '10_sales', '11_sales', '12_sales']\n"
     ]
    }
   ],
   "source": [
    "import os\n",
    "os.getcwd()\n",
    "folder =os.mkdir('documents')\n",
    "dirnames = [f'{str(i).zfill(2)}_sales' for i in range(1,13)]\n",
    "for dirname in dirnames:\n",
    "    path = os.path.join('documents',dirname)\n",
    "    os.mkdir(path)\n",
    "print(sorted(os.listdir('documents')))"
   ]
  },
  {
   "cell_type": "code",
   "execution_count": 11,
   "id": "e93e4f77",
   "metadata": {},
   "outputs": [],
   "source": [
    "#os.getcwd() # -ścieżka aktualna\n",
    "#os.mkdir - utworzenie nowego pliku\n",
    "#(os.path.join('images', 'files')) -połączenie ścież"
   ]
  },
  {
   "cell_type": "markdown",
   "id": "69f70ee0",
   "metadata": {},
   "source": [
    "### 7"
   ]
  },
  {
   "cell_type": "code",
   "execution_count": 3,
   "id": "f3c2eff6",
   "metadata": {},
   "outputs": [
    {
     "ename": "NameError",
     "evalue": "name 'base_dir' is not defined",
     "output_type": "error",
     "traceback": [
      "\u001b[1;31m---------------------------------------------------------------------------\u001b[0m",
      "\u001b[1;31mNameError\u001b[0m                                 Traceback (most recent call last)",
      "\u001b[1;32m<ipython-input-3-0f11216a5ded>\u001b[0m in \u001b[0;36m<module>\u001b[1;34m\u001b[0m\n\u001b[0;32m      1\u001b[0m \u001b[1;32mimport\u001b[0m \u001b[0mos\u001b[0m\u001b[1;33m\u001b[0m\u001b[1;33m\u001b[0m\u001b[0m\n\u001b[1;32m----> 2\u001b[1;33m \u001b[1;32mfor\u001b[0m \u001b[0mroot\u001b[0m\u001b[1;33m,\u001b[0m \u001b[0mdirs\u001b[0m\u001b[1;33m,\u001b[0m \u001b[0mfiles\u001b[0m \u001b[1;32min\u001b[0m \u001b[0mos\u001b[0m\u001b[1;33m.\u001b[0m\u001b[0mwalk\u001b[0m\u001b[1;33m(\u001b[0m\u001b[0mbase_dir\u001b[0m\u001b[1;33m)\u001b[0m\u001b[1;33m:\u001b[0m\u001b[1;33m\u001b[0m\u001b[1;33m\u001b[0m\u001b[0m\n\u001b[0m\u001b[0;32m      3\u001b[0m     \u001b[0mprint\u001b[0m\u001b[1;33m(\u001b[0m\u001b[0mroot\u001b[0m\u001b[1;33m)\u001b[0m\u001b[1;33m\u001b[0m\u001b[1;33m\u001b[0m\u001b[0m\n",
      "\u001b[1;31mNameError\u001b[0m: name 'base_dir' is not defined"
     ]
    }
   ],
   "source": [
    "import os\n",
    "for root, dirs, files in os.walk(base_dir):\n",
    "    print(root)"
   ]
  },
  {
   "cell_type": "code",
   "execution_count": null,
   "id": "ac6bb08e",
   "metadata": {},
   "outputs": [],
   "source": []
  }
 ],
 "metadata": {
  "kernelspec": {
   "display_name": "Python 3",
   "language": "python",
   "name": "python3"
  },
  "language_info": {
   "codemirror_mode": {
    "name": "ipython",
    "version": 3
   },
   "file_extension": ".py",
   "mimetype": "text/x-python",
   "name": "python",
   "nbconvert_exporter": "python",
   "pygments_lexer": "ipython3",
   "version": "3.8.8"
  }
 },
 "nbformat": 4,
 "nbformat_minor": 5
}
